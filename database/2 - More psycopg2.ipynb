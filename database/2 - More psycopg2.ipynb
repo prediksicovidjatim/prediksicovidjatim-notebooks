{
 "cells": [
  {
   "cell_type": "markdown",
   "metadata": {},
   "source": [
    "# More psycopg2"
   ]
  },
  {
   "cell_type": "markdown",
   "metadata": {},
   "source": [
    "## Init"
   ]
  },
  {
   "cell_type": "code",
   "execution_count": 2,
   "metadata": {},
   "outputs": [],
   "source": [
    "import os\n",
    "import psycopg2\n",
    "import psycopg2.pool\n",
    "from dotenv import load_dotenv\n",
    "load_dotenv()\n",
    "\n",
    "DATABASE_URL = os.getenv(\"DATABASE_URL\")\n",
    "\n",
    "from prettyprinter import pprint"
   ]
  },
  {
   "cell_type": "code",
   "execution_count": 3,
   "metadata": {},
   "outputs": [],
   "source": [
    "#connection pool hack\n",
    "from contextlib import contextmanager\n",
    "@contextmanager\n",
    "def withconn(self, key=None):\n",
    "    try:\n",
    "        conn = self.getconn(key)\n",
    "        with conn:\n",
    "            yield conn\n",
    "    except:\n",
    "        raise\n",
    "    finally:\n",
    "        self.putconn(conn, key)\n",
    "        \n",
    "psycopg2.pool.ThreadedConnectionPool.withconn = withconn"
   ]
  },
  {
   "cell_type": "code",
   "execution_count": 4,
   "metadata": {},
   "outputs": [],
   "source": [
    "#psycopg2.pool.ThreadedConnectionPool(min_connection, max_connection, database_url)\n",
    "conn_pool = psycopg2.pool.ThreadedConnectionPool(0, 10, DATABASE_URL)"
   ]
  },
  {
   "cell_type": "code",
   "execution_count": 12,
   "metadata": {},
   "outputs": [],
   "source": [
    "def fetch_table_names():\n",
    "    with conn_pool.withconn() as conn, conn.cursor() as cur:\n",
    "        cur.execute(\"\"\"\n",
    "            SELECT\n",
    "                *\n",
    "            FROM\n",
    "                pg_catalog.pg_tables\n",
    "            WHERE\n",
    "                schemaname != 'pg_catalog'\n",
    "            AND schemaname != 'information_schema';\n",
    "        \"\"\")\n",
    "        table_names = [table[1] for table in cur.fetchall()]\n",
    "        return table_names"
   ]
  },
  {
   "cell_type": "code",
   "execution_count": 16,
   "metadata": {},
   "outputs": [],
   "source": [
    "def get_table_structure(table_name):\n",
    "    with conn_pool.withconn() as conn, conn.cursor() as cur:\n",
    "        cur.execute(\"\"\"\n",
    "            SELECT column_name, data_type, character_maximum_length\n",
    "            FROM INFORMATION_SCHEMA.COLUMNS \n",
    "            WHERE table_name = %s;\n",
    "        \"\"\", (table_name,)\n",
    "        )\n",
    "        return cur.fetchall()"
   ]
  },
  {
   "cell_type": "code",
   "execution_count": 17,
   "metadata": {},
   "outputs": [],
   "source": [
    "def fetch_table(table_name):\n",
    "    with conn_pool.withconn() as conn, conn.cursor() as cur:\n",
    "        cur.execute(\"\"\"\n",
    "            SELECT * FROM test\n",
    "        \"\"\")\n",
    "        return cur.fetchall()"
   ]
  },
  {
   "cell_type": "markdown",
   "metadata": {},
   "source": [
    "## Execute Many/Batch/Bulk"
   ]
  },
  {
   "cell_type": "code",
   "execution_count": 10,
   "metadata": {},
   "outputs": [
    {
     "name": "stdout",
     "output_type": "stream",
     "text": [
      "Rowcount: 1\n"
     ]
    },
    {
     "ename": "NameError",
     "evalue": "name 'fetch_table' is not defined",
     "output_type": "error",
     "traceback": [
      "\u001b[1;31m---------------------------------------------------------------------------\u001b[0m",
      "\u001b[1;31mNameError\u001b[0m                                 Traceback (most recent call last)",
      "\u001b[1;32m<ipython-input-10-0c953f677954>\u001b[0m in \u001b[0;36m<module>\u001b[1;34m\u001b[0m\n\u001b[0;32m      7\u001b[0m \u001b[1;33m\u001b[0m\u001b[0m\n\u001b[0;32m      8\u001b[0m \u001b[0mprint\u001b[0m\u001b[1;33m(\u001b[0m\u001b[1;34m\"Rowcount: \"\u001b[0m \u001b[1;33m+\u001b[0m \u001b[0mstr\u001b[0m\u001b[1;33m(\u001b[0m\u001b[0mdelete_all\u001b[0m\u001b[1;33m(\u001b[0m\u001b[1;34m\"test\"\u001b[0m\u001b[1;33m)\u001b[0m\u001b[1;33m)\u001b[0m\u001b[1;33m)\u001b[0m\u001b[1;33m\u001b[0m\u001b[1;33m\u001b[0m\u001b[0m\n\u001b[1;32m----> 9\u001b[1;33m \u001b[0mpprint\u001b[0m\u001b[1;33m(\u001b[0m\u001b[0mfetch_table\u001b[0m\u001b[1;33m(\u001b[0m\u001b[1;34m\"test\"\u001b[0m\u001b[1;33m)\u001b[0m\u001b[1;33m)\u001b[0m\u001b[1;33m\u001b[0m\u001b[1;33m\u001b[0m\u001b[0m\n\u001b[0m",
      "\u001b[1;31mNameError\u001b[0m: name 'fetch_table' is not defined"
     ]
    }
   ],
   "source": [
    "def delete_all(table_name):\n",
    "    with conn_pool.withconn() as conn, conn.cursor() as cur:\n",
    "        cur.execute(\"\"\"\n",
    "            DELETE FROM %s\n",
    "        \"\"\" % (table_name,))\n",
    "        return cur.rowcount\n",
    "    \n",
    "print(\"Rowcount: \" + str(delete_all(\"test\")))\n",
    "pprint(fetch_table(\"test\"))"
   ]
  },
  {
   "cell_type": "markdown",
   "metadata": {},
   "source": [
    "### executemany"
   ]
  },
  {
   "cell_type": "markdown",
   "metadata": {},
   "source": [
    "psycopg2 provides executemany to perform a query's execution with bulk data. However, executemany is not faster than a normal for loop."
   ]
  },
  {
   "cell_type": "code",
   "execution_count": 30,
   "metadata": {},
   "outputs": [
    {
     "name": "stdout",
     "output_type": "stream",
     "text": [
      "Rowcount: 2\n",
      "[(3, 4, 'executemany1'), (4, 5, 'executemany2')]\n"
     ]
    },
    {
     "data": {
      "text/plain": [
       "2"
      ]
     },
     "execution_count": 30,
     "metadata": {},
     "output_type": "execute_result"
    }
   ],
   "source": [
    "with conn_pool.withconn() as conn, conn.cursor() as cur:\n",
    "    cur.executemany(\"\"\"\n",
    "        INSERT INTO test(id, num, data) VALUES(%s, %s, %s)\n",
    "    \"\"\", [\n",
    "          (3, 4, \"executemany1\"),\n",
    "          (4, 5, \"executemany2\")\n",
    "    ])\n",
    "    print(\"Rowcount: \" + str(cur.rowcount))\n",
    "    \n",
    "pprint(fetch_table(\"test\"))\n",
    "delete_all(\"test\")"
   ]
  },
  {
   "cell_type": "markdown",
   "metadata": {},
   "source": [
    "### execute_batch"
   ]
  },
  {
   "cell_type": "markdown",
   "metadata": {},
   "source": [
    "execute_batch is faster than execute_many because it actually combines the multiple executions. However, it doesn't return accurate number of rows."
   ]
  },
  {
   "cell_type": "code",
   "execution_count": 31,
   "metadata": {},
   "outputs": [
    {
     "name": "stdout",
     "output_type": "stream",
     "text": [
      "Rowcount: 1\n",
      "[(3, 4, 'execute_batch1'), (4, 5, 'execute_batch2')]\n"
     ]
    },
    {
     "data": {
      "text/plain": [
       "2"
      ]
     },
     "execution_count": 31,
     "metadata": {},
     "output_type": "execute_result"
    }
   ],
   "source": [
    "from psycopg2.extras import execute_batch\n",
    "with conn_pool.withconn() as conn, conn.cursor() as cur:\n",
    "    execute_batch(cur, \"\"\"\n",
    "        INSERT INTO test(id, num, data) VALUES(%s, %s, %s)\n",
    "    \"\"\", [\n",
    "          (3, 4, \"execute_batch1\"),\n",
    "          (4, 5, \"execute_batch2\")\n",
    "    ])\n",
    "    print(\"Rowcount: \" + str(cur.rowcount))\n",
    "    \n",
    "pprint(fetch_table(\"test\"))\n",
    "delete_all(\"test\")"
   ]
  },
  {
   "cell_type": "markdown",
   "metadata": {},
   "source": [
    "### execute_values"
   ]
  },
  {
   "cell_type": "markdown",
   "metadata": {},
   "source": [
    "execute_values is supposed to be the fastest of all. However, it's usage is quite different. This is mainly only for INSERT, but it can also be used for UPDATE with some changes. Unlike execute_batch, it returns correct number of rows."
   ]
  },
  {
   "cell_type": "code",
   "execution_count": 48,
   "metadata": {},
   "outputs": [
    {
     "name": "stdout",
     "output_type": "stream",
     "text": [
      "Rowcount: 2\n",
      "[(3, 4, 'execute_values1'), (4, 5, 'execute_values2')]\n"
     ]
    }
   ],
   "source": [
    "from psycopg2.extras import execute_values\n",
    "with conn_pool.withconn() as conn, conn.cursor() as cur:\n",
    "    execute_values(cur, \"\"\"\n",
    "        INSERT INTO test(id, num, data) VALUES %s\n",
    "    \"\"\", [\n",
    "          (3, 4, \"execute_values1\"),\n",
    "          (4, 5, \"execute_values2\")\n",
    "    ])\n",
    "    print(\"Rowcount: \" + str(cur.rowcount))\n",
    "    \n",
    "pprint(fetch_table(\"test\"))"
   ]
  },
  {
   "cell_type": "code",
   "execution_count": 36,
   "metadata": {},
   "outputs": [
    {
     "name": "stdout",
     "output_type": "stream",
     "text": [
      "Rowcount: 2\n",
      "[(3, 4, 'execute_values_update1'), (4, 5, 'execute_values_update2')]\n"
     ]
    }
   ],
   "source": [
    "with conn_pool.withconn() as conn, conn.cursor() as cur:\n",
    "    execute_values(cur, \"\"\"\n",
    "        UPDATE test \n",
    "        SET data=newdata.data \n",
    "        FROM (VALUES %s) AS newdata(id, data)\n",
    "        WHERE test.id=newdata.id\n",
    "    \"\"\", [\n",
    "          (3, \"execute_values_update1\"),\n",
    "          (4, \"execute_values_update2\")\n",
    "    ])\n",
    "    print(\"Rowcount: \" + str(cur.rowcount))\n",
    "    \n",
    "pprint(fetch_table(\"test\"))"
   ]
  },
  {
   "cell_type": "code",
   "execution_count": 49,
   "metadata": {
    "scrolled": false
   },
   "outputs": [
    {
     "data": {
      "text/plain": [
       "2"
      ]
     },
     "execution_count": 49,
     "metadata": {},
     "output_type": "execute_result"
    }
   ],
   "source": [
    "delete_all(\"test\")"
   ]
  },
  {
   "cell_type": "markdown",
   "metadata": {},
   "source": [
    "### mogrify"
   ]
  },
  {
   "cell_type": "markdown",
   "metadata": {},
   "source": [
    "mogrify is a function to parametrize a query without executing it. The mogrify strategy takes advantage of SQL's ability to execute many inserts in one query. This is truly the fastest of all, but this is only applicable for insert. Aside that, the string returned from mogrify is a bytes string, so you need to decode it back. Due to using simple insert statement, it returns correct row count."
   ]
  },
  {
   "cell_type": "code",
   "execution_count": 45,
   "metadata": {},
   "outputs": [
    {
     "name": "stdout",
     "output_type": "stream",
     "text": [
      "Rowcount: 2\n",
      "[(3, 4, 'mogrify1'), (4, 5, 'mogrify2')]\n"
     ]
    },
    {
     "data": {
      "text/plain": [
       "2"
      ]
     },
     "execution_count": 45,
     "metadata": {},
     "output_type": "execute_result"
    }
   ],
   "source": [
    "with conn_pool.withconn() as conn, conn.cursor() as cur:\n",
    "    args = [\n",
    "        (3, 4, \"mogrify1\"),\n",
    "        (4, 5, \"mogrify2\")\n",
    "    ]\n",
    "    args_str = ','.join(cur.mogrify(\"(%s,%s,%s)\", x).decode('utf-8') for x in args)\n",
    "    cur.execute(\"\"\"\n",
    "        INSERT INTO test VALUES %s\n",
    "    \"\"\" % (args_str,))\n",
    "    print(\"Rowcount: \" + str(cur.rowcount))\n",
    "    \n",
    "pprint(fetch_table(\"test\"))\n",
    "delete_all(\"test\")"
   ]
  },
  {
   "cell_type": "markdown",
   "metadata": {},
   "source": [
    "## Insert Returning"
   ]
  },
  {
   "cell_type": "markdown",
   "metadata": {},
   "source": [
    "RETURNING clause can be used on INSERT query to return the auto increment PK."
   ]
  },
  {
   "cell_type": "code",
   "execution_count": 47,
   "metadata": {
    "scrolled": true
   },
   "outputs": [
    {
     "name": "stdout",
     "output_type": "stream",
     "text": [
      "Rowcount: 1\n",
      "Inserted ID: 1\n",
      "[(1, 2, 'hello')]\n"
     ]
    },
    {
     "data": {
      "text/plain": [
       "1"
      ]
     },
     "execution_count": 47,
     "metadata": {},
     "output_type": "execute_result"
    }
   ],
   "source": [
    "with conn_pool.withconn() as conn, conn.cursor() as cur:\n",
    "    cur.execute(\"\"\"\n",
    "        INSERT INTO test(id, num, data) \n",
    "        VALUES(%s, %s, %s)\n",
    "        RETURNING id\n",
    "    \"\"\", (1, 2, \"hello\"))\n",
    "    print(\"Rowcount: \" + str(cur.rowcount))\n",
    "    id, = cur.fetchone()\n",
    "    print(\"Inserted ID: \" + str(id))\n",
    "    \n",
    "pprint(fetch_table(\"test\"))\n",
    "delete_all(\"test\")"
   ]
  },
  {
   "cell_type": "markdown",
   "metadata": {},
   "source": [
    "Now, does it work with bulk insert?"
   ]
  },
  {
   "cell_type": "markdown",
   "metadata": {},
   "source": [
    "### executemany"
   ]
  },
  {
   "cell_type": "markdown",
   "metadata": {},
   "source": [
    "It doesn't work with executemany even though it returns the correct row count."
   ]
  },
  {
   "cell_type": "code",
   "execution_count": 59,
   "metadata": {},
   "outputs": [
    {
     "name": "stdout",
     "output_type": "stream",
     "text": [
      "Rowcount: 2\n"
     ]
    },
    {
     "ename": "ProgrammingError",
     "evalue": "no results to fetch",
     "output_type": "error",
     "traceback": [
      "\u001b[1;31m---------------------------------------------------------------------------\u001b[0m",
      "\u001b[1;31mProgrammingError\u001b[0m                          Traceback (most recent call last)",
      "\u001b[1;32m<ipython-input-59-5cb02c29cff1>\u001b[0m in \u001b[0;36m<module>\u001b[1;34m\u001b[0m\n\u001b[0;32m      9\u001b[0m     ])\n\u001b[0;32m     10\u001b[0m     \u001b[0mprint\u001b[0m\u001b[1;33m(\u001b[0m\u001b[1;34m\"Rowcount: \"\u001b[0m \u001b[1;33m+\u001b[0m \u001b[0mstr\u001b[0m\u001b[1;33m(\u001b[0m\u001b[0mcur\u001b[0m\u001b[1;33m.\u001b[0m\u001b[0mrowcount\u001b[0m\u001b[1;33m)\u001b[0m\u001b[1;33m)\u001b[0m\u001b[1;33m\u001b[0m\u001b[1;33m\u001b[0m\u001b[0m\n\u001b[1;32m---> 11\u001b[1;33m     \u001b[0mpprint\u001b[0m\u001b[1;33m(\u001b[0m\u001b[0mcur\u001b[0m\u001b[1;33m.\u001b[0m\u001b[0mfetchall\u001b[0m\u001b[1;33m(\u001b[0m\u001b[1;33m)\u001b[0m\u001b[1;33m)\u001b[0m\u001b[1;33m\u001b[0m\u001b[1;33m\u001b[0m\u001b[0m\n\u001b[0m\u001b[0;32m     12\u001b[0m \u001b[1;33m\u001b[0m\u001b[0m\n\u001b[0;32m     13\u001b[0m \u001b[0mpprint\u001b[0m\u001b[1;33m(\u001b[0m\u001b[0mfetch_table\u001b[0m\u001b[1;33m(\u001b[0m\u001b[1;34m\"test\"\u001b[0m\u001b[1;33m)\u001b[0m\u001b[1;33m)\u001b[0m\u001b[1;33m\u001b[0m\u001b[1;33m\u001b[0m\u001b[0m\n",
      "\u001b[1;31mProgrammingError\u001b[0m: no results to fetch"
     ]
    }
   ],
   "source": [
    "with conn_pool.withconn() as conn, conn.cursor() as cur:\n",
    "    cur.executemany(\"\"\"\n",
    "        INSERT INTO test(id, num, data) \n",
    "        VALUES(%s, %s, %s)\n",
    "        RETURNING id\n",
    "    \"\"\", [\n",
    "          (3, 4, \"executemany1\"),\n",
    "          (4, 5, \"executemany2\")\n",
    "    ])\n",
    "    print(\"Rowcount: \" + str(cur.rowcount))\n",
    "    pprint(cur.fetchall())\n",
    "    \n",
    "pprint(fetch_table(\"test\"))\n",
    "delete_all(\"test\")"
   ]
  },
  {
   "cell_type": "markdown",
   "metadata": {},
   "source": [
    "### execute_batch"
   ]
  },
  {
   "cell_type": "markdown",
   "metadata": {},
   "source": [
    "execute_batch doesn't even return the correct row count, so of course it won't work."
   ]
  },
  {
   "cell_type": "code",
   "execution_count": 51,
   "metadata": {},
   "outputs": [
    {
     "name": "stdout",
     "output_type": "stream",
     "text": [
      "Rowcount: 1\n",
      "[(4,)]\n",
      "[\n",
      "    (1, 2, 'hello'),\n",
      "    (2, 3, 'bye'),\n",
      "    (3, 4, 'execute_batch1'),\n",
      "    (4, 5, 'execute_batch2')\n",
      "]\n"
     ]
    },
    {
     "data": {
      "text/plain": [
       "4"
      ]
     },
     "execution_count": 51,
     "metadata": {},
     "output_type": "execute_result"
    }
   ],
   "source": [
    "from psycopg2.extras import execute_batch\n",
    "with conn_pool.withconn() as conn, conn.cursor() as cur:\n",
    "    execute_batch(cur, \"\"\"\n",
    "        INSERT INTO test(id, num, data) \n",
    "        VALUES(%s, %s, %s)\n",
    "        RETURNING id\n",
    "    \"\"\", [\n",
    "          (3, 4, \"execute_batch1\"),\n",
    "          (4, 5, \"execute_batch2\")\n",
    "    ])\n",
    "    print(\"Rowcount: \" + str(cur.rowcount))\n",
    "    pprint(cur.fetchall())\n",
    "    \n",
    "pprint(fetch_table(\"test\"))\n",
    "delete_all(\"test\")"
   ]
  },
  {
   "cell_type": "markdown",
   "metadata": {},
   "source": [
    "### execute_values"
   ]
  },
  {
   "cell_type": "markdown",
   "metadata": {},
   "source": [
    "It works with execute_values."
   ]
  },
  {
   "cell_type": "code",
   "execution_count": 57,
   "metadata": {},
   "outputs": [
    {
     "name": "stdout",
     "output_type": "stream",
     "text": [
      "Rowcount: 2\n",
      "[(3,), (4,)]\n",
      "[(3, 4, 'execute_values1'), (4, 5, 'execute_values2')]\n"
     ]
    },
    {
     "data": {
      "text/plain": [
       "2"
      ]
     },
     "execution_count": 57,
     "metadata": {},
     "output_type": "execute_result"
    }
   ],
   "source": [
    "with conn_pool.withconn() as conn, conn.cursor() as cur:\n",
    "    execute_values(cur, \"\"\"\n",
    "        INSERT INTO test(id, num, data) \n",
    "        VALUES %s\n",
    "        RETURNING id\n",
    "    \"\"\", [\n",
    "          (3, 4, \"execute_values1\"),\n",
    "          (4, 5, \"execute_values2\")\n",
    "    ])\n",
    "    print(\"Rowcount: \" + str(cur.rowcount))\n",
    "    pprint(cur.fetchall())\n",
    "    \n",
    "pprint(fetch_table(\"test\"))\n",
    "delete_all(\"test\")"
   ]
  },
  {
   "cell_type": "markdown",
   "metadata": {},
   "source": [
    "### mogrify"
   ]
  },
  {
   "cell_type": "markdown",
   "metadata": {},
   "source": [
    "Obviously it works with mogrify, since it's just a simple insert."
   ]
  },
  {
   "cell_type": "code",
   "execution_count": 58,
   "metadata": {},
   "outputs": [
    {
     "name": "stdout",
     "output_type": "stream",
     "text": [
      "Rowcount: 2\n",
      "[(3,), (4,)]\n",
      "[(3, 4, 'mogrify1'), (4, 5, 'mogrify2')]\n"
     ]
    },
    {
     "data": {
      "text/plain": [
       "2"
      ]
     },
     "execution_count": 58,
     "metadata": {},
     "output_type": "execute_result"
    }
   ],
   "source": [
    "with conn_pool.withconn() as conn, conn.cursor() as cur:\n",
    "    args = [\n",
    "        (3, 4, \"mogrify1\"),\n",
    "        (4, 5, \"mogrify2\")\n",
    "    ]\n",
    "    args_str = ','.join(cur.mogrify(\"(%s,%s,%s)\", x).decode('utf-8') for x in args)\n",
    "    cur.execute(\"\"\"\n",
    "        INSERT INTO test \n",
    "        VALUES %s\n",
    "        RETURNING id\n",
    "    \"\"\" % (args_str,))\n",
    "    print(\"Rowcount: \" + str(cur.rowcount))\n",
    "    pprint(cur.fetchall())\n",
    "    \n",
    "pprint(fetch_table(\"test\"))\n",
    "delete_all(\"test\")"
   ]
  },
  {
   "cell_type": "markdown",
   "metadata": {},
   "source": [
    "## Insert On Conflict"
   ]
  },
  {
   "cell_type": "markdown",
   "metadata": {},
   "source": [
    "### INSERT ON CONFLICT DO NOTHING"
   ]
  },
  {
   "cell_type": "markdown",
   "metadata": {},
   "source": [
    "This is just like normal insert, except it doesn't throw any error when having conflicts, for example when PK value already exists. I will be doing two identical inserts. Notice the row count."
   ]
  },
  {
   "cell_type": "code",
   "execution_count": 60,
   "metadata": {},
   "outputs": [
    {
     "name": "stdout",
     "output_type": "stream",
     "text": [
      "Rowcount: 1\n",
      "Rowcount: 0\n",
      "[(2, 3, 'bye')]\n"
     ]
    },
    {
     "data": {
      "text/plain": [
       "1"
      ]
     },
     "execution_count": 60,
     "metadata": {},
     "output_type": "execute_result"
    }
   ],
   "source": [
    "with conn_pool.withconn() as conn, conn.cursor() as cur:\n",
    "    cur.execute(\"\"\"\n",
    "        INSERT INTO test(id, num, data) \n",
    "        VALUES(%s, %s, %s)\n",
    "        ON CONFLICT DO NOTHING\n",
    "    \"\"\", (2, 3, \"bye\"))\n",
    "    print(\"Rowcount: \" + str(cur.rowcount))\n",
    "    cur.execute(\"\"\"\n",
    "        INSERT INTO test(id, num, data) \n",
    "        VALUES(%s, %s, %s)\n",
    "        ON CONFLICT DO NOTHING\n",
    "    \"\"\", (2, 3, \"bye\"))\n",
    "    print(\"Rowcount: \" + str(cur.rowcount))\n",
    "    \n",
    "pprint(fetch_table(\"test\"))\n",
    "delete_all(\"test\")"
   ]
  },
  {
   "cell_type": "markdown",
   "metadata": {},
   "source": [
    "### INSERT ON CONFLICT DO UPDATE"
   ]
  },
  {
   "cell_type": "markdown",
   "metadata": {},
   "source": [
    "This is like an upsert, but with more control. When having a conflict, for example inserting a value which PK already exists in a row, you can update that row instead with this feature. The difference with upsert is that you can have more control on what to update and how to update it. With ON CONFLICT DO UDPATE, you must specify what conflict you want to handle. Also, you can access the data you passed and wanted to insert in the EXCLUDED object."
   ]
  },
  {
   "cell_type": "code",
   "execution_count": 63,
   "metadata": {},
   "outputs": [
    {
     "name": "stdout",
     "output_type": "stream",
     "text": [
      "Rowcount: 1\n",
      "Rowcount: 1\n",
      "[(2, 6, 'bye')]\n"
     ]
    },
    {
     "data": {
      "text/plain": [
       "1"
      ]
     },
     "execution_count": 63,
     "metadata": {},
     "output_type": "execute_result"
    }
   ],
   "source": [
    "with conn_pool.withconn() as conn, conn.cursor() as cur:\n",
    "    cur.execute(\"\"\"\n",
    "        INSERT INTO test(id, num, data) \n",
    "        VALUES(%s, %s, %s)\n",
    "    \"\"\", (2, 3, \"bye\"))\n",
    "    print(\"Rowcount: \" + str(cur.rowcount))\n",
    "    \n",
    "    cur.execute(\"\"\"\n",
    "        INSERT INTO test(id, num, data) \n",
    "        VALUES(%s, %s, %s)\n",
    "        ON CONFLICT (id) DO UPDATE SET\n",
    "            num=EXCLUDED.num+1\n",
    "    \"\"\", (2, 5, \"byeee\"))\n",
    "    print(\"Rowcount: \" + str(cur.rowcount))\n",
    "    \n",
    "pprint(fetch_table(\"test\"))\n",
    "delete_all(\"test\")"
   ]
  },
  {
   "cell_type": "markdown",
   "metadata": {},
   "source": [
    "## Accessing Row as Dictionary"
   ]
  },
  {
   "cell_type": "code",
   "execution_count": 20,
   "metadata": {},
   "outputs": [],
   "source": [
    "def print_row(data, id, num):\n",
    "    print(\"id: \" + str(id))\n",
    "    print(\"num: \" + str(num))\n",
    "    print(\"data: \" + data)"
   ]
  },
  {
   "cell_type": "markdown",
   "metadata": {},
   "source": [
    "### DictCursor"
   ]
  },
  {
   "cell_type": "markdown",
   "metadata": {},
   "source": [
    "DictCursor is a dictionary-like cursor. It's not actually a dictionary, but it provides dictionary-like interface (key based acceess). You can still access the values with indexes. You can also use this as dictionary for keyword args."
   ]
  },
  {
   "cell_type": "code",
   "execution_count": 23,
   "metadata": {
    "scrolled": true
   },
   "outputs": [
    {
     "name": "stdout",
     "output_type": "stream",
     "text": [
      "2\n",
      "3\n",
      "bye\n",
      "[2, 3, 'bye']\n",
      "id: 2\n",
      "num: 3\n",
      "data: bye\n"
     ]
    }
   ],
   "source": [
    "from psycopg2.extras import DictCursor\n",
    "\n",
    "with conn_pool.withconn() as conn, conn.cursor(cursor_factory=DictCursor) as cur:\n",
    "    cur.execute(\"\"\"\n",
    "        INSERT INTO test(id, num, data) \n",
    "        VALUES(%s, %s, %s)\n",
    "        ON CONFLICT DO NOTHING\n",
    "    \"\"\", (2, 3, \"bye\"))\n",
    "    \n",
    "    cur.execute(\"\"\"\n",
    "        SELECT * FROM test\n",
    "    \"\"\")\n",
    "    \n",
    "    for row in cur.fetchall():\n",
    "        print(row[\"id\"])\n",
    "        print(row[\"num\"])\n",
    "        print(row[\"data\"])\n",
    "        print(row)\n",
    "        \n",
    "        try:\n",
    "            print_row(**row)\n",
    "        except Exception:\n",
    "            print(\"Can't use as keyword args\")\n",
    "            "
   ]
  },
  {
   "cell_type": "markdown",
   "metadata": {},
   "source": [
    "### RealDictCursor"
   ]
  },
  {
   "cell_type": "markdown",
   "metadata": {},
   "source": [
    "RealDictCursor is really a dictionary based cursor. You can no longer access value by index. "
   ]
  },
  {
   "cell_type": "code",
   "execution_count": 24,
   "metadata": {},
   "outputs": [
    {
     "name": "stdout",
     "output_type": "stream",
     "text": [
      "2\n",
      "3\n",
      "bye\n",
      "RealDictRow([('id', 2), ('num', 3), ('data', 'bye')])\n",
      "id: 2\n",
      "num: 3\n",
      "data: bye\n"
     ]
    }
   ],
   "source": [
    "from psycopg2.extras import RealDictCursor\n",
    "\n",
    "with conn_pool.withconn() as conn, conn.cursor(cursor_factory=RealDictCursor) as cur:\n",
    "    \n",
    "    cur.execute(\"\"\"\n",
    "        SELECT * FROM test\n",
    "    \"\"\")\n",
    "    \n",
    "    for row in cur.fetchall():\n",
    "        print(row[\"id\"])\n",
    "        print(row[\"num\"])\n",
    "        print(row[\"data\"])\n",
    "        print(row)\n",
    "        \n",
    "        try:\n",
    "            print_row(**row)\n",
    "        except Exception:\n",
    "            print(\"Can't use as keyword args\")"
   ]
  },
  {
   "cell_type": "markdown",
   "metadata": {},
   "source": [
    "### Cleanup"
   ]
  },
  {
   "cell_type": "code",
   "execution_count": 25,
   "metadata": {},
   "outputs": [
    {
     "data": {
      "text/plain": [
       "1"
      ]
     },
     "execution_count": 25,
     "metadata": {},
     "output_type": "execute_result"
    }
   ],
   "source": [
    "delete_all(\"test\")"
   ]
  },
  {
   "cell_type": "markdown",
   "metadata": {},
   "source": [
    "This concludes this notebook."
   ]
  },
  {
   "cell_type": "code",
   "execution_count": null,
   "metadata": {},
   "outputs": [],
   "source": []
  }
 ],
 "metadata": {
  "kernelspec": {
   "display_name": "Python 3",
   "language": "python",
   "name": "python3"
  },
  "language_info": {
   "codemirror_mode": {
    "name": "ipython",
    "version": 3
   },
   "file_extension": ".py",
   "mimetype": "text/x-python",
   "name": "python",
   "nbconvert_exporter": "python",
   "pygments_lexer": "ipython3",
   "version": "3.7.6"
  }
 },
 "nbformat": 4,
 "nbformat_minor": 4
}
