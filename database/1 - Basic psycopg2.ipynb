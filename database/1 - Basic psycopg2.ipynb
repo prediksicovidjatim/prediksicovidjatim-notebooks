{
 "cells": [
  {
   "cell_type": "markdown",
   "metadata": {},
   "source": [
    "# Basic Postgresql"
   ]
  },
  {
   "cell_type": "markdown",
   "metadata": {},
   "source": [
    "## Init"
   ]
  },
  {
   "cell_type": "code",
   "execution_count": 114,
   "metadata": {},
   "outputs": [],
   "source": [
    "import os\n",
    "import psycopg2\n",
    "import psycopg2.pool\n",
    "from dotenv import load_dotenv\n",
    "load_dotenv()\n",
    "\n",
    "DATABASE_URL = os.getenv(\"DATABASE_URL\")\n",
    "\n",
    "from prettyprinter import pprint\n",
    "#pp = pprint.PrettyPrinter(indent=4)\n"
   ]
  },
  {
   "cell_type": "markdown",
   "metadata": {},
   "source": [
    "## Automatically Return Connection to Pool"
   ]
  },
  {
   "cell_type": "markdown",
   "metadata": {},
   "source": [
    "Usually, just using the connection with with statement is enough. It automatically closes the connection the program leaves the with context. However, it doesn't return the connection to its pool. Therefore, I find it better to create another context manager for this. However, I don't want to make a wrapper or subclass of the connection pool, so I will just use this hacky solution where I just insert the function into the connection pool class."
   ]
  },
  {
   "cell_type": "code",
   "execution_count": 112,
   "metadata": {},
   "outputs": [],
   "source": [
    "#connection pool hack\n",
    "from contextlib import contextmanager\n",
    "@contextmanager\n",
    "def withconn(self, key=None):\n",
    "    try:\n",
    "        conn = self.getconn(key)\n",
    "        with conn:\n",
    "            yield conn\n",
    "    except:\n",
    "        raise\n",
    "    finally:\n",
    "        self.putconn(conn, key)\n",
    "        \n",
    "psycopg2.pool.ThreadedConnectionPool.withconn = withconn"
   ]
  },
  {
   "cell_type": "markdown",
   "metadata": {},
   "source": [
    "## Create Connection Pool"
   ]
  },
  {
   "cell_type": "code",
   "execution_count": 113,
   "metadata": {},
   "outputs": [],
   "source": [
    "#psycopg2.pool.ThreadedConnectionPool(min_connection, max_connection, database_url)\n",
    "conn_pool = psycopg2.pool.ThreadedConnectionPool(0, 10, DATABASE_URL)"
   ]
  },
  {
   "cell_type": "markdown",
   "metadata": {},
   "source": [
    "## List All Tables"
   ]
  },
  {
   "cell_type": "markdown",
   "metadata": {},
   "source": [
    "Here we use one with statement for two objects: connection and cursor. This is how it's done generally unless you want to have persistent connection (with statement will close it after usage). Keeping persistent connection should only be done if you're sure the server won't close it from their side. If not persistent, connection should be closed if you will not immediately be using it again.\n",
    "\n",
    "Cursor is used to execute sql and retrieve results. Cursor should be reused if you're going to immediately execute another query. Cursor should be closed after you're done to clear the cached results. Usually the system will take care of the garbage, but this is just good practice because for some database that's not the case.\n",
    "\n",
    "All tables are listed in pg_catalog.pg_tables, including the catalog itself and the schema info. So to get all \"real\" tables, we have to exclude those two tables.\n",
    "\n",
    "Triple quotation marks are used to wrap multiline strings. The semicolon at the end of the query is sign of the end of a sql statement, but usually this is not needed unless you want to execute multiple statements in one go."
   ]
  },
  {
   "cell_type": "code",
   "execution_count": 52,
   "metadata": {},
   "outputs": [
    {
     "name": "stdout",
     "output_type": "stream",
     "text": [
      "[\n",
      "    'django_migrations',\n",
      "    'django_content_type',\n",
      "    'auth_permission',\n",
      "    'auth_group',\n",
      "    'auth_group_permissions',\n",
      "    'auth_user',\n",
      "    'auth_user_groups',\n",
      "    'auth_user_user_permissions',\n",
      "    'django_admin_log',\n",
      "    'django_session',\n",
      "    'web_greeting'\n",
      "]\n"
     ]
    }
   ],
   "source": [
    "def get_table_names():\n",
    "    with conn_pool.withconn() as conn, conn.cursor() as cur:\n",
    "        cur.execute(\"\"\"\n",
    "            SELECT\n",
    "                *\n",
    "            FROM\n",
    "                pg_catalog.pg_tables\n",
    "            WHERE\n",
    "                schemaname != 'pg_catalog'\n",
    "            AND schemaname != 'information_schema';\n",
    "        \"\"\")\n",
    "        table_names = [table[1] for table in cur.fetchall()]\n",
    "        return table_names\n",
    "    \n",
    "pprint(get_table_names())"
   ]
  },
  {
   "cell_type": "markdown",
   "metadata": {},
   "source": [
    "## Create Table"
   ]
  },
  {
   "cell_type": "markdown",
   "metadata": {},
   "source": [
    "The execute function doesn't return anything. cur.rowcount also will always return -1 whether create table succeeds or not. However, if it fails, it will throw an exception. If you want to create table only if it exists, use CREATE TABLE IF NOT EXISTS."
   ]
  },
  {
   "cell_type": "code",
   "execution_count": 69,
   "metadata": {
    "scrolled": true
   },
   "outputs": [
    {
     "ename": "DuplicateTable",
     "evalue": "relation \"test\" already exists\n",
     "output_type": "error",
     "traceback": [
      "\u001b[1;31m---------------------------------------------------------------------------\u001b[0m",
      "\u001b[1;31mDuplicateTable\u001b[0m                            Traceback (most recent call last)",
      "\u001b[1;32m<ipython-input-69-9a7ccef32d62>\u001b[0m in \u001b[0;36m<module>\u001b[1;34m\u001b[0m\n\u001b[0;32m      2\u001b[0m     cur.execute(\"\"\"\n\u001b[0;32m      3\u001b[0m         \u001b[0mCREATE\u001b[0m \u001b[0mTABLE\u001b[0m \u001b[0mtest\u001b[0m \u001b[1;33m(\u001b[0m\u001b[0mid\u001b[0m \u001b[0mserial\u001b[0m \u001b[0mPRIMARY\u001b[0m \u001b[0mKEY\u001b[0m\u001b[1;33m,\u001b[0m \u001b[0mnum\u001b[0m \u001b[0minteger\u001b[0m\u001b[1;33m,\u001b[0m \u001b[0mdata\u001b[0m \u001b[0mvarchar\u001b[0m\u001b[1;33m)\u001b[0m\u001b[1;33m;\u001b[0m\u001b[1;33m\u001b[0m\u001b[1;33m\u001b[0m\u001b[0m\n\u001b[1;32m----> 4\u001b[1;33m     \"\"\")\n\u001b[0m\u001b[0;32m      5\u001b[0m \u001b[1;33m\u001b[0m\u001b[0m\n\u001b[0;32m      6\u001b[0m \u001b[0mpprint\u001b[0m\u001b[1;33m(\u001b[0m\u001b[0mget_table_names\u001b[0m\u001b[1;33m(\u001b[0m\u001b[1;33m)\u001b[0m\u001b[1;33m)\u001b[0m\u001b[1;33m\u001b[0m\u001b[1;33m\u001b[0m\u001b[0m\n",
      "\u001b[1;31mDuplicateTable\u001b[0m: relation \"test\" already exists\n"
     ]
    }
   ],
   "source": [
    "with conn_pool.withconn() as conn, conn.cursor() as cur:\n",
    "    cur.execute(\"\"\"\n",
    "        CREATE TABLE test (id serial PRIMARY KEY, num integer, data varchar);\n",
    "    \"\"\")\n",
    "    "
   ]
  },
  {
   "cell_type": "code",
   "execution_count": 73,
   "metadata": {},
   "outputs": [
    {
     "name": "stdout",
     "output_type": "stream",
     "text": [
      "[\n",
      "    'django_migrations',\n",
      "    'django_content_type',\n",
      "    'auth_permission',\n",
      "    'auth_group',\n",
      "    'auth_group_permissions',\n",
      "    'auth_user',\n",
      "    'auth_user_groups',\n",
      "    'auth_user_user_permissions',\n",
      "    'django_admin_log',\n",
      "    'django_session',\n",
      "    'web_greeting',\n",
      "    'test'\n",
      "]\n"
     ]
    }
   ],
   "source": [
    "pprint(get_table_names())"
   ]
  },
  {
   "cell_type": "code",
   "execution_count": 70,
   "metadata": {},
   "outputs": [
    {
     "name": "stdout",
     "output_type": "stream",
     "text": [
      "[\n",
      "    'django_migrations',\n",
      "    'django_content_type',\n",
      "    'auth_permission',\n",
      "    'auth_group',\n",
      "    'auth_group_permissions',\n",
      "    'auth_user',\n",
      "    'auth_user_groups',\n",
      "    'auth_user_user_permissions',\n",
      "    'django_admin_log',\n",
      "    'django_session',\n",
      "    'web_greeting',\n",
      "    'test'\n",
      "]\n"
     ]
    }
   ],
   "source": [
    "with conn_pool.withconn() as conn, conn.cursor() as cur:\n",
    "    cur.execute(\"\"\"\n",
    "        CREATE TABLE IF NOT EXISTS test (id serial PRIMARY KEY, num integer, data varchar);\n",
    "    \"\"\")\n",
    "    \n",
    "pprint(get_table_names())"
   ]
  },
  {
   "cell_type": "markdown",
   "metadata": {},
   "source": [
    "## Drop Table"
   ]
  },
  {
   "cell_type": "markdown",
   "metadata": {},
   "source": [
    "Alternatively, you can drop the table first (yields quite different effect)."
   ]
  },
  {
   "cell_type": "code",
   "execution_count": 71,
   "metadata": {
    "scrolled": true
   },
   "outputs": [
    {
     "name": "stdout",
     "output_type": "stream",
     "text": [
      "[\n",
      "    'django_migrations',\n",
      "    'django_content_type',\n",
      "    'auth_permission',\n",
      "    'auth_group',\n",
      "    'auth_group_permissions',\n",
      "    'auth_user',\n",
      "    'auth_user_groups',\n",
      "    'auth_user_user_permissions',\n",
      "    'django_admin_log',\n",
      "    'django_session',\n",
      "    'web_greeting'\n",
      "]\n"
     ]
    }
   ],
   "source": [
    "with conn_pool.withconn() as conn, conn.cursor() as cur:\n",
    "    cur.execute(\"\"\"\n",
    "        DROP TABLE test;\n",
    "    \"\"\")\n",
    "    \n",
    "pprint(get_table_names())"
   ]
  },
  {
   "cell_type": "code",
   "execution_count": 72,
   "metadata": {
    "scrolled": true
   },
   "outputs": [
    {
     "name": "stdout",
     "output_type": "stream",
     "text": [
      "[\n",
      "    'django_migrations',\n",
      "    'django_content_type',\n",
      "    'auth_permission',\n",
      "    'auth_group',\n",
      "    'auth_group_permissions',\n",
      "    'auth_user',\n",
      "    'auth_user_groups',\n",
      "    'auth_user_user_permissions',\n",
      "    'django_admin_log',\n",
      "    'django_session',\n",
      "    'web_greeting',\n",
      "    'test'\n",
      "]\n"
     ]
    }
   ],
   "source": [
    "with conn_pool.withconn() as conn, conn.cursor() as cur:\n",
    "    cur.execute(\"\"\"\n",
    "        CREATE TABLE test (id serial PRIMARY KEY, num integer, data varchar);\n",
    "    \"\"\")\n",
    "    \n",
    "pprint(get_table_names())"
   ]
  },
  {
   "cell_type": "markdown",
   "metadata": {},
   "source": [
    "## Alter Table"
   ]
  },
  {
   "cell_type": "markdown",
   "metadata": {},
   "source": [
    "### View Table Structure"
   ]
  },
  {
   "cell_type": "code",
   "execution_count": 76,
   "metadata": {},
   "outputs": [
    {
     "name": "stdout",
     "output_type": "stream",
     "text": [
      "[\n",
      "    ('id', 'integer', None),\n",
      "    ('num', 'integer', None),\n",
      "    ('data', 'character varying', None),\n",
      "    ('data2', 'character varying', None)\n",
      "]\n"
     ]
    }
   ],
   "source": [
    "def get_table_structure(table_name):\n",
    "    with conn_pool.withconn() as conn, conn.cursor() as cur:\n",
    "        cur.execute(\"\"\"\n",
    "            SELECT column_name, data_type, character_maximum_length\n",
    "            FROM INFORMATION_SCHEMA.COLUMNS \n",
    "            WHERE table_name = '%s';\n",
    "        \"\"\" % (table_name,)\n",
    "        )\n",
    "        return cur.fetchall()\n",
    "    \n",
    "pprint(get_table_structure(\"test\"))"
   ]
  },
  {
   "cell_type": "markdown",
   "metadata": {},
   "source": [
    "### Add Column"
   ]
  },
  {
   "cell_type": "markdown",
   "metadata": {},
   "source": [
    "Add column is like create table; it throws an error if exists."
   ]
  },
  {
   "cell_type": "code",
   "execution_count": 83,
   "metadata": {
    "scrolled": true
   },
   "outputs": [
    {
     "name": "stdout",
     "output_type": "stream",
     "text": [
      "[\n",
      "    ('id', 'integer', None),\n",
      "    ('num', 'integer', None),\n",
      "    ('data', 'character varying', None),\n",
      "    ('data2', 'integer', None)\n",
      "]\n"
     ]
    }
   ],
   "source": [
    "with conn_pool.withconn() as conn, conn.cursor() as cur:\n",
    "    cur.execute(\"\"\"\n",
    "        ALTER TABLE test\n",
    "        ADD COLUMN data2 int;\n",
    "    \"\"\")\n",
    "    \n",
    "pprint(get_table_structure(\"test\"))"
   ]
  },
  {
   "cell_type": "markdown",
   "metadata": {},
   "source": [
    "### Alter Column"
   ]
  },
  {
   "cell_type": "markdown",
   "metadata": {},
   "source": [
    "You can change a column's data type. The USING clause is the clause that will process the existing data so you can handle the conversion better. {exp}::{type} is the syntatic sugar to cast an expression to another type. Here it is used to cast ints in the previous data2 column to varchar, so it will fit the new data type."
   ]
  },
  {
   "cell_type": "code",
   "execution_count": 84,
   "metadata": {},
   "outputs": [
    {
     "name": "stdout",
     "output_type": "stream",
     "text": [
      "[\n",
      "    ('id', 'integer', None),\n",
      "    ('num', 'integer', None),\n",
      "    ('data', 'character varying', None),\n",
      "    ('data2', 'character varying', 50)\n",
      "]\n"
     ]
    }
   ],
   "source": [
    "with conn_pool.withconn() as conn, conn.cursor() as cur:\n",
    "    cur.execute(\"\"\"\n",
    "        ALTER TABLE test\n",
    "        ALTER COLUMN data2 \n",
    "            TYPE varchar(50) \n",
    "            USING test::VARCHAR;\n",
    "    \"\"\")\n",
    "    \n",
    "pprint(get_table_structure(\"test\"))"
   ]
  },
  {
   "cell_type": "markdown",
   "metadata": {},
   "source": [
    "### Drop Column"
   ]
  },
  {
   "cell_type": "code",
   "execution_count": 85,
   "metadata": {},
   "outputs": [
    {
     "name": "stdout",
     "output_type": "stream",
     "text": [
      "[\n",
      "    ('id', 'integer', None),\n",
      "    ('num', 'integer', None),\n",
      "    ('data', 'character varying', None)\n",
      "]\n"
     ]
    }
   ],
   "source": [
    "with conn_pool.withconn() as conn, conn.cursor() as cur:\n",
    "    cur.execute(\"\"\"\n",
    "        ALTER TABLE test\n",
    "        DROP COLUMN data2;\n",
    "    \"\"\")\n",
    "    \n",
    "pprint(get_table_structure(\"test\"))"
   ]
  },
  {
   "cell_type": "markdown",
   "metadata": {},
   "source": [
    "## Insert Row"
   ]
  },
  {
   "cell_type": "markdown",
   "metadata": {},
   "source": [
    "We'll use the following function for ease."
   ]
  },
  {
   "cell_type": "code",
   "execution_count": 86,
   "metadata": {
    "scrolled": true
   },
   "outputs": [
    {
     "data": {
      "text/plain": [
       "[]"
      ]
     },
     "execution_count": 86,
     "metadata": {},
     "output_type": "execute_result"
    }
   ],
   "source": [
    "def fetch_table(table_name):\n",
    "    with conn_pool.withconn() as conn, conn.cursor() as cur:\n",
    "        cur.execute(\"\"\"\n",
    "            SELECT * FROM test\n",
    "        \"\"\")\n",
    "        return cur.fetchall()\n",
    "\n",
    "fetch_table(\"test\")"
   ]
  },
  {
   "cell_type": "markdown",
   "metadata": {},
   "source": [
    "We can just execute an insert statement to insert data. cur.rowcount will then return the number of rows inserted. cur.rowcount will be replaced by new value if you execute new query."
   ]
  },
  {
   "cell_type": "code",
   "execution_count": 90,
   "metadata": {},
   "outputs": [
    {
     "name": "stdout",
     "output_type": "stream",
     "text": [
      "1\n",
      "[(1, 2, 'hello')]\n"
     ]
    }
   ],
   "source": [
    "with conn_pool.withconn() as conn, conn.cursor() as cur:\n",
    "    cur.execute(\"\"\"\n",
    "        INSERT INTO test(id, num, data) VALUES(1, 2, 'hello')\n",
    "    \"\"\")\n",
    "    print(\"Rowcount: \" + str(cur.rowcount))\n",
    "    \n",
    "pprint(fetch_table(\"test\"))"
   ]
  },
  {
   "cell_type": "markdown",
   "metadata": {},
   "source": [
    "Inserting with value of primary key that already exists will throw an error."
   ]
  },
  {
   "cell_type": "code",
   "execution_count": 91,
   "metadata": {},
   "outputs": [
    {
     "ename": "UniqueViolation",
     "evalue": "duplicate key value violates unique constraint \"test_pkey\"\nDETAIL:  Key (id)=(1) already exists.\n",
     "output_type": "error",
     "traceback": [
      "\u001b[1;31m---------------------------------------------------------------------------\u001b[0m",
      "\u001b[1;31mUniqueViolation\u001b[0m                           Traceback (most recent call last)",
      "\u001b[1;32m<ipython-input-91-75992995cde7>\u001b[0m in \u001b[0;36m<module>\u001b[1;34m\u001b[0m\n\u001b[0;32m      2\u001b[0m     cur.execute(\"\"\"\n\u001b[0;32m      3\u001b[0m         \u001b[0mINSERT\u001b[0m \u001b[0mINTO\u001b[0m \u001b[0mtest\u001b[0m\u001b[1;33m(\u001b[0m\u001b[0mid\u001b[0m\u001b[1;33m,\u001b[0m \u001b[0mnum\u001b[0m\u001b[1;33m,\u001b[0m \u001b[0mdata\u001b[0m\u001b[1;33m)\u001b[0m \u001b[0mVALUES\u001b[0m\u001b[1;33m(\u001b[0m\u001b[1;36m1\u001b[0m\u001b[1;33m,\u001b[0m \u001b[1;36m2\u001b[0m\u001b[1;33m,\u001b[0m \u001b[1;34m'hello'\u001b[0m\u001b[1;33m)\u001b[0m\u001b[1;33m\u001b[0m\u001b[1;33m\u001b[0m\u001b[0m\n\u001b[1;32m----> 4\u001b[1;33m     \"\"\")\n\u001b[0m\u001b[0;32m      5\u001b[0m     \u001b[0mprint\u001b[0m\u001b[1;33m(\u001b[0m\u001b[0mcur\u001b[0m\u001b[1;33m.\u001b[0m\u001b[0mrowcount\u001b[0m\u001b[1;33m)\u001b[0m\u001b[1;33m\u001b[0m\u001b[1;33m\u001b[0m\u001b[0m\n\u001b[0;32m      6\u001b[0m \u001b[1;33m\u001b[0m\u001b[0m\n",
      "\u001b[1;31mUniqueViolation\u001b[0m: duplicate key value violates unique constraint \"test_pkey\"\nDETAIL:  Key (id)=(1) already exists.\n"
     ]
    }
   ],
   "source": [
    "with conn_pool.withconn() as conn, conn.cursor() as cur:\n",
    "    cur.execute(\"\"\"\n",
    "        INSERT INTO test(id, num, data) VALUES(1, 2, 'hello')\n",
    "    \"\"\")\n",
    "    print(\"Rowcount: \" + str(cur.rowcount))\n",
    "    \n",
    "pprint(fetch_table(\"test\"))"
   ]
  },
  {
   "cell_type": "markdown",
   "metadata": {},
   "source": [
    "Passing unsanitized data into a query risks sql injection. The best practice is to use prepared statement or parametrized statement/query instead of directly inserting the data into the query string. Of course, this isn't needed if you're sure that the data is safe, for example if it's a program constant. \n",
    "\n",
    "We'll use parametrized statement from now on."
   ]
  },
  {
   "cell_type": "code",
   "execution_count": 93,
   "metadata": {},
   "outputs": [
    {
     "name": "stdout",
     "output_type": "stream",
     "text": [
      "1\n",
      "[(1, 2, 'hello'), (2, 3, 'bye')]\n"
     ]
    }
   ],
   "source": [
    "with conn_pool.withconn() as conn, conn.cursor() as cur:\n",
    "    cur.execute(\"\"\"\n",
    "        INSERT INTO test(id, num, data) VALUES(%s, %s, %s)\n",
    "    \"\"\", (2, 3, \"bye\"))\n",
    "    print(\"Rowcount: \" + str(cur.rowcount))\n",
    "    \n",
    "pprint(fetch_table(\"test\"))"
   ]
  },
  {
   "cell_type": "markdown",
   "metadata": {},
   "source": [
    "## Update Row"
   ]
  },
  {
   "cell_type": "markdown",
   "metadata": {},
   "source": [
    "Pretty straight forward. It also returns rowcount as the number of rows updated."
   ]
  },
  {
   "cell_type": "code",
   "execution_count": 94,
   "metadata": {
    "scrolled": true
   },
   "outputs": [
    {
     "name": "stdout",
     "output_type": "stream",
     "text": [
      "1\n",
      "[(1, 2, 'hello'), (2, 5, 'bye')]\n"
     ]
    }
   ],
   "source": [
    "with conn_pool.withconn() as conn, conn.cursor() as cur:\n",
    "    cur.execute(\"\"\"\n",
    "        UPDATE test SET num=num+%s WHERE id=%s\n",
    "    \"\"\", (2, 2))\n",
    "    print(\"Rowcount: \" + str(cur.rowcount))\n",
    "    \n",
    "pprint(fetch_table(\"test\"))"
   ]
  },
  {
   "cell_type": "markdown",
   "metadata": {},
   "source": [
    "Different from MySQL, postgres counts rows updated to the same value. Here you see the rows are basically unchanged, because the new values are the same, but the rowcount still returns 1. In MySQL it will return 0 unless you change its settings."
   ]
  },
  {
   "cell_type": "code",
   "execution_count": 95,
   "metadata": {},
   "outputs": [
    {
     "name": "stdout",
     "output_type": "stream",
     "text": [
      "1\n",
      "[(1, 2, 'hello'), (2, 5, 'bye')]\n"
     ]
    }
   ],
   "source": [
    "with conn_pool.withconn() as conn, conn.cursor() as cur:\n",
    "    cur.execute(\"\"\"\n",
    "        UPDATE test SET num=%s WHERE id=%s\n",
    "    \"\"\", (5, 2))\n",
    "    print(\"Rowcount: \" + str(cur.rowcount))\n",
    "    \n",
    "pprint(fetch_table(\"test\"))"
   ]
  },
  {
   "cell_type": "markdown",
   "metadata": {},
   "source": [
    "## Delete Row"
   ]
  },
  {
   "cell_type": "markdown",
   "metadata": {},
   "source": [
    "Lastly, we delete rows. It can accept WHERE clause like UDPATE. rowcount returns the number of rows deleted."
   ]
  },
  {
   "cell_type": "code",
   "execution_count": 105,
   "metadata": {
    "scrolled": true
   },
   "outputs": [
    {
     "name": "stdout",
     "output_type": "stream",
     "text": [
      "1\n",
      "[]\n"
     ]
    }
   ],
   "source": [
    "with conn_pool.withconn() as conn, conn.cursor() as cur:\n",
    "    cur.execute(\"\"\"\n",
    "        DELETE FROM test\n",
    "    \"\"\")\n",
    "    print(\"Rowcount: \" + str(cur.rowcount))\n",
    "    \n",
    "pprint(fetch_table(\"test\"))"
   ]
  },
  {
   "cell_type": "markdown",
   "metadata": {},
   "source": [
    "## Transaction"
   ]
  },
  {
   "cell_type": "markdown",
   "metadata": {},
   "source": [
    "By default, autocommit is false. However, when using connection in with statement, it appears that it is automatically commited if succeeds. However, the previous queries should be rolled back if one is error. Let's test that."
   ]
  },
  {
   "cell_type": "code",
   "execution_count": 106,
   "metadata": {},
   "outputs": [
    {
     "ename": "UniqueViolation",
     "evalue": "duplicate key value violates unique constraint \"test_pkey\"\nDETAIL:  Key (id)=(2) already exists.\n",
     "output_type": "error",
     "traceback": [
      "\u001b[1;31m---------------------------------------------------------------------------\u001b[0m",
      "\u001b[1;31mUniqueViolation\u001b[0m                           Traceback (most recent call last)",
      "\u001b[1;32m<ipython-input-106-010f56e4eed9>\u001b[0m in \u001b[0;36m<module>\u001b[1;34m\u001b[0m\n\u001b[0;32m      8\u001b[0m     cur.execute(\"\"\"\n\u001b[0;32m      9\u001b[0m         \u001b[0mINSERT\u001b[0m \u001b[0mINTO\u001b[0m \u001b[0mtest\u001b[0m\u001b[1;33m(\u001b[0m\u001b[0mid\u001b[0m\u001b[1;33m,\u001b[0m \u001b[0mnum\u001b[0m\u001b[1;33m,\u001b[0m \u001b[0mdata\u001b[0m\u001b[1;33m)\u001b[0m \u001b[0mVALUES\u001b[0m\u001b[1;33m(\u001b[0m\u001b[1;33m%\u001b[0m\u001b[0ms\u001b[0m\u001b[1;33m,\u001b[0m \u001b[1;33m%\u001b[0m\u001b[0ms\u001b[0m\u001b[1;33m,\u001b[0m \u001b[1;33m%\u001b[0m\u001b[0ms\u001b[0m\u001b[1;33m)\u001b[0m\u001b[1;33m\u001b[0m\u001b[1;33m\u001b[0m\u001b[0m\n\u001b[1;32m---> 10\u001b[1;33m     \"\"\", (2, 3, \"bye\"))\n\u001b[0m\u001b[0;32m     11\u001b[0m     \u001b[0mprint\u001b[0m\u001b[1;33m(\u001b[0m\u001b[0mcur\u001b[0m\u001b[1;33m.\u001b[0m\u001b[0mrowcount\u001b[0m\u001b[1;33m)\u001b[0m\u001b[1;33m\u001b[0m\u001b[1;33m\u001b[0m\u001b[0m\n\u001b[0;32m     12\u001b[0m \u001b[1;33m\u001b[0m\u001b[0m\n",
      "\u001b[1;31mUniqueViolation\u001b[0m: duplicate key value violates unique constraint \"test_pkey\"\nDETAIL:  Key (id)=(2) already exists.\n"
     ]
    }
   ],
   "source": [
    "with conn_pool.withconn() as conn, conn.cursor() as cur:\n",
    "    cur.execute(\"\"\"\n",
    "        INSERT INTO test(id, num, data) VALUES(%s, %s, %s)\n",
    "    \"\"\", (1, 2, \"hello\"))\n",
    "    print(\"Rowcount: \" + str(cur.rowcount))\n",
    "    cur.execute(\"\"\"\n",
    "        INSERT INTO test(id, num, data) VALUES(%s, %s, %s)\n",
    "    \"\"\", (2, 3, \"bye\"))\n",
    "    print(\"Rowcount: \" + str(cur.rowcount))\n",
    "    cur.execute(\"\"\"\n",
    "        INSERT INTO test(id, num, data) VALUES(%s, %s, %s)\n",
    "    \"\"\", (2, 3, \"bye\"))\n",
    "    print(\"Rowcount: \" + str(cur.rowcount))\n",
    "    \n",
    "pprint(fetch_table(\"test\"))"
   ]
  },
  {
   "cell_type": "code",
   "execution_count": 107,
   "metadata": {
    "scrolled": true
   },
   "outputs": [
    {
     "name": "stdout",
     "output_type": "stream",
     "text": [
      "[]\n"
     ]
    }
   ],
   "source": [
    "pprint(fetch_table(\"test\"))"
   ]
  },
  {
   "cell_type": "markdown",
   "metadata": {},
   "source": [
    "Cool. Now let's try rolling back intentionally."
   ]
  },
  {
   "cell_type": "code",
   "execution_count": 108,
   "metadata": {
    "scrolled": true
   },
   "outputs": [
    {
     "name": "stdout",
     "output_type": "stream",
     "text": [
      "1\n",
      "1\n",
      "[]\n"
     ]
    }
   ],
   "source": [
    "with conn_pool.withconn() as conn, conn.cursor() as cur:\n",
    "    cur.execute(\"\"\"\n",
    "        INSERT INTO test(id, num, data) VALUES(%s, %s, %s)\n",
    "    \"\"\", (1, 2, \"hello\"))\n",
    "    print(\"Rowcount: \" + str(cur.rowcount))\n",
    "    cur.execute(\"\"\"\n",
    "        INSERT INTO test(id, num, data) VALUES(%s, %s, %s)\n",
    "    \"\"\", (2, 3, \"bye\"))\n",
    "    print(\"Rowcount: \" + str(cur.rowcount))\n",
    "    conn.rollback()\n",
    "    \n",
    "pprint(fetch_table(\"test\"))"
   ]
  },
  {
   "cell_type": "markdown",
   "metadata": {},
   "source": [
    "Nice. Now let's try commiting before error. The inserts should be saved."
   ]
  },
  {
   "cell_type": "code",
   "execution_count": 117,
   "metadata": {},
   "outputs": [
    {
     "name": "stdout",
     "output_type": "stream",
     "text": [
      "Rowcount: 1\n",
      "Rowcount: 1\n"
     ]
    },
    {
     "ename": "UniqueViolation",
     "evalue": "duplicate key value violates unique constraint \"test_pkey\"\nDETAIL:  Key (id)=(2) already exists.\n",
     "output_type": "error",
     "traceback": [
      "\u001b[1;31m---------------------------------------------------------------------------\u001b[0m",
      "\u001b[1;31mUniqueViolation\u001b[0m                           Traceback (most recent call last)",
      "\u001b[1;32m<ipython-input-117-ec82e722528f>\u001b[0m in \u001b[0;36m<module>\u001b[1;34m\u001b[0m\n\u001b[0;32m     11\u001b[0m     cur.execute(\"\"\"\n\u001b[0;32m     12\u001b[0m         \u001b[0mINSERT\u001b[0m \u001b[0mINTO\u001b[0m \u001b[0mtest\u001b[0m\u001b[1;33m(\u001b[0m\u001b[0mid\u001b[0m\u001b[1;33m,\u001b[0m \u001b[0mnum\u001b[0m\u001b[1;33m,\u001b[0m \u001b[0mdata\u001b[0m\u001b[1;33m)\u001b[0m \u001b[0mVALUES\u001b[0m\u001b[1;33m(\u001b[0m\u001b[1;33m%\u001b[0m\u001b[0ms\u001b[0m\u001b[1;33m,\u001b[0m \u001b[1;33m%\u001b[0m\u001b[0ms\u001b[0m\u001b[1;33m,\u001b[0m \u001b[1;33m%\u001b[0m\u001b[0ms\u001b[0m\u001b[1;33m)\u001b[0m\u001b[1;33m\u001b[0m\u001b[1;33m\u001b[0m\u001b[0m\n\u001b[1;32m---> 13\u001b[1;33m     \"\"\", (2, 3, \"bye\"))\n\u001b[0m\u001b[0;32m     14\u001b[0m     \u001b[0mprint\u001b[0m\u001b[1;33m(\u001b[0m\u001b[1;34m\"Rowcount: \"\u001b[0m \u001b[1;33m+\u001b[0m \u001b[0mstr\u001b[0m\u001b[1;33m(\u001b[0m\u001b[0mcur\u001b[0m\u001b[1;33m.\u001b[0m\u001b[0mrowcount\u001b[0m\u001b[1;33m)\u001b[0m\u001b[1;33m)\u001b[0m\u001b[1;33m\u001b[0m\u001b[1;33m\u001b[0m\u001b[0m\n\u001b[0;32m     15\u001b[0m \u001b[1;33m\u001b[0m\u001b[0m\n",
      "\u001b[1;31mUniqueViolation\u001b[0m: duplicate key value violates unique constraint \"test_pkey\"\nDETAIL:  Key (id)=(2) already exists.\n"
     ]
    }
   ],
   "source": [
    "with conn_pool.withconn() as conn, conn.cursor() as cur:\n",
    "    cur.execute(\"\"\"\n",
    "        INSERT INTO test(id, num, data) VALUES(%s, %s, %s)\n",
    "    \"\"\", (1, 2, \"hello\"))\n",
    "    print(\"Rowcount: \" + str(cur.rowcount))\n",
    "    cur.execute(\"\"\"\n",
    "        INSERT INTO test(id, num, data) VALUES(%s, %s, %s)\n",
    "    \"\"\", (2, 3, \"bye\"))\n",
    "    print(\"Rowcount: \" + str(cur.rowcount))\n",
    "    conn.commit()\n",
    "    cur.execute(\"\"\"\n",
    "        INSERT INTO test(id, num, data) VALUES(%s, %s, %s)\n",
    "    \"\"\", (2, 3, \"bye\"))\n",
    "    print(\"Rowcount: \" + str(cur.rowcount))\n",
    "    \n",
    "pprint(fetch_table(\"test\"))"
   ]
  },
  {
   "cell_type": "code",
   "execution_count": 110,
   "metadata": {
    "scrolled": false
   },
   "outputs": [
    {
     "name": "stdout",
     "output_type": "stream",
     "text": [
      "[(1, 2, 'hello'), (2, 3, 'bye')]\n"
     ]
    }
   ],
   "source": [
    "pprint(fetch_table(\"test\"))"
   ]
  },
  {
   "cell_type": "markdown",
   "metadata": {},
   "source": [
    "## Unpacking Fetched Tuple"
   ]
  },
  {
   "cell_type": "markdown",
   "metadata": {},
   "source": [
    "This is python only, and it's quite handy. So you can unpack a tuple like:\n",
    "\n",
    "var1, var2 = (1, 2)\n",
    "\n",
    "And you can use that for every fetched row. Neat."
   ]
  },
  {
   "cell_type": "code",
   "execution_count": 118,
   "metadata": {},
   "outputs": [
    {
     "name": "stdout",
     "output_type": "stream",
     "text": [
      "id=1, num=2, and data='hello'\n",
      "id=2, num=3, and data='bye'\n"
     ]
    }
   ],
   "source": [
    "for id, num ,data in fetch_table(\"test\"):\n",
    "    print(\"id=%d, num=%d, and data='%s'\" % (id, num, data))"
   ]
  },
  {
   "cell_type": "markdown",
   "metadata": {},
   "source": [
    "This concludes the basic psycopg2 notebook. We did not and will not cover joins and stuff because it's more of sql (or postgresql) rather than psycopg2."
   ]
  },
  {
   "cell_type": "code",
   "execution_count": null,
   "metadata": {},
   "outputs": [],
   "source": []
  }
 ],
 "metadata": {
  "kernelspec": {
   "display_name": "Python 3",
   "language": "python",
   "name": "python3"
  },
  "language_info": {
   "codemirror_mode": {
    "name": "ipython",
    "version": 3
   },
   "file_extension": ".py",
   "mimetype": "text/x-python",
   "name": "python",
   "nbconvert_exporter": "python",
   "pygments_lexer": "ipython3",
   "version": "3.7.6"
  }
 },
 "nbformat": 4,
 "nbformat_minor": 4
}
