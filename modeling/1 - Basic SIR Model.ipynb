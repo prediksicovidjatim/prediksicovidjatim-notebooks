{
 "cells": [
  {
   "cell_type": "markdown",
   "metadata": {},
   "source": [
    "# Basic SIR Model"
   ]
  },
  {
   "cell_type": "markdown",
   "metadata": {},
   "source": [
    "This notebook will cover the basic SIR model, along with some plotting.\n",
    "\n",
    "First we import and initialize some parameters."
   ]
  },
  {
   "cell_type": "code",
   "execution_count": 108,
   "metadata": {},
   "outputs": [],
   "source": [
    "from scipy.integrate import odeint\n",
    "import numpy as np\n",
    "import matplotlib.pyplot as plt\n",
    "%matplotlib inline \n",
    "import mpld3\n",
    "mpld3.enable_notebook()"
   ]
  },
  {
   "cell_type": "code",
   "execution_count": 109,
   "metadata": {},
   "outputs": [],
   "source": [
    "SMALL_SIZE = 12\n",
    "MEDIUM_SIZE = 14\n",
    "BIGGER_SIZE = 16\n",
    "\n",
    "plt.rc('font', size=SMALL_SIZE)          # controls default text sizes\n",
    "plt.rc('axes', titlesize=SMALL_SIZE)     # fontsize of the axes title\n",
    "plt.rc('axes', labelsize=MEDIUM_SIZE)    # fontsize of the x and y labels\n",
    "plt.rc('xtick', labelsize=SMALL_SIZE)    # fontsize of the tick labels\n",
    "plt.rc('ytick', labelsize=SMALL_SIZE)    # fontsize of the tick labels\n",
    "plt.rc('legend', fontsize=MEDIUM_SIZE)    # legend fontsize\n",
    "plt.rc('figure', titlesize=BIGGER_SIZE)  # fontsize of the figure title\n",
    "plt.rc('figure', figsize=(13, 8))  \n",
    "plt.rc('lines', linewidth=2)  "
   ]
  },
  {
   "cell_type": "markdown",
   "metadata": {},
   "source": [
    "Now we code the model. \n",
    "\n",
    "The SIR model is rather simple. Susceptibles (S) become infected (I), then infected people recover (R). These are our dependent variables; the ones we seek.\n",
    "\n",
    "People flow from S to I to R. Each flow is the product of three things: rate * population * probability. \n",
    "\n",
    "The infection flow consists of the daily infection rate, the population of people that can be infected (susceptible), and the probability that the susceptibles will be infected (will meet an infected, infected/population). The recovery flow consists also of three parts: the recovery rate, the population of people who can recover (infected), and the probability that an infected will recover, which is 1 because in SIR model all infected will eventually recover. \n",
    "\n",
    "Next, we put it in terms of differential. S will only decrease due to infection flow, so S = -infection_flow. I will increase from infection flow but decrease from recovery flow, so I = infection_flow - recovery_flow. R will only increase from recovery flow, so R = recovery_flow.\n",
    "\n",
    "So now we have more variables: t, population, infection_rate, and recovery_rate. They affect our dependent variables (SIR). They're usually called independent variables, as opposed to dependent.\n",
    "\n",
    "The dependent variables (SIR) will be the ones being plotted, so their values will be the in the y axis. t is the time step (in days); it will be the x axis. SIR will be passed to dsir as y, because y axis. t can be x but I'll just leave it as t because /dt. The y that will be passed to dsir is the SIR of the current time step; it will be used to calculate its derivation and determine the y of the next time step."
   ]
  },
  {
   "cell_type": "code",
   "execution_count": 110,
   "metadata": {},
   "outputs": [],
   "source": [
    "def dsir(y, t, population, infection_rate, recovery_rate):\n",
    "    susceptible, infected, recovered = y\n",
    "    infection_flow = infection_rate * susceptible * infected / population\n",
    "    recovery_flow = recovery_rate * infected * 1\n",
    "    dSdt = -infection_flow\n",
    "    dIdt = infection_flow - recovery_flow\n",
    "    dRdt = recovery_flow\n",
    "    return dSdt, dIdt, dRdt"
   ]
  },
  {
   "cell_type": "markdown",
   "metadata": {},
   "source": [
    "Now we set the population parameters. This is just a 'random' population, no real data yet."
   ]
  },
  {
   "cell_type": "code",
   "execution_count": 111,
   "metadata": {},
   "outputs": [],
   "source": [
    "population = 1000\n",
    "infection_rate= 1.0  # infected person infects 1 other person per day\n",
    "recovery_time = 4.0 # infections lasts four days\n",
    "recovery_rate = 1.0 / recovery_time\n",
    "\n",
    "susceptible_init, infected_init, recovered_init = 999, 1, 0  # initial conditions: one infected, rest susceptible"
   ]
  },
  {
   "cell_type": "markdown",
   "metadata": {},
   "source": [
    "Next we build the model. We'll have the model for 50 days, starting from day 0.\n",
    "\n",
    "Then we integrate our derivation function (dsir). Pass the function (dsir), the initial values of the dependent variables (this is equal to +C in highschool math), the x axis (t), and the independent variables (as args). It will return the values of each time step (y[t][S/I/R]). But what we need is the values of each dependent variable (y[S/I/R][t], so we transpose it (ret.T). It's quite magical, isn't it?"
   ]
  },
  {
   "cell_type": "code",
   "execution_count": 112,
   "metadata": {},
   "outputs": [
    {
     "data": {
      "text/plain": [
       "array([ 0.,  1.,  2.,  3.,  4.,  5.,  6.,  7.,  8.,  9., 10., 11., 12.,\n",
       "       13., 14., 15., 16., 17., 18., 19., 20., 21., 22., 23., 24., 25.,\n",
       "       26., 27., 28., 29., 30., 31., 32., 33., 34., 35., 36., 37., 38.,\n",
       "       39., 40., 41., 42., 43., 44., 45., 46., 47., 48., 49.])"
      ]
     },
     "execution_count": 112,
     "metadata": {},
     "output_type": "execute_result"
    }
   ],
   "source": [
    "t = np.linspace(0, 49, 50) # 50 days, Day 0 - 49\n",
    "t"
   ]
  },
  {
   "cell_type": "code",
   "execution_count": 113,
   "metadata": {
    "scrolled": true
   },
   "outputs": [
    {
     "data": {
      "text/plain": [
       "array([[9.99000000e+02, 1.00000000e+00, 0.00000000e+00],\n",
       "       [9.97514459e+02, 2.11350745e+00, 3.72033735e-01],\n",
       "       [9.94385471e+02, 4.45706639e+00, 1.15746227e+00],\n",
       "       [9.87834209e+02, 9.35581608e+00, 2.80997494e+00],\n",
       "       [9.74287653e+02, 1.94503003e+01, 6.26204685e+00],\n",
       "       [9.46983788e+02, 3.96480104e+01, 1.33682013e+01],\n",
       "       [8.94672908e+02, 7.77529438e+01, 2.75741480e+01],\n",
       "       [8.03473215e+02, 1.42074054e+02, 5.44527307e+01],\n",
       "       [6.67553996e+02, 2.31662378e+02, 1.00783625e+02],\n",
       "       [5.04903343e+02, 3.24499713e+02, 1.70596945e+02],\n",
       "       [3.52461778e+02, 3.87085074e+02, 2.60453148e+02],\n",
       "       [2.36504231e+02, 4.03298596e+02, 3.60197173e+02],\n",
       "       [1.59337208e+02, 3.81729787e+02, 4.58933005e+02],\n",
       "       [1.10972891e+02, 3.39659906e+02, 5.49367203e+02],\n",
       "       [8.09545054e+01, 2.90828637e+02, 6.28216857e+02],\n",
       "       [6.20047567e+01, 2.43109321e+02, 6.94885922e+02],\n",
       "       [4.97029709e+01, 2.00124508e+02, 7.50172521e+02],\n",
       "       [4.14699126e+01, 1.63083430e+02, 7.95446657e+02],\n",
       "       [3.57986351e+01, 1.31990105e+02, 8.32211260e+02],\n",
       "       [3.17908946e+01, 1.06315381e+02, 8.61893724e+02],\n",
       "       [2.88962404e+01, 8.53429286e+01, 8.85760831e+02],\n",
       "       [2.67670715e+01, 6.83373388e+01, 9.04895590e+02],\n",
       "       [2.51772767e+01, 5.46194871e+01, 9.20203236e+02],\n",
       "       [2.39756023e+01, 4.35948803e+01, 9.32429517e+02],\n",
       "       [2.30582471e+01, 3.47589249e+01, 9.42182828e+02],\n",
       "       [2.23523218e+01, 2.76915267e+01, 9.49956151e+02],\n",
       "       [2.18055981e+01, 2.20473835e+01, 9.56147018e+02],\n",
       "       [2.13799889e+01, 1.75451566e+01, 9.61074855e+02],\n",
       "       [2.10472982e+01, 1.39570507e+01, 9.64995651e+02],\n",
       "       [2.07863844e+01, 1.10994594e+01, 9.68114156e+02],\n",
       "       [2.05812252e+01, 8.82488985e+00, 9.70593885e+02],\n",
       "       [2.04195691e+01, 7.01515861e+00, 9.72565272e+02],\n",
       "       [2.02919796e+01, 5.57574863e+00, 9.74132272e+02],\n",
       "       [2.01911442e+01, 4.43118120e+00, 9.75377675e+02],\n",
       "       [2.01113690e+01, 3.52124947e+00, 9.76367382e+02],\n",
       "       [2.00482024e+01, 2.79797084e+00, 9.77153827e+02],\n",
       "       [1.99981534e+01, 2.22313124e+00, 9.77778715e+02],\n",
       "       [1.99584769e+01, 1.76631282e+00, 9.78275210e+02],\n",
       "       [1.99270100e+01, 1.40331370e+00, 9.78669676e+02],\n",
       "       [1.99020456e+01, 1.11488407e+00, 9.78983070e+02],\n",
       "       [1.98822348e+01, 8.85716985e-01, 9.79232048e+02],\n",
       "       [1.98665103e+01, 7.03643300e-01, 9.79429846e+02],\n",
       "       [1.98540272e+01, 5.58990002e-01, 9.79586983e+02],\n",
       "       [1.98441161e+01, 4.44069232e-01, 9.79711815e+02],\n",
       "       [1.98362460e+01, 3.52771493e-01, 9.79810982e+02],\n",
       "       [1.98299963e+01, 2.80242003e-01, 9.79889762e+02],\n",
       "       [1.98250329e+01, 2.22623267e-01, 9.79952344e+02],\n",
       "       [1.98210909e+01, 1.76850360e-01, 9.80002059e+02],\n",
       "       [1.98179599e+01, 1.40488190e-01, 9.80041552e+02],\n",
       "       [1.98154731e+01, 1.11602127e-01, 9.80072925e+02]])"
      ]
     },
     "execution_count": 113,
     "metadata": {},
     "output_type": "execute_result"
    }
   ],
   "source": [
    "y0 = susceptible_init, infected_init, recovered_init # Initial conditions tuple\n",
    "\n",
    "# Integrate the SIR equations over the time grid, t.\n",
    "ret = odeint(dsir, y0, t, args=(population, infection_rate, recovery_rate))\n",
    "ret"
   ]
  },
  {
   "cell_type": "code",
   "execution_count": 114,
   "metadata": {
    "scrolled": true
   },
   "outputs": [
    {
     "data": {
      "text/plain": [
       "array([[9.99000000e+02, 9.97514459e+02, 9.94385471e+02, 9.87834209e+02,\n",
       "        9.74287653e+02, 9.46983788e+02, 8.94672908e+02, 8.03473215e+02,\n",
       "        6.67553996e+02, 5.04903343e+02, 3.52461778e+02, 2.36504231e+02,\n",
       "        1.59337208e+02, 1.10972891e+02, 8.09545054e+01, 6.20047567e+01,\n",
       "        4.97029709e+01, 4.14699126e+01, 3.57986351e+01, 3.17908946e+01,\n",
       "        2.88962404e+01, 2.67670715e+01, 2.51772767e+01, 2.39756023e+01,\n",
       "        2.30582471e+01, 2.23523218e+01, 2.18055981e+01, 2.13799889e+01,\n",
       "        2.10472982e+01, 2.07863844e+01, 2.05812252e+01, 2.04195691e+01,\n",
       "        2.02919796e+01, 2.01911442e+01, 2.01113690e+01, 2.00482024e+01,\n",
       "        1.99981534e+01, 1.99584769e+01, 1.99270100e+01, 1.99020456e+01,\n",
       "        1.98822348e+01, 1.98665103e+01, 1.98540272e+01, 1.98441161e+01,\n",
       "        1.98362460e+01, 1.98299963e+01, 1.98250329e+01, 1.98210909e+01,\n",
       "        1.98179599e+01, 1.98154731e+01],\n",
       "       [1.00000000e+00, 2.11350745e+00, 4.45706639e+00, 9.35581608e+00,\n",
       "        1.94503003e+01, 3.96480104e+01, 7.77529438e+01, 1.42074054e+02,\n",
       "        2.31662378e+02, 3.24499713e+02, 3.87085074e+02, 4.03298596e+02,\n",
       "        3.81729787e+02, 3.39659906e+02, 2.90828637e+02, 2.43109321e+02,\n",
       "        2.00124508e+02, 1.63083430e+02, 1.31990105e+02, 1.06315381e+02,\n",
       "        8.53429286e+01, 6.83373388e+01, 5.46194871e+01, 4.35948803e+01,\n",
       "        3.47589249e+01, 2.76915267e+01, 2.20473835e+01, 1.75451566e+01,\n",
       "        1.39570507e+01, 1.10994594e+01, 8.82488985e+00, 7.01515861e+00,\n",
       "        5.57574863e+00, 4.43118120e+00, 3.52124947e+00, 2.79797084e+00,\n",
       "        2.22313124e+00, 1.76631282e+00, 1.40331370e+00, 1.11488407e+00,\n",
       "        8.85716985e-01, 7.03643300e-01, 5.58990002e-01, 4.44069232e-01,\n",
       "        3.52771493e-01, 2.80242003e-01, 2.22623267e-01, 1.76850360e-01,\n",
       "        1.40488190e-01, 1.11602127e-01],\n",
       "       [0.00000000e+00, 3.72033735e-01, 1.15746227e+00, 2.80997494e+00,\n",
       "        6.26204685e+00, 1.33682013e+01, 2.75741480e+01, 5.44527307e+01,\n",
       "        1.00783625e+02, 1.70596945e+02, 2.60453148e+02, 3.60197173e+02,\n",
       "        4.58933005e+02, 5.49367203e+02, 6.28216857e+02, 6.94885922e+02,\n",
       "        7.50172521e+02, 7.95446657e+02, 8.32211260e+02, 8.61893724e+02,\n",
       "        8.85760831e+02, 9.04895590e+02, 9.20203236e+02, 9.32429517e+02,\n",
       "        9.42182828e+02, 9.49956151e+02, 9.56147018e+02, 9.61074855e+02,\n",
       "        9.64995651e+02, 9.68114156e+02, 9.70593885e+02, 9.72565272e+02,\n",
       "        9.74132272e+02, 9.75377675e+02, 9.76367382e+02, 9.77153827e+02,\n",
       "        9.77778715e+02, 9.78275210e+02, 9.78669676e+02, 9.78983070e+02,\n",
       "        9.79232048e+02, 9.79429846e+02, 9.79586983e+02, 9.79711815e+02,\n",
       "        9.79810982e+02, 9.79889762e+02, 9.79952344e+02, 9.80002059e+02,\n",
       "        9.80041552e+02, 9.80072925e+02]])"
      ]
     },
     "execution_count": 114,
     "metadata": {},
     "output_type": "execute_result"
    }
   ],
   "source": [
    "ret.T"
   ]
  },
  {
   "cell_type": "code",
   "execution_count": 115,
   "metadata": {},
   "outputs": [],
   "source": [
    "susceptible, infected, recovered = ret.T"
   ]
  },
  {
   "cell_type": "code",
   "execution_count": 118,
   "metadata": {},
   "outputs": [
    {
     "data": {
      "text/plain": [
       "array([999.        , 997.51445882, 994.38547134, 987.83420898,\n",
       "       974.28765284, 946.98378835, 894.67290814, 803.47321499,\n",
       "       667.55399615, 504.90334254, 352.46177787, 236.50423109,\n",
       "       159.33720752, 110.97289103,  80.95450539,  62.00475675,\n",
       "        49.70297091,  41.46991262,  35.79863506,  31.79089465,\n",
       "        28.8962404 ,  26.76707146,  25.17727665,  23.97560231,\n",
       "        23.05824709,  22.35232183,  21.80559812,  21.3799889 ,\n",
       "        21.04729818,  20.78638444,  20.58122521,  20.41956915,\n",
       "        20.29197961,  20.19114422,  20.11136896,  20.0482024 ,\n",
       "        19.99815341,  19.9584769 ,  19.92700997,  19.9020456 ,\n",
       "        19.88223479,  19.86651033,  19.85402725,  19.84411606,\n",
       "        19.83624603,  19.82999628,  19.82503289,  19.82109088,\n",
       "        19.81795994,  19.81547311])"
      ]
     },
     "execution_count": 118,
     "metadata": {},
     "output_type": "execute_result"
    }
   ],
   "source": [
    "susceptible"
   ]
  },
  {
   "cell_type": "code",
   "execution_count": 116,
   "metadata": {},
   "outputs": [],
   "source": [
    "def plot_sir(t, susceptible, infected, recovered):\n",
    "    f, ax = plt.subplots(1, 1)\n",
    "    ax.plot(t, susceptible, 'b', alpha=0.7, label='Susceptible')\n",
    "    ax.plot(t, infected, 'y', alpha=0.7, label='Infected')\n",
    "    ax.plot(t, recovered, 'g', alpha=0.7, label='Recovered')\n",
    "\n",
    "    ax.set_xlabel('Time (days)', labelpad=10)\n",
    "\n",
    "    ax.yaxis.set_tick_params(length=0)\n",
    "    ax.xaxis.set_tick_params(length=0)\n",
    "\n",
    "    ax.grid(b=True, which='major', c='w', lw=0.5, ls='-', alpha=0.25)\n",
    "\n",
    "    ax.legend(loc='upper center', bbox_to_anchor=(0.5, -0.09),\n",
    "              fancybox=True, shadow=True, ncol=5)\n",
    "    \n",
    "    \n",
    "    for spine in ('top', 'right', 'bottom', 'left'):\n",
    "        ax.spines[spine].set_visible(False)\n",
    "    \n",
    "        \n",
    "    plt.show();"
   ]
  },
  {
   "cell_type": "code",
   "execution_count": 117,
   "metadata": {
    "scrolled": true
   },
   "outputs": [
    {
     "data": {
      "image/png": "[encoded data removed]",
      "text/html": [
       "\n",
       "\n",
       "<style>\n",
       "\n",
       "</style>\n",
       "\n",
       "<div id=\"fig_el88441572428246824041566\"></div>\n",
       "<script>\n",
       "function mpld3_load_lib(url, callback){\n",
       "  var s = document.createElement('script');\n",
       "  s.src = url;\n",
       "  s.async = true;\n",
       "  s.onreadystatechange = s.onload = callback;\n",
       "  s.onerror = function(){console.warn(\"failed to load library \" + url);};\n",
       "  document.getElementsByTagName(\"head\")[0].appendChild(s);\n",
       "}\n",
       "\n",
       "if(typeof(mpld3) !== \"undefined\" && mpld3._mpld3IsLoaded){\n",
       "   // already loaded: just create the figure\n",
       "   !function(mpld3){\n",
       "       \n",
       "       mpld3.draw_figure(\"fig_el88441572428246824041566\", {\"width\": 936.0, \"height\": 576.0, \"axes\": [{\"bbox\": [0.125, 0.125, 0.775, 0.755], \"xlim\": [-2.45, 51.45], \"ylim\": [-49.95, 1048.95], \"xdomain\": [-2.45, 51.45], \"ydomain\": [-49.95, 1048.95], \"xscale\": \"linear\", \"yscale\": \"linear\", \"axes\": [{\"position\": \"bottom\", \"nticks\": 8, \"tickvalues\": null, \"tickformat_formatter\": \"\", \"tickformat\": null, \"scale\": \"linear\", \"fontsize\": 12.0, \"grid\": {\"gridOn\": true, \"color\": \"#FFFFFF\", \"dasharray\": \"none\", \"alpha\": 0.25}, \"visible\": true}, {\"position\": \"left\", \"nticks\": 8, \"tickvalues\": null, \"tickformat_formatter\": \"\", \"tickformat\": null, \"scale\": \"linear\", \"fontsize\": 12.0, \"grid\": {\"gridOn\": true, \"color\": \"#FFFFFF\", \"dasharray\": \"none\", \"alpha\": 0.25}, \"visible\": true}], \"axesbg\": \"#FFFFFF\", \"axesbgalpha\": null, \"zoomable\": true, \"id\": \"el8844163126728\", \"lines\": [{\"data\": \"data01\", \"xindex\": 0, \"yindex\": 1, \"coordinates\": \"data\", \"id\": \"el8844157417736\", \"color\": \"#0000FF\", \"linewidth\": 2.0, \"dasharray\": \"none\", \"alpha\": 0.7, \"zorder\": 2, \"drawstyle\": \"default\"}, {\"data\": \"data01\", \"xindex\": 0, \"yindex\": 2, \"coordinates\": \"data\", \"id\": \"el8844157043016\", \"color\": \"#BFBF00\", \"linewidth\": 2.0, \"dasharray\": \"none\", \"alpha\": 0.7, \"zorder\": 2, \"drawstyle\": \"default\"}, {\"data\": \"data01\", \"xindex\": 0, \"yindex\": 3, \"coordinates\": \"data\", \"id\": \"el8844160886024\", \"color\": \"#007F00\", \"linewidth\": 2.0, \"dasharray\": \"none\", \"alpha\": 0.7, \"zorder\": 2, \"drawstyle\": \"default\"}, {\"data\": \"data02\", \"xindex\": 0, \"yindex\": 1, \"coordinates\": \"axes\", \"id\": \"el8844153496392\", \"color\": \"#0000FF\", \"linewidth\": 2.0, \"dasharray\": \"none\", \"alpha\": 0.7, \"zorder\": 1000002.0, \"drawstyle\": \"default\"}, {\"data\": \"data02\", \"xindex\": 2, \"yindex\": 1, \"coordinates\": \"axes\", \"id\": \"el8844153497224\", \"color\": \"#BFBF00\", \"linewidth\": 2.0, \"dasharray\": \"none\", \"alpha\": 0.7, \"zorder\": 1000002.0, \"drawstyle\": \"default\"}, {\"data\": \"data02\", \"xindex\": 3, \"yindex\": 1, \"coordinates\": \"axes\", \"id\": \"el8844153494280\", \"color\": \"#007F00\", \"linewidth\": 2.0, \"dasharray\": \"none\", \"alpha\": 0.7, \"zorder\": 1000002.0, \"drawstyle\": \"default\"}], \"paths\": [{\"data\": \"data03\", \"xindex\": 0, \"yindex\": 1, \"coordinates\": \"axes\", \"pathcodes\": [\"M\", \"L\", \"S\", \"L\", \"S\", \"L\", \"S\", \"L\", \"S\", \"Z\"], \"id\": \"el8844153495816\", \"dasharray\": \"none\", \"alpha\": 1, \"facecolor\": \"#FFFFFF\", \"edgecolor\": \"#CCCCCC\", \"edgewidth\": 1.0, \"zorder\": 1000000.0}], \"markers\": [], \"texts\": [{\"text\": \"Time (days)\", \"position\": [0.5, -0.060936350257542335], \"coordinates\": \"axes\", \"h_anchor\": \"middle\", \"v_baseline\": \"hanging\", \"rotation\": -0.0, \"fontsize\": 14.0, \"color\": \"#000000\", \"alpha\": 1, \"zorder\": 3, \"id\": \"el8844157263944\"}, {\"text\": \"Susceptible\", \"position\": [0.2873931623931625, -0.14426784400294335], \"coordinates\": \"axes\", \"h_anchor\": \"start\", \"v_baseline\": \"auto\", \"rotation\": -0.0, \"fontsize\": 14.0, \"color\": \"#000000\", \"alpha\": 1, \"zorder\": 1000003.0, \"id\": \"el8844153496584\"}, {\"text\": \"Infected\", \"position\": [0.49221119382409706, -0.14426784400294335], \"coordinates\": \"axes\", \"h_anchor\": \"start\", \"v_baseline\": \"auto\", \"rotation\": -0.0, \"fontsize\": 14.0, \"color\": \"#000000\", \"alpha\": 1, \"zorder\": 1000003.0, \"id\": \"el8844153494792\"}, {\"text\": \"Recovered\", \"position\": [0.6637717121588089, -0.14426784400294335], \"coordinates\": \"axes\", \"h_anchor\": \"start\", \"v_baseline\": \"auto\", \"rotation\": -0.0, \"fontsize\": 14.0, \"color\": \"#000000\", \"alpha\": 1, \"zorder\": 1000003.0, \"id\": \"el8844145300552\"}], \"collections\": [], \"images\": [], \"sharex\": [], \"sharey\": []}], \"data\": {\"data01\": [[0.0, 999.0, 1.0, 0.0], [1.0, 997.5144588188176, 2.1135074461329757, 0.37203373504933485], [2.0, 994.3854713442688, 4.457066388547796, 1.1574622671834502], [3.0, 987.8342089787894, 9.35581608486171, 2.8099749363489086], [4.0, 974.2876528386269, 19.450300309698555, 6.262046851674833], [5.0, 946.9837883494648, 39.64801039070232, 13.368201259833056], [6.0, 894.6729081392044, 77.75294384076622, 27.574148020029593], [7.0, 803.4732149867843, 142.0740543065743, 54.452730706641596], [8.0, 667.5539961490002, 231.66237844108485, 100.78362540991506], [9.0, 504.90334253851944, 324.49971253872087, 170.59694492275977], [10.0, 352.4617778744318, 387.0850739825798, 260.45314814298837], [11.0, 236.50423108567406, 403.2985961586994, 360.19717275562664], [12.0, 159.33720751924727, 381.7297871830511, 458.93300529770175], [13.0, 110.97289103423357, 339.65990615218595, 549.3672028135805], [14.0, 80.9545053899832, 290.8286372106148, 628.2168573994022], [15.0, 62.004756745910356, 243.10932092392383, 694.885922330166], [16.0, 49.70297091465354, 200.12450796710831, 750.1725211182381], [17.0, 41.469912619696515, 163.0834303881255, 795.4466569921781], [18.0, 35.798635055546434, 131.99010487784486, 832.211260066609], [19.0, 31.79089464892155, 106.31538095246106, 861.8937243986178], [20.0, 28.896240396624417, 85.34292861280666, 885.7608309905694], [21.0, 26.767071461465395, 68.33733882131354, 904.8955897172216], [22.0, 25.17727665393399, 54.61948706052276, 920.2032362855438], [23.0, 23.975602308158667, 43.59488033126767, 932.4295173605742], [24.0, 23.05824708540337, 34.75892489756005, 942.1828280170371], [25.0, 22.352321826593315, 27.691526698951574, 949.9561514744555], [26.0, 21.805598124911718, 22.047383450886688, 956.1470184242019], [27.0, 21.379988901273297, 17.545156566287766, 961.0748545324391], [28.0, 21.04729817775236, 13.957050685672952, 964.9956511365749], [29.0, 20.786384441413233, 11.099459367668333, 968.1141561909186], [30.0, 20.581225208152304, 8.824889851450719, 970.5938849403972], [31.0, 20.41956914980109, 7.015158613440693, 972.5652722367583], [32.0, 20.291979609068658, 5.575748634424059, 974.1322717565073], [33.0, 20.19114422142494, 4.431181195510684, 975.3776745830644], [34.0, 20.11136895825607, 3.5212494671543015, 976.3673815745896], [35.0, 20.04820239936156, 2.7979708358085587, 977.1538267648298], [36.0, 19.99815340795805, 2.2231312372601253, 977.7787153547818], [37.0, 19.958476896611376, 1.7663128248041402, 978.2752102785844], [38.0, 19.927009965056055, 1.403313701906256, 978.6696763330375], [39.0, 19.9020455955693, 1.1148840674181022, 978.9830703370125], [40.0, 19.882234785712754, 0.8857169853314938, 979.2320482289557], [41.0, 19.86651033162519, 0.7036432995098276, 979.4298463688649], [42.0, 19.854027249417843, 0.5589900016607271, 979.5869827489213], [43.0, 19.844116055525696, 0.4440692317658312, 979.7118147127084], [44.0, 19.8362460302408, 0.35277149292108756, 979.810982476838], [45.0, 19.829996277318163, 0.2802420031221203, 979.8897617195597], [46.0, 19.82503288517046, 0.22262326694723458, 979.9523438478823], [47.0, 19.82109087796713, 0.1768503602557272, 980.0020587617771], [48.0, 19.817959939268366, 0.14048818970424928, 980.0415518710273], [49.0, 19.81547310831096, 0.11160212676093413, 980.0729247649281]], \"data02\": [[0.23335401157981808, -0.13300036791758646, 0.43817204301075274, 0.6097325613454645], [0.2719534050179212, -0.13300036791758646, 0.4767714364488559, 0.6483319547835676]], \"data03\": [[0.22949407223600773, -0.16404341427520236], [0.7705059277639923, -0.16404341427520236], [0.7743658671078025, -0.16404341427520236], [0.7743658671078025, -0.1576048565121413], [0.7743658671078025, -0.11253495217071377], [0.7743658671078025, -0.1060963944076527], [0.7705059277639923, -0.1060963944076527], [0.22949407223600773, -0.1060963944076527], [0.22563413289219744, -0.1060963944076527], [0.22563413289219744, -0.11253495217071377], [0.22563413289219744, -0.1576048565121413], [0.22563413289219744, -0.16404341427520236], [0.22949407223600773, -0.16404341427520236]]}, \"id\": \"el8844157242824\", \"plugins\": [{\"type\": \"reset\"}, {\"type\": \"zoom\", \"button\": true, \"enabled\": false}, {\"type\": \"boxzoom\", \"button\": true, \"enabled\": false}]});\n",
       "   }(mpld3);\n",
       "}else if(typeof define === \"function\" && define.amd){\n",
       "   // require.js is available: use it to load d3/mpld3\n",
       "   require.config({paths: {d3: \"https://d3js.org/d3.v5\"}});\n",
       "   require([\"d3\"], function(d3){\n",
       "      window.d3 = d3;\n",
       "      mpld3_load_lib(\"https://mpld3.github.io/js/mpld3.v0.5.1.js\", function(){\n",
       "         \n",
       "         mpld3.draw_figure(\"fig_el88441572428246824041566\", {\"width\": 936.0, \"height\": 576.0, \"axes\": [{\"bbox\": [0.125, 0.125, 0.775, 0.755], \"xlim\": [-2.45, 51.45], \"ylim\": [-49.95, 1048.95], \"xdomain\": [-2.45, 51.45], \"ydomain\": [-49.95, 1048.95], \"xscale\": \"linear\", \"yscale\": \"linear\", \"axes\": [{\"position\": \"bottom\", \"nticks\": 8, \"tickvalues\": null, \"tickformat_formatter\": \"\", \"tickformat\": null, \"scale\": \"linear\", \"fontsize\": 12.0, \"grid\": {\"gridOn\": true, \"color\": \"#FFFFFF\", \"dasharray\": \"none\", \"alpha\": 0.25}, \"visible\": true}, {\"position\": \"left\", \"nticks\": 8, \"tickvalues\": null, \"tickformat_formatter\": \"\", \"tickformat\": null, \"scale\": \"linear\", \"fontsize\": 12.0, \"grid\": {\"gridOn\": true, \"color\": \"#FFFFFF\", \"dasharray\": \"none\", \"alpha\": 0.25}, \"visible\": true}], \"axesbg\": \"#FFFFFF\", \"axesbgalpha\": null, \"zoomable\": true, \"id\": \"el8844163126728\", \"lines\": [{\"data\": \"data01\", \"xindex\": 0, \"yindex\": 1, \"coordinates\": \"data\", \"id\": \"el8844157417736\", \"color\": \"#0000FF\", \"linewidth\": 2.0, \"dasharray\": \"none\", \"alpha\": 0.7, \"zorder\": 2, \"drawstyle\": \"default\"}, {\"data\": \"data01\", \"xindex\": 0, \"yindex\": 2, \"coordinates\": \"data\", \"id\": \"el8844157043016\", \"color\": \"#BFBF00\", \"linewidth\": 2.0, \"dasharray\": \"none\", \"alpha\": 0.7, \"zorder\": 2, \"drawstyle\": \"default\"}, {\"data\": \"data01\", \"xindex\": 0, \"yindex\": 3, \"coordinates\": \"data\", \"id\": \"el8844160886024\", \"color\": \"#007F00\", \"linewidth\": 2.0, \"dasharray\": \"none\", \"alpha\": 0.7, \"zorder\": 2, \"drawstyle\": \"default\"}, {\"data\": \"data02\", \"xindex\": 0, \"yindex\": 1, \"coordinates\": \"axes\", \"id\": \"el8844153496392\", \"color\": \"#0000FF\", \"linewidth\": 2.0, \"dasharray\": \"none\", \"alpha\": 0.7, \"zorder\": 1000002.0, \"drawstyle\": \"default\"}, {\"data\": \"data02\", \"xindex\": 2, \"yindex\": 1, \"coordinates\": \"axes\", \"id\": \"el8844153497224\", \"color\": \"#BFBF00\", \"linewidth\": 2.0, \"dasharray\": \"none\", \"alpha\": 0.7, \"zorder\": 1000002.0, \"drawstyle\": \"default\"}, {\"data\": \"data02\", \"xindex\": 3, \"yindex\": 1, \"coordinates\": \"axes\", \"id\": \"el8844153494280\", \"color\": \"#007F00\", \"linewidth\": 2.0, \"dasharray\": \"none\", \"alpha\": 0.7, \"zorder\": 1000002.0, \"drawstyle\": \"default\"}], \"paths\": [{\"data\": \"data03\", \"xindex\": 0, \"yindex\": 1, \"coordinates\": \"axes\", \"pathcodes\": [\"M\", \"L\", \"S\", \"L\", \"S\", \"L\", \"S\", \"L\", \"S\", \"Z\"], \"id\": \"el8844153495816\", \"dasharray\": \"none\", \"alpha\": 1, \"facecolor\": \"#FFFFFF\", \"edgecolor\": \"#CCCCCC\", \"edgewidth\": 1.0, \"zorder\": 1000000.0}], \"markers\": [], \"texts\": [{\"text\": \"Time (days)\", \"position\": [0.5, -0.060936350257542335], \"coordinates\": \"axes\", \"h_anchor\": \"middle\", \"v_baseline\": \"hanging\", \"rotation\": -0.0, \"fontsize\": 14.0, \"color\": \"#000000\", \"alpha\": 1, \"zorder\": 3, \"id\": \"el8844157263944\"}, {\"text\": \"Susceptible\", \"position\": [0.2873931623931625, -0.14426784400294335], \"coordinates\": \"axes\", \"h_anchor\": \"start\", \"v_baseline\": \"auto\", \"rotation\": -0.0, \"fontsize\": 14.0, \"color\": \"#000000\", \"alpha\": 1, \"zorder\": 1000003.0, \"id\": \"el8844153496584\"}, {\"text\": \"Infected\", \"position\": [0.49221119382409706, -0.14426784400294335], \"coordinates\": \"axes\", \"h_anchor\": \"start\", \"v_baseline\": \"auto\", \"rotation\": -0.0, \"fontsize\": 14.0, \"color\": \"#000000\", \"alpha\": 1, \"zorder\": 1000003.0, \"id\": \"el8844153494792\"}, {\"text\": \"Recovered\", \"position\": [0.6637717121588089, -0.14426784400294335], \"coordinates\": \"axes\", \"h_anchor\": \"start\", \"v_baseline\": \"auto\", \"rotation\": -0.0, \"fontsize\": 14.0, \"color\": \"#000000\", \"alpha\": 1, \"zorder\": 1000003.0, \"id\": \"el8844145300552\"}], \"collections\": [], \"images\": [], \"sharex\": [], \"sharey\": []}], \"data\": {\"data01\": [[0.0, 999.0, 1.0, 0.0], [1.0, 997.5144588188176, 2.1135074461329757, 0.37203373504933485], [2.0, 994.3854713442688, 4.457066388547796, 1.1574622671834502], [3.0, 987.8342089787894, 9.35581608486171, 2.8099749363489086], [4.0, 974.2876528386269, 19.450300309698555, 6.262046851674833], [5.0, 946.9837883494648, 39.64801039070232, 13.368201259833056], [6.0, 894.6729081392044, 77.75294384076622, 27.574148020029593], [7.0, 803.4732149867843, 142.0740543065743, 54.452730706641596], [8.0, 667.5539961490002, 231.66237844108485, 100.78362540991506], [9.0, 504.90334253851944, 324.49971253872087, 170.59694492275977], [10.0, 352.4617778744318, 387.0850739825798, 260.45314814298837], [11.0, 236.50423108567406, 403.2985961586994, 360.19717275562664], [12.0, 159.33720751924727, 381.7297871830511, 458.93300529770175], [13.0, 110.97289103423357, 339.65990615218595, 549.3672028135805], [14.0, 80.9545053899832, 290.8286372106148, 628.2168573994022], [15.0, 62.004756745910356, 243.10932092392383, 694.885922330166], [16.0, 49.70297091465354, 200.12450796710831, 750.1725211182381], [17.0, 41.469912619696515, 163.0834303881255, 795.4466569921781], [18.0, 35.798635055546434, 131.99010487784486, 832.211260066609], [19.0, 31.79089464892155, 106.31538095246106, 861.8937243986178], [20.0, 28.896240396624417, 85.34292861280666, 885.7608309905694], [21.0, 26.767071461465395, 68.33733882131354, 904.8955897172216], [22.0, 25.17727665393399, 54.61948706052276, 920.2032362855438], [23.0, 23.975602308158667, 43.59488033126767, 932.4295173605742], [24.0, 23.05824708540337, 34.75892489756005, 942.1828280170371], [25.0, 22.352321826593315, 27.691526698951574, 949.9561514744555], [26.0, 21.805598124911718, 22.047383450886688, 956.1470184242019], [27.0, 21.379988901273297, 17.545156566287766, 961.0748545324391], [28.0, 21.04729817775236, 13.957050685672952, 964.9956511365749], [29.0, 20.786384441413233, 11.099459367668333, 968.1141561909186], [30.0, 20.581225208152304, 8.824889851450719, 970.5938849403972], [31.0, 20.41956914980109, 7.015158613440693, 972.5652722367583], [32.0, 20.291979609068658, 5.575748634424059, 974.1322717565073], [33.0, 20.19114422142494, 4.431181195510684, 975.3776745830644], [34.0, 20.11136895825607, 3.5212494671543015, 976.3673815745896], [35.0, 20.04820239936156, 2.7979708358085587, 977.1538267648298], [36.0, 19.99815340795805, 2.2231312372601253, 977.7787153547818], [37.0, 19.958476896611376, 1.7663128248041402, 978.2752102785844], [38.0, 19.927009965056055, 1.403313701906256, 978.6696763330375], [39.0, 19.9020455955693, 1.1148840674181022, 978.9830703370125], [40.0, 19.882234785712754, 0.8857169853314938, 979.2320482289557], [41.0, 19.86651033162519, 0.7036432995098276, 979.4298463688649], [42.0, 19.854027249417843, 0.5589900016607271, 979.5869827489213], [43.0, 19.844116055525696, 0.4440692317658312, 979.7118147127084], [44.0, 19.8362460302408, 0.35277149292108756, 979.810982476838], [45.0, 19.829996277318163, 0.2802420031221203, 979.8897617195597], [46.0, 19.82503288517046, 0.22262326694723458, 979.9523438478823], [47.0, 19.82109087796713, 0.1768503602557272, 980.0020587617771], [48.0, 19.817959939268366, 0.14048818970424928, 980.0415518710273], [49.0, 19.81547310831096, 0.11160212676093413, 980.0729247649281]], \"data02\": [[0.23335401157981808, -0.13300036791758646, 0.43817204301075274, 0.6097325613454645], [0.2719534050179212, -0.13300036791758646, 0.4767714364488559, 0.6483319547835676]], \"data03\": [[0.22949407223600773, -0.16404341427520236], [0.7705059277639923, -0.16404341427520236], [0.7743658671078025, -0.16404341427520236], [0.7743658671078025, -0.1576048565121413], [0.7743658671078025, -0.11253495217071377], [0.7743658671078025, -0.1060963944076527], [0.7705059277639923, -0.1060963944076527], [0.22949407223600773, -0.1060963944076527], [0.22563413289219744, -0.1060963944076527], [0.22563413289219744, -0.11253495217071377], [0.22563413289219744, -0.1576048565121413], [0.22563413289219744, -0.16404341427520236], [0.22949407223600773, -0.16404341427520236]]}, \"id\": \"el8844157242824\", \"plugins\": [{\"type\": \"reset\"}, {\"type\": \"zoom\", \"button\": true, \"enabled\": false}, {\"type\": \"boxzoom\", \"button\": true, \"enabled\": false}]});\n",
       "      });\n",
       "    });\n",
       "}else{\n",
       "    // require.js not available: dynamically load d3 & mpld3\n",
       "    mpld3_load_lib(\"https://d3js.org/d3.v5.js\", function(){\n",
       "         mpld3_load_lib(\"https://mpld3.github.io/js/mpld3.v0.5.1.js\", function(){\n",
       "                 \n",
       "                 mpld3.draw_figure(\"fig_el88441572428246824041566\", {\"width\": 936.0, \"height\": 576.0, \"axes\": [{\"bbox\": [0.125, 0.125, 0.775, 0.755], \"xlim\": [-2.45, 51.45], \"ylim\": [-49.95, 1048.95], \"xdomain\": [-2.45, 51.45], \"ydomain\": [-49.95, 1048.95], \"xscale\": \"linear\", \"yscale\": \"linear\", \"axes\": [{\"position\": \"bottom\", \"nticks\": 8, \"tickvalues\": null, \"tickformat_formatter\": \"\", \"tickformat\": null, \"scale\": \"linear\", \"fontsize\": 12.0, \"grid\": {\"gridOn\": true, \"color\": \"#FFFFFF\", \"dasharray\": \"none\", \"alpha\": 0.25}, \"visible\": true}, {\"position\": \"left\", \"nticks\": 8, \"tickvalues\": null, \"tickformat_formatter\": \"\", \"tickformat\": null, \"scale\": \"linear\", \"fontsize\": 12.0, \"grid\": {\"gridOn\": true, \"color\": \"#FFFFFF\", \"dasharray\": \"none\", \"alpha\": 0.25}, \"visible\": true}], \"axesbg\": \"#FFFFFF\", \"axesbgalpha\": null, \"zoomable\": true, \"id\": \"el8844163126728\", \"lines\": [{\"data\": \"data01\", \"xindex\": 0, \"yindex\": 1, \"coordinates\": \"data\", \"id\": \"el8844157417736\", \"color\": \"#0000FF\", \"linewidth\": 2.0, \"dasharray\": \"none\", \"alpha\": 0.7, \"zorder\": 2, \"drawstyle\": \"default\"}, {\"data\": \"data01\", \"xindex\": 0, \"yindex\": 2, \"coordinates\": \"data\", \"id\": \"el8844157043016\", \"color\": \"#BFBF00\", \"linewidth\": 2.0, \"dasharray\": \"none\", \"alpha\": 0.7, \"zorder\": 2, \"drawstyle\": \"default\"}, {\"data\": \"data01\", \"xindex\": 0, \"yindex\": 3, \"coordinates\": \"data\", \"id\": \"el8844160886024\", \"color\": \"#007F00\", \"linewidth\": 2.0, \"dasharray\": \"none\", \"alpha\": 0.7, \"zorder\": 2, \"drawstyle\": \"default\"}, {\"data\": \"data02\", \"xindex\": 0, \"yindex\": 1, \"coordinates\": \"axes\", \"id\": \"el8844153496392\", \"color\": \"#0000FF\", \"linewidth\": 2.0, \"dasharray\": \"none\", \"alpha\": 0.7, \"zorder\": 1000002.0, \"drawstyle\": \"default\"}, {\"data\": \"data02\", \"xindex\": 2, \"yindex\": 1, \"coordinates\": \"axes\", \"id\": \"el8844153497224\", \"color\": \"#BFBF00\", \"linewidth\": 2.0, \"dasharray\": \"none\", \"alpha\": 0.7, \"zorder\": 1000002.0, \"drawstyle\": \"default\"}, {\"data\": \"data02\", \"xindex\": 3, \"yindex\": 1, \"coordinates\": \"axes\", \"id\": \"el8844153494280\", \"color\": \"#007F00\", \"linewidth\": 2.0, \"dasharray\": \"none\", \"alpha\": 0.7, \"zorder\": 1000002.0, \"drawstyle\": \"default\"}], \"paths\": [{\"data\": \"data03\", \"xindex\": 0, \"yindex\": 1, \"coordinates\": \"axes\", \"pathcodes\": [\"M\", \"L\", \"S\", \"L\", \"S\", \"L\", \"S\", \"L\", \"S\", \"Z\"], \"id\": \"el8844153495816\", \"dasharray\": \"none\", \"alpha\": 1, \"facecolor\": \"#FFFFFF\", \"edgecolor\": \"#CCCCCC\", \"edgewidth\": 1.0, \"zorder\": 1000000.0}], \"markers\": [], \"texts\": [{\"text\": \"Time (days)\", \"position\": [0.5, -0.060936350257542335], \"coordinates\": \"axes\", \"h_anchor\": \"middle\", \"v_baseline\": \"hanging\", \"rotation\": -0.0, \"fontsize\": 14.0, \"color\": \"#000000\", \"alpha\": 1, \"zorder\": 3, \"id\": \"el8844157263944\"}, {\"text\": \"Susceptible\", \"position\": [0.2873931623931625, -0.14426784400294335], \"coordinates\": \"axes\", \"h_anchor\": \"start\", \"v_baseline\": \"auto\", \"rotation\": -0.0, \"fontsize\": 14.0, \"color\": \"#000000\", \"alpha\": 1, \"zorder\": 1000003.0, \"id\": \"el8844153496584\"}, {\"text\": \"Infected\", \"position\": [0.49221119382409706, -0.14426784400294335], \"coordinates\": \"axes\", \"h_anchor\": \"start\", \"v_baseline\": \"auto\", \"rotation\": -0.0, \"fontsize\": 14.0, \"color\": \"#000000\", \"alpha\": 1, \"zorder\": 1000003.0, \"id\": \"el8844153494792\"}, {\"text\": \"Recovered\", \"position\": [0.6637717121588089, -0.14426784400294335], \"coordinates\": \"axes\", \"h_anchor\": \"start\", \"v_baseline\": \"auto\", \"rotation\": -0.0, \"fontsize\": 14.0, \"color\": \"#000000\", \"alpha\": 1, \"zorder\": 1000003.0, \"id\": \"el8844145300552\"}], \"collections\": [], \"images\": [], \"sharex\": [], \"sharey\": []}], \"data\": {\"data01\": [[0.0, 999.0, 1.0, 0.0], [1.0, 997.5144588188176, 2.1135074461329757, 0.37203373504933485], [2.0, 994.3854713442688, 4.457066388547796, 1.1574622671834502], [3.0, 987.8342089787894, 9.35581608486171, 2.8099749363489086], [4.0, 974.2876528386269, 19.450300309698555, 6.262046851674833], [5.0, 946.9837883494648, 39.64801039070232, 13.368201259833056], [6.0, 894.6729081392044, 77.75294384076622, 27.574148020029593], [7.0, 803.4732149867843, 142.0740543065743, 54.452730706641596], [8.0, 667.5539961490002, 231.66237844108485, 100.78362540991506], [9.0, 504.90334253851944, 324.49971253872087, 170.59694492275977], [10.0, 352.4617778744318, 387.0850739825798, 260.45314814298837], [11.0, 236.50423108567406, 403.2985961586994, 360.19717275562664], [12.0, 159.33720751924727, 381.7297871830511, 458.93300529770175], [13.0, 110.97289103423357, 339.65990615218595, 549.3672028135805], [14.0, 80.9545053899832, 290.8286372106148, 628.2168573994022], [15.0, 62.004756745910356, 243.10932092392383, 694.885922330166], [16.0, 49.70297091465354, 200.12450796710831, 750.1725211182381], [17.0, 41.469912619696515, 163.0834303881255, 795.4466569921781], [18.0, 35.798635055546434, 131.99010487784486, 832.211260066609], [19.0, 31.79089464892155, 106.31538095246106, 861.8937243986178], [20.0, 28.896240396624417, 85.34292861280666, 885.7608309905694], [21.0, 26.767071461465395, 68.33733882131354, 904.8955897172216], [22.0, 25.17727665393399, 54.61948706052276, 920.2032362855438], [23.0, 23.975602308158667, 43.59488033126767, 932.4295173605742], [24.0, 23.05824708540337, 34.75892489756005, 942.1828280170371], [25.0, 22.352321826593315, 27.691526698951574, 949.9561514744555], [26.0, 21.805598124911718, 22.047383450886688, 956.1470184242019], [27.0, 21.379988901273297, 17.545156566287766, 961.0748545324391], [28.0, 21.04729817775236, 13.957050685672952, 964.9956511365749], [29.0, 20.786384441413233, 11.099459367668333, 968.1141561909186], [30.0, 20.581225208152304, 8.824889851450719, 970.5938849403972], [31.0, 20.41956914980109, 7.015158613440693, 972.5652722367583], [32.0, 20.291979609068658, 5.575748634424059, 974.1322717565073], [33.0, 20.19114422142494, 4.431181195510684, 975.3776745830644], [34.0, 20.11136895825607, 3.5212494671543015, 976.3673815745896], [35.0, 20.04820239936156, 2.7979708358085587, 977.1538267648298], [36.0, 19.99815340795805, 2.2231312372601253, 977.7787153547818], [37.0, 19.958476896611376, 1.7663128248041402, 978.2752102785844], [38.0, 19.927009965056055, 1.403313701906256, 978.6696763330375], [39.0, 19.9020455955693, 1.1148840674181022, 978.9830703370125], [40.0, 19.882234785712754, 0.8857169853314938, 979.2320482289557], [41.0, 19.86651033162519, 0.7036432995098276, 979.4298463688649], [42.0, 19.854027249417843, 0.5589900016607271, 979.5869827489213], [43.0, 19.844116055525696, 0.4440692317658312, 979.7118147127084], [44.0, 19.8362460302408, 0.35277149292108756, 979.810982476838], [45.0, 19.829996277318163, 0.2802420031221203, 979.8897617195597], [46.0, 19.82503288517046, 0.22262326694723458, 979.9523438478823], [47.0, 19.82109087796713, 0.1768503602557272, 980.0020587617771], [48.0, 19.817959939268366, 0.14048818970424928, 980.0415518710273], [49.0, 19.81547310831096, 0.11160212676093413, 980.0729247649281]], \"data02\": [[0.23335401157981808, -0.13300036791758646, 0.43817204301075274, 0.6097325613454645], [0.2719534050179212, -0.13300036791758646, 0.4767714364488559, 0.6483319547835676]], \"data03\": [[0.22949407223600773, -0.16404341427520236], [0.7705059277639923, -0.16404341427520236], [0.7743658671078025, -0.16404341427520236], [0.7743658671078025, -0.1576048565121413], [0.7743658671078025, -0.11253495217071377], [0.7743658671078025, -0.1060963944076527], [0.7705059277639923, -0.1060963944076527], [0.22949407223600773, -0.1060963944076527], [0.22563413289219744, -0.1060963944076527], [0.22563413289219744, -0.11253495217071377], [0.22563413289219744, -0.1576048565121413], [0.22563413289219744, -0.16404341427520236], [0.22949407223600773, -0.16404341427520236]]}, \"id\": \"el8844157242824\", \"plugins\": [{\"type\": \"reset\"}, {\"type\": \"zoom\", \"button\": true, \"enabled\": false}, {\"type\": \"boxzoom\", \"button\": true, \"enabled\": false}]});\n",
       "            })\n",
       "         });\n",
       "}\n",
       "</script>"
      ],
      "text/plain": [
       "<Figure size 936x576 with 1 Axes>"
      ]
     },
     "metadata": {
      "needs_background": "light"
     },
     "output_type": "display_data"
    }
   ],
   "source": [
    "plot_sir(t, susceptible, infected, recovered)"
   ]
  },
  {
   "cell_type": "markdown",
   "metadata": {},
   "source": [
    "This concludes the basic SIR model."
   ]
  },
  {
   "cell_type": "code",
   "execution_count": null,
   "metadata": {},
   "outputs": [],
   "source": []
  }
 ],
 "metadata": {
  "kernelspec": {
   "display_name": "Python 3",
   "language": "python",
   "name": "python3"
  },
  "language_info": {
   "codemirror_mode": {
    "name": "ipython",
    "version": 3
   },
   "file_extension": ".py",
   "mimetype": "text/x-python",
   "name": "python",
   "nbconvert_exporter": "python",
   "pygments_lexer": "ipython3",
   "version": "3.7.6"
  }
 },
 "nbformat": 4,
 "nbformat_minor": 4
}
