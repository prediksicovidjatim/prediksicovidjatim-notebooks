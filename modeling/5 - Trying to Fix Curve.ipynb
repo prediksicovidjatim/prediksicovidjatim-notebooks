{
 "cells": [
  {
   "cell_type": "markdown",
   "metadata": {},
   "source": [
    "# Trying to Fix Curve"
   ]
  },
  {
   "cell_type": "markdown",
   "metadata": {},
   "source": [
    "This one isn't going to be tutorial styled or anything like that. My previous curve sucks big time and I will try to fix it directly in any piece of code below."
   ]
  },
  {
   "cell_type": "markdown",
   "metadata": {},
   "source": [
    "## Init"
   ]
  },
  {
   "cell_type": "code",
   "execution_count": 39,
   "metadata": {},
   "outputs": [],
   "source": [
    "import numpy as np\n",
    "import pandas as pd\n",
    "pd.options.mode.chained_assignment = None  # default='warn'\n",
    "\n",
    "import matplotlib.pyplot as plt\n",
    "import matplotlib.dates as mdates\n",
    "%matplotlib inline \n",
    "import mpld3\n",
    "mpld3.enable_notebook()\n",
    "\n",
    "from scipy.integrate import odeint\n",
    "import lmfit\n",
    "from lmfit.lineshapes import gaussian, lorentzian\n",
    "\n",
    "import warnings\n",
    "warnings.filterwarnings('ignore')"
   ]
  },
  {
   "cell_type": "code",
   "execution_count": 40,
   "metadata": {},
   "outputs": [],
   "source": [
    "SMALL_SIZE = 12\n",
    "MEDIUM_SIZE = 14\n",
    "BIGGER_SIZE = 16\n",
    "\n",
    "plt.rc('font', size=SMALL_SIZE)          # controls default text sizes\n",
    "plt.rc('axes', titlesize=SMALL_SIZE)     # fontsize of the axes title\n",
    "plt.rc('axes', labelsize=MEDIUM_SIZE)    # fontsize of the x and y labels\n",
    "plt.rc('xtick', labelsize=SMALL_SIZE)    # fontsize of the tick labels\n",
    "plt.rc('ytick', labelsize=SMALL_SIZE)    # fontsize of the tick labels\n",
    "plt.rc('legend', fontsize=MEDIUM_SIZE)    # legend fontsize\n",
    "plt.rc('figure', titlesize=BIGGER_SIZE)  # fontsize of the figure title\n",
    "plt.rc('figure', figsize=(13, 8))  \n",
    "plt.rc('lines', linewidth=2)  "
   ]
  },
  {
   "cell_type": "code",
   "execution_count": 41,
   "metadata": {},
   "outputs": [],
   "source": [
    "np.random.seed(42)"
   ]
  },
  {
   "cell_type": "markdown",
   "metadata": {},
   "source": [
    "## Utility Functions"
   ]
  },
  {
   "cell_type": "code",
   "execution_count": 42,
   "metadata": {},
   "outputs": [],
   "source": [
    "import math\n",
    "def check_finite_many(retT):\n",
    "    not_finite = []\n",
    "    for i in range(0, len(retT)):\n",
    "        if not np.isfinite(retT[i]).all():\n",
    "            not_finite.append(i)\n",
    "    \n",
    "    if len(not_finite) > 0:\n",
    "        raise Exception(\"Not finite: \" + str(not_finite))\n",
    "        \n",
    "def check_finite(retT):\n",
    "    not_finite = []\n",
    "    for i in range(0, len(retT)):\n",
    "        if not math.isfinite(retT[i]):\n",
    "            not_finite.append(i)\n",
    "    \n",
    "    if len(not_finite) > 0:\n",
    "        raise Exception(\"Not finite: \" + str(not_finite))"
   ]
  },
  {
   "cell_type": "code",
   "execution_count": 43,
   "metadata": {},
   "outputs": [],
   "source": [
    "def map_function(t, f):\n",
    "    return np.array([f(ti) for ti in t])\n",
    "\n",
    "from operator import add\n",
    "def sum_element(a, b):\n",
    "    return np.array(list(map(add, a, b)))\n",
    "def delta(arr):\n",
    "    return np.array([arr[0]] + [arr[i]-arr[i-1] for i in range(1, len(arr))])\n",
    "\n",
    "def plot_single(t, f, label):\n",
    "    fig, ax = plt.subplots(1, 1)\n",
    "    ax.plot(t, map_function(t, f), 'b', alpha=0.7, label=label)\n",
    "\n",
    "    ax.set_xlabel('Time (days)', labelpad=10)\n",
    "\n",
    "    ax.yaxis.set_tick_params(length=0)\n",
    "    ax.xaxis.set_tick_params(length=0)\n",
    "\n",
    "    ax.grid(b=True, which='major', c='w', lw=0.5, ls='-', alpha=0.25)\n",
    "\n",
    "    ax.legend(loc='upper center', bbox_to_anchor=(0.5, -0.09),\n",
    "              fancybox=True, shadow=True, ncol=7)\n",
    "    \n",
    "    \n",
    "    for spine in ('top', 'right', 'bottom', 'left'):\n",
    "        ax.spines[spine].set_visible(False)\n",
    "    \n",
    "        \n",
    "    plt.show()"
   ]
  },
  {
   "cell_type": "markdown",
   "metadata": {},
   "source": [
    "## Model"
   ]
  },
  {
   "cell_type": "code",
   "execution_count": 44,
   "metadata": {},
   "outputs": [],
   "source": [
    "def dpseicrd_rl_ext(y, t, population, \n",
    "                exposed_rate_normal, exposed_rate_critical, infectious_rate, \n",
    "                critical_rate, critical_chance, \n",
    "                recovery_rate_normal, recovery_rate_critical, \n",
    "                critical_limit, \n",
    "                death_rate_normal, death_chance_normal, \n",
    "                death_rate_over, death_chance_over):\n",
    "    \n",
    "    population, susceptible, exposed_normal, exposed_over, infectious, critical_cared, critical_over, recovered, dead_normal, dead_over = y\n",
    "    \n",
    "    \n",
    "    exposed_flow_normal = exposed_rate_normal(t) * susceptible * infectious / population\n",
    "    exposed_flow_over = exposed_rate_critical * susceptible * critical_over / population\n",
    "    \n",
    "    infectious_flow_normal = infectious_rate * exposed_normal * 1\n",
    "    infectious_flow_over = infectious_rate * exposed_over * 1\n",
    "    \n",
    "    recovery_flow_normal = recovery_rate_normal * infectious * (1-critical_chance)\n",
    "    recovery_flow_critical = recovery_rate_critical * critical_cared * (1-death_chance_normal)\n",
    "    \n",
    "    death_flow_normal = death_rate_normal * critical_cared * death_chance_normal\n",
    "    death_flow_over = death_rate_over * critical_over * death_chance_over\n",
    "    \n",
    "    #tricky part because it should be immediate\n",
    "    \n",
    "    #recovering or dying people will free up available care\n",
    "    available_care = critical_limit(t) - critical_cared + recovery_flow_critical + death_flow_normal\n",
    "    if available_care < 0:\n",
    "        raise Exception(\"available_care should never be negative\")\n",
    "    \n",
    "    #overflow applying for hospital should take precedence\n",
    "    #well it's not like it will matter in numbers since new critical people will take their place here\n",
    "    \n",
    "    critical_over_return = 1 * min(available_care, critical_over) * 1\n",
    "    \n",
    "    available_care_2 = available_care - critical_over_return\n",
    "    if available_care_2 < 0:\n",
    "        raise Exception(\"available_care_2 should never be negative\")\n",
    "    \n",
    "    #next, the new criticals will flow in\n",
    "    \n",
    "    critical_flow = critical_rate * infectious * critical_chance\n",
    "    critical_flow_cared = min(available_care_2, critical_flow)\n",
    "    \n",
    "    available_care_3 = available_care_2 - critical_flow_cared\n",
    "    if available_care_3 < 0:\n",
    "        raise Exception(\"available_care_3 should never be negative\")\n",
    "    \n",
    "    #the remains of that flow will go to over compartment\n",
    "    critical_flow_over = critical_flow - critical_flow_cared\n",
    "    \n",
    "    dSdt = -exposed_flow_normal - exposed_flow_over\n",
    "    dENdt = exposed_flow_normal - infectious_flow_normal\n",
    "    dEOdt = exposed_flow_over - infectious_flow_over\n",
    "    dIdt = infectious_flow_normal + infectious_flow_over - recovery_flow_normal - critical_flow_cared - critical_flow_over\n",
    "    dCCdt = critical_flow_cared + critical_over_return - recovery_flow_critical - death_flow_normal\n",
    "    dCOdt = critical_flow_over - death_flow_over - critical_over_return\n",
    "    dRdt = recovery_flow_normal + recovery_flow_critical\n",
    "    dDNdt = death_flow_normal\n",
    "    dDOdt = death_flow_over\n",
    "    dPdt = dSdt + dENdt + dEOdt + dIdt + dCCdt + dCOdt + dRdt + dDNdt + dDOdt\n",
    "    \n",
    "    return dPdt, dSdt, dENdt, dEOdt, dIdt, dCCdt, dCOdt, dRdt, dDNdt, dDOdt"
   ]
  },
  {
   "cell_type": "code",
   "execution_count": 45,
   "metadata": {},
   "outputs": [],
   "source": [
    "def Model(days, population, critical_limit_data, critical_chance, death_chance_normal, death_time_over, exposed_rate_critical, r0_0, r0_L, L_start, L_end, k):\n",
    "    check_finite((days, population, critical_chance, death_chance_normal, death_time_over, exposed_rate_critical, r0_0, r0_L, L_start, L_end, k))\n",
    "    check_finite_many(critical_limit_data)\n",
    "    \n",
    "    # this is derived parameter\n",
    "    infectious_period_opt = recovery_time_normal * (1-critical_chance) + critical_time * critical_chance #this is derived parameter\n",
    "    infectious_rate = 1.0 / incubation_period # this is derived parameter\n",
    "    recovery_rate_normal = 1.0 / recovery_time_normal # this is derived parameter\n",
    "    death_rate_normal = 1.0 / death_time_normal # this is derived parameter\n",
    "    critical_rate = 1.0 / critical_time # this is derived parameter\n",
    "    recovery_rate_critical = 1.0 / recovery_time_critical #this is derived parameter\n",
    "    death_rate_over = 1.0/death_time_over # this is a derived parameter\n",
    "    r0_delta = r0_0 - r0_L # this is derived parameter\n",
    "\n",
    "    check_finite((infectious_period_opt, infectious_rate, recovery_rate_normal, death_rate_normal, critical_rate, recovery_rate_critical, death_rate_over, r0_delta))\n",
    "    \n",
    "    def logistic_r0(t):\n",
    "        e1 = np.exp(k*(-t+L_start))\n",
    "        e2 = np.exp(k*(-t+L_end))\n",
    "        r0 = r0_0 + (r0_L-r0_0) / (1 + e1) + (r0_0-r0_L) / (1 + e2)\n",
    "        '''\n",
    "        try:\n",
    "            check_finite((e1, e2, r0))\n",
    "        except Exception as ex:\n",
    "            raise Exception(str(ex) + \"\\nArgs(t, k, r0_L, r0_delta, L_start, L_end, e1, e2, r0)=\" + str((t, k, r0_L, r0_delta, L_start, L_end, e1, e2, r0)))\n",
    "        '''\n",
    "        return r0\n",
    "\n",
    "    def exposed_rate_logistic(t):\n",
    "        ret = logistic_r0(t) / infectious_period_opt\n",
    "        check_finite((ret,))\n",
    "        return ret\n",
    "    \n",
    "    def critical_limit(t):\n",
    "        smallest_day = -1\n",
    "        ret = float(\"inf\")\n",
    "        #ret = 1000\n",
    "        for day, limit in critical_limit_data:\n",
    "            if smallest_day < day and day <= t:\n",
    "                smallest_day = day\n",
    "                ret = limit\n",
    "            else:\n",
    "                break\n",
    "        check_finite((ret,))\n",
    "        return ret\n",
    "    \n",
    "    def r0_over(critical_over):\n",
    "        return exposed_rate_critical * death_time_over * critical_chance * (critical_over/population)\n",
    "\n",
    "    population_init, susceptible_init, exposed_normal_init, exposed_over_init, infectious_init, critical_cared_init, critical_over_init, recovered_init, dead_normal_init, dead_over_init = population, population-1, 1, 0, 0, 0, 0, 0, 0, 0  # initial conditions: one exposed, rest susceptible\n",
    "    \n",
    "    t = np.linspace(0, days-1, days) # days\n",
    "    y0 = population_init, susceptible_init, exposed_normal_init, exposed_over_init, infectious_init, critical_cared_init, critical_over_init, recovered_init, dead_normal_init, dead_over_init # Initial conditions tuple\n",
    "\n",
    "    check_finite(y0)\n",
    "    \n",
    "    # Integrate the SIR equations over the time grid, t.\n",
    "    ret = odeint(dpseicrd_rl_ext, y0, t, args=(\n",
    "        population, exposed_rate_logistic, exposed_rate_critical, infectious_rate, \n",
    "        critical_rate, critical_chance, \n",
    "        recovery_rate_normal, recovery_rate_critical, \n",
    "        critical_limit, \n",
    "        death_rate_normal, death_chance_normal,\n",
    "        death_rate_over, death_chance_over\n",
    "    ))\n",
    "    retT = ret.T\n",
    "    population_2, susceptible, exposed_normal, exposed_over, infectious,  critical_cared, critical_over, recovered,  dead_normal, dead_over = retT\n",
    "    \n",
    "    check_finite_many(retT)\n",
    "    \n",
    "    critical_limit_val = map_function(t, critical_limit)\n",
    "    #critical_limit_val = np.zeros(days)\n",
    "    \n",
    "    exposed = sum_element(exposed_normal, exposed_over)\n",
    "    dead = sum_element(dead_normal, dead_over)\n",
    "    death_chance_val = [0] + [100 * dead[i] / sum(infectious_rate*exposed[:i]) if sum(infectious_rate*exposed[:i])>0 else 0 for i in range(1, len(t))]\n",
    "    #death_chance_val = np.zeros(days)\n",
    "    \n",
    "    r0_normal_val = map_function(t, logistic_r0)\n",
    "    r0_over_val = map_function(critical_over, r0_over)\n",
    "    #r0_normal_val = np.zeros(days)\n",
    "    #r0_over_val = np.zeros(days)\n",
    "    \n",
    "    return t, population_2, susceptible, exposed_normal, exposed_over, infectious, critical_cared, critical_over, recovered,dead_normal, dead_over, critical_limit_val, death_chance_val, r0_normal_val, r0_over_val"
   ]
  },
  {
   "cell_type": "markdown",
   "metadata": {},
   "source": [
    "## Plotter"
   ]
  },
  {
   "cell_type": "code",
   "execution_count": 46,
   "metadata": {},
   "outputs": [],
   "source": [
    "def plot_pseicrd_l_ext2(t, population, \n",
    "                       susceptible, exposed_normal, exposed_over, infectious, \n",
    "                       critical_cared, critical_over, recovered, \n",
    "                       dead_normal, dead_over, critical_limit, death_chance, r0_normal, r0_over):\n",
    "    fig, ax = plt.subplots(1, 1)\n",
    "    \n",
    "    #totals\n",
    "    exposed = sum_element(exposed_normal, exposed_over)\n",
    "    critical = sum_element(critical_cared, critical_over)\n",
    "    dead = sum_element(dead_normal, dead_over)\n",
    "    \n",
    "    \n",
    "    #main plot\n",
    "    \n",
    "    ax.plot(t, susceptible, 'b', alpha=0.7, label='Susceptible')\n",
    "    ax.plot(t, exposed, 'y', alpha=0.7, label='Exposed')\n",
    "    ax.plot(t, infectious, 'r', alpha=0.7, label='Infectious')\n",
    "    ax.plot(t, critical, 'orange', alpha=0.7, label='Critical')\n",
    "    ax.plot(t, recovered, 'g', alpha=0.7, label='Recovered')\n",
    "    ax.plot(t, dead, 'black', alpha=0.7, label='Dead')\n",
    "    ax.plot(t, population, 'grey', alpha=0.3, label='Population', ls='dotted')\n",
    "    ax.plot(t, critical_limit, 'red', alpha=0.3, label='Healthcare', ls='dotted')\n",
    "    \n",
    "    ax.title.set_text('SEICRD')\n",
    "\n",
    "    ax.set_xlabel('Time (days)', labelpad=10)\n",
    "\n",
    "    ax.yaxis.set_tick_params(length=0)\n",
    "    ax.xaxis.set_tick_params(length=0)\n",
    "\n",
    "    ax.grid(b=True, which='major', c='w', lw=0.5, ls='-', alpha=0.25)\n",
    "\n",
    "    ax.legend(loc='best', shadow=True)\n",
    "    \n",
    "    for spine in ('top', 'right', 'bottom', 'left'):\n",
    "        ax.spines[spine].set_visible(False)\n",
    "    \n",
    "    # R0\n",
    "    \n",
    "    fig2, ax2 = plt.subplots(1, 1)\n",
    "    ax2.plot(t, r0_normal, 'y', alpha=0.5, linewidth=2, label='R0 normal')\n",
    "    ax2.plot(t, r0_over, 'r', alpha=0.5, linewidth=2, label='R0 over')\n",
    "    r0_overall_val = sum_element(r0_normal, r0_over)\n",
    "    ax2.plot(t, r0_overall_val, 'orange', alpha=0.7, linewidth=2, label='R0 overall')\n",
    "\n",
    "    ax2.title.set_text('R0 over time')\n",
    "    ax2.grid(b=True, which='major', c='w', lw=2, ls='-')\n",
    "    legend = ax2.legend(loc='best', shadow=True)\n",
    "    legend.get_frame().set_alpha(0.5)\n",
    "    for spine in ('top', 'right', 'bottom', 'left'):\n",
    "        ax2.spines[spine].set_visible(False)\n",
    "        \n",
    "        \n",
    "    # over cases only\n",
    "    \n",
    "    fig3, ax3 = plt.subplots(1, 1)\n",
    "    ax3.plot(t, exposed_over, 'blue', alpha=0.7, linewidth=2, label='Exposed by Neglected')\n",
    "    ax3.plot(t, critical_over, 'orange', alpha=0.7, linewidth=2, label=\"Critical but Neglected\")\n",
    "    ax3.plot(t, dead_over, 'black', alpha=0.7, linewidth=2, label='Dead by Neglect')\n",
    "\n",
    "    ax3.title.set_text('Insufficient Healthcare')\n",
    "    ax3.grid(b=True, which='major', c='w', lw=2, ls='-')\n",
    "    legend = ax3.legend(loc='best', shadow=True)\n",
    "    legend.get_frame().set_alpha(0.5)\n",
    "    for spine in ('top', 'right', 'bottom', 'left'):\n",
    "        ax3.spines[spine].set_visible(False)\n",
    "    \n",
    "    #death chance\n",
    "    \n",
    "    # sp2\n",
    "    \n",
    "    fig4, ax4 = plt.subplots(1, 1)\n",
    "    ax4.plot(t, death_chance, 'blue', alpha=0.7, linewidth=2, label='Death Chance')\n",
    "\n",
    "    ax4.title.set_text('Insufficient Healthcare')\n",
    "    ax4.grid(b=True, which='major', c='w', lw=2, ls='-')\n",
    "    legend = ax4.legend(loc='best', shadow=True)\n",
    "    legend.get_frame().set_alpha(0.5)\n",
    "    for spine in ('top', 'right', 'bottom', 'left'):\n",
    "        ax4.spines[spine].set_visible(False)\n",
    "        \n",
    "    #daily seicrd\n",
    "    fig5, ax5 = plt.subplots(1, 1)\n",
    "    \n",
    "    daily_exposed = delta(exposed)\n",
    "    daily_infectious = delta(infectious)\n",
    "    daily_critical = delta(critical)\n",
    "    daily_recovered = delta(recovered)\n",
    "    daily_dead = delta(dead)\n",
    "    \n",
    "    ax5.plot(t, daily_exposed, 'y', alpha=0.7, label='Exposed')\n",
    "    ax5.plot(t, daily_infectious, 'r', alpha=0.7, label='Infectious')\n",
    "    ax5.plot(t, daily_critical, 'orange', alpha=0.7, label='Critical')\n",
    "    ax5.plot(t, daily_recovered, 'g', alpha=0.7, label='Recovered')\n",
    "    ax5.plot(t, daily_dead, 'black', alpha=0.7, label='Dead')\n",
    "    ax5.plot(t, critical_limit, 'red', alpha=0.3, label='Healthcare', ls='dotted')\n",
    "    \n",
    "    ax5.title.set_text('Daily SEICRD')\n",
    "\n",
    "    ax5.set_xlabel('Time (days)', labelpad=10)\n",
    "\n",
    "    ax5.yaxis.set_tick_params(length=0)\n",
    "    ax5.xaxis.set_tick_params(length=0)\n",
    "\n",
    "    ax5.grid(b=True, which='major', c='w', lw=0.5, ls='-', alpha=0.25)\n",
    "\n",
    "    ax5.legend(loc='best', shadow=True)\n",
    "    \n",
    "    for spine in ('top', 'right', 'bottom', 'left'):\n",
    "        ax5.spines[spine].set_visible(False)\n",
    "    \n",
    "    \n",
    "        \n",
    "    # healthcare limit\n",
    "    \n",
    "    fig6, ax6 = plt.subplots(1, 1)\n",
    "    ax6.plot(t, critical_cared, 'blue', alpha=0.7, linewidth=2, label='Critical cared')\n",
    "    ax6.plot(t, critical_limit, 'orange', alpha=0.7, linewidth=2, label=\"Healthcare Limit\")\n",
    "\n",
    "    ax6.title.set_text('Healthcare limit')\n",
    "    ax6.grid(b=True, which='major', c='w', lw=2, ls='-')\n",
    "    legend = ax6.legend(loc='best', shadow=True)\n",
    "    legend.get_frame().set_alpha(0.5)\n",
    "    for spine in ('top', 'right', 'bottom', 'left'):\n",
    "        ax6.spines[spine].set_visible(False)\n",
    "    \n",
    "    plt.show()"
   ]
  },
  {
   "cell_type": "markdown",
   "metadata": {},
   "source": [
    "## Data"
   ]
  },
  {
   "cell_type": "code",
   "execution_count": 47,
   "metadata": {
    "scrolled": true
   },
   "outputs": [],
   "source": [
    "beds = pd.read_csv(\"data/beds.csv\", header=0)\n",
    "agegroups = pd.read_csv(\"data/agegroups.csv\")\n",
    "probabilities = pd.read_csv(\"data/probabilities.csv\")\n",
    "covid_data = pd.read_csv(\"data/time_series_covid19_deaths_global_narrow.csv\", parse_dates=[\"Date\"], skiprows=[1])\n",
    "covid_data[\"Location\"] = covid_data[\"Country/Region\"]"
   ]
  },
  {
   "cell_type": "code",
   "execution_count": 48,
   "metadata": {},
   "outputs": [],
   "source": [
    "# create some dicts for fast lookup\n",
    "# 1. beds\n",
    "beds_lookup = dict(zip(beds[\"Country\"], beds[\"ICU_Beds\"]))\n",
    "# 2. agegroups\n",
    "agegroup_lookup = dict(zip(agegroups['Location'], agegroups[['0_9', '10_19', '20_29', '30_39', '40_49', '50_59', '60_69', '70_79', '80_89', '90_100']].values))"
   ]
  },
  {
   "cell_type": "code",
   "execution_count": 49,
   "metadata": {},
   "outputs": [
    {
     "data": {
      "text/plain": [
       "<matplotlib.axes._subplots.AxesSubplot at 0x66afd88>"
      ]
     },
     "execution_count": 49,
     "metadata": {},
     "output_type": "execute_result"
    },
    {
     "data": {
      "image/png": "[encoded data removed]",
      "text/html": [
       "\n",
       "\n",
       "<style>\n",
       "\n",
       "</style>\n",
       "\n",
       "<div id=\"fig_el86641964252241449545651\"></div>\n",
       "<script>\n",
       "function mpld3_load_lib(url, callback){\n",
       "  var s = document.createElement('script');\n",
       "  s.src = url;\n",
       "  s.async = true;\n",
       "  s.onreadystatechange = s.onload = callback;\n",
       "  s.onerror = function(){console.warn(\"failed to load library \" + url);};\n",
       "  document.getElementsByTagName(\"head\")[0].appendChild(s);\n",
       "}\n",
       "\n",
       "if(typeof(mpld3) !== \"undefined\" && mpld3._mpld3IsLoaded){\n",
       "   // already loaded: just create the figure\n",
       "   !function(mpld3){\n",
       "       \n",
       "       mpld3.draw_figure(\"fig_el86641964252241449545651\", {\"width\": 936.0, \"height\": 576.0, \"axes\": [{\"bbox\": [0.125, 0.125, 0.775, 0.755], \"xlim\": [18283.0, 18444.0], \"ylim\": [-25792.65, 542019.65], \"xdomain\": [[51, 0, 21, 0, 0, 0, 0.0], [51, 6, 1, 0, 0, 0, 0.0]], \"ydomain\": [-25792.65, 542019.65], \"xscale\": \"date\", \"yscale\": \"linear\", \"axes\": [{\"position\": \"bottom\", \"nticks\": 7, \"tickvalues\": null, \"tickformat_formatter\": \"\", \"tickformat\": null, \"scale\": \"linear\", \"fontsize\": 12.0, \"grid\": {\"gridOn\": false}, \"visible\": true}, {\"position\": \"left\", \"nticks\": 8, \"tickvalues\": null, \"tickformat_formatter\": \"\", \"tickformat\": null, \"scale\": \"linear\", \"fontsize\": 12.0, \"grid\": {\"gridOn\": false}, \"visible\": true}], \"axesbg\": \"#FFFFFF\", \"axesbgalpha\": null, \"zoomable\": true, \"id\": \"el8664107675016\", \"lines\": [{\"data\": \"data01\", \"xindex\": 0, \"yindex\": 1, \"coordinates\": \"data\", \"id\": \"el8664196359752\", \"color\": \"#1F77B4\", \"linewidth\": 2.0, \"dasharray\": \"none\", \"alpha\": 1, \"zorder\": 2, \"drawstyle\": \"default\"}, {\"data\": \"data02\", \"xindex\": 0, \"yindex\": 1, \"coordinates\": \"axes\", \"id\": \"el8664196684936\", \"color\": \"#1F77B4\", \"linewidth\": 2.0, \"dasharray\": \"none\", \"alpha\": 1, \"zorder\": 1000002.0, \"drawstyle\": \"default\"}], \"paths\": [{\"data\": \"data03\", \"xindex\": 0, \"yindex\": 1, \"coordinates\": \"axes\", \"pathcodes\": [\"M\", \"L\", \"S\", \"L\", \"S\", \"L\", \"S\", \"L\", \"S\", \"Z\"], \"id\": \"el8664185695560\", \"dasharray\": \"none\", \"alpha\": 0.8, \"facecolor\": \"rgba(255, 255, 255, 0.8)\", \"edgecolor\": \"rgba(204, 204, 204, 0.8)\", \"edgewidth\": 1.0, \"zorder\": 1000000.0}], \"markers\": [], \"texts\": [{\"text\": \"Date\", \"position\": [0.5, -0.08967991169977926], \"coordinates\": \"axes\", \"h_anchor\": \"middle\", \"v_baseline\": \"hanging\", \"rotation\": -0.0, \"fontsize\": 14.0, \"color\": \"#000000\", \"alpha\": 1, \"zorder\": 3, \"id\": \"el8664196360584\"}, {\"text\": \"Covid-19 total fatalities (world)\", \"position\": [0.5, 1.0137969094922736], \"coordinates\": \"axes\", \"h_anchor\": \"middle\", \"v_baseline\": \"auto\", \"rotation\": -0.0, \"fontsize\": 12.0, \"color\": \"#000000\", \"alpha\": 1, \"zorder\": 3, \"id\": \"el8664196471048\"}, {\"text\": \"Value\", \"position\": [0.07140887786049077, 0.9457321559970566], \"coordinates\": \"axes\", \"h_anchor\": \"start\", \"v_baseline\": \"auto\", \"rotation\": -0.0, \"fontsize\": 14.0, \"color\": \"#000000\", \"alpha\": 1, \"zorder\": 1000003.0, \"id\": \"el8664196455112\"}], \"collections\": [], \"images\": [], \"sharex\": [], \"sharey\": []}], \"data\": {\"data01\": [[18283.0, 17.0], [18284.0, 18.0], [18285.0, 26.0], [18286.0, 42.0], [18287.0, 56.0], [18288.0, 82.0], [18289.0, 131.0], [18290.0, 133.0], [18291.0, 171.0], [18292.0, 213.0], [18293.0, 259.0], [18294.0, 362.0], [18295.0, 426.0], [18296.0, 492.0], [18297.0, 564.0], [18298.0, 634.0], [18299.0, 719.0], [18300.0, 806.0], [18301.0, 906.0], [18302.0, 1013.0], [18303.0, 1113.0], [18304.0, 1118.0], [18305.0, 1371.0], [18306.0, 1523.0], [18307.0, 1666.0], [18308.0, 1770.0], [18309.0, 1868.0], [18310.0, 2007.0], [18311.0, 2122.0], [18312.0, 2247.0], [18313.0, 2251.0], [18314.0, 2458.0], [18315.0, 2469.0], [18316.0, 2629.0], [18317.0, 2708.0], [18318.0, 2770.0], [18319.0, 2814.0], [18320.0, 2872.0], [18321.0, 2941.0], [18322.0, 2996.0], [18323.0, 3085.0], [18324.0, 3160.0], [18325.0, 3254.0], [18326.0, 3347.0], [18327.0, 3459.0], [18328.0, 3558.0], [18329.0, 3801.0], [18330.0, 3987.0], [18331.0, 4263.0], [18332.0, 4611.0], [18333.0, 4913.0], [18334.0, 5411.0], [18335.0, 5830.0], [18336.0, 6469.0], [18337.0, 7148.0], [18338.0, 7954.0], [18339.0, 8849.0], [18340.0, 9954.0], [18341.0, 11435.0], [18342.0, 13141.0], [18343.0, 14841.0], [18344.0, 16758.0], [18345.0, 19028.0], [18346.0, 21803.0], [18347.0, 24810.0], [18348.0, 28324.0], [18349.0, 32003.0], [18350.0, 35471.0], [18351.0, 39633.0], [18352.0, 44477.0], [18353.0, 50027.0], [18354.0, 56334.0], [18355.0, 62314.0], [18356.0, 68163.0], [18357.0, 73178.0], [18358.0, 79015.0], [18359.0, 86922.0], [18360.0, 93651.0], [18361.0, 101266.0], [18362.0, 108531.0], [18363.0, 114586.0], [18364.0, 120317.0], [18365.0, 126070.0], [18366.0, 132972.0], [18367.0, 141271.0], [18368.0, 148568.0], [18369.0, 157457.0], [18370.0, 163928.0], [18371.0, 168506.0], [18372.0, 173929.0], [18373.0, 181080.0], [18374.0, 187837.0], [18375.0, 194706.0], [18376.0, 201387.0], [18377.0, 206961.0], [18378.0, 210840.0], [18379.0, 215478.0], [18380.0, 221931.0], [18381.0, 228695.0], [18382.0, 234652.0], [18383.0, 239824.0], [18384.0, 245142.0], [18385.0, 248584.0], [18386.0, 252739.0], [18387.0, 258618.0], [18388.0, 265272.0], [18389.0, 270689.0], [18390.0, 276252.0], [18391.0, 280515.0], [18392.0, 284085.0], [18393.0, 287547.0], [18394.0, 293090.0], [18395.0, 298321.0], [18396.0, 303592.0], [18397.0, 308805.0], [18398.0, 312958.0], [18399.0, 316297.0], [18400.0, 319584.0], [18401.0, 324375.0], [18402.0, 329236.0], [18403.0, 334028.0], [18404.0, 339314.0], [18405.0, 343305.0], [18406.0, 346127.0], [18407.0, 347309.0], [18408.0, 351520.0], [18409.0, 356707.0], [18410.0, 361392.0], [18411.0, 366076.0], [18412.0, 370211.0], [18413.0, 373078.0], [18414.0, 376608.0], [18415.0, 381307.0], [18416.0, 387013.0], [18417.0, 392161.0], [18418.0, 396983.0], [18419.0, 400801.0], [18420.0, 403550.0], [18421.0, 407306.0], [18422.0, 412161.0], [18423.0, 417366.0], [18424.0, 422150.0], [18425.0, 426445.0], [18426.0, 430693.0], [18427.0, 434037.0], [18428.0, 437541.0], [18429.0, 444329.0], [18430.0, 449599.0], [18431.0, 454608.0], [18432.0, 460877.0], [18433.0, 465142.0], [18434.0, 469197.0], [18435.0, 472768.0], [18436.0, 478190.0], [18437.0, 483363.0], [18438.0, 489914.0], [18439.0, 494760.0], [18440.0, 499280.0], [18441.0, 502439.0], [18442.0, 506063.0], [18443.0, 511253.0], [18444.0, 516210.0]], \"data02\": [[0.0173697270471464, 0.9569996320824135], [0.05596912048524952, 0.9569996320824135]], \"data03\": [[0.01350978770333608, 0.9259565857247976], [0.13021694926936864, 0.9259565857247976], [0.13407688861317893, 0.9259565857247976], [0.13407688861317893, 0.9323951434878588], [0.13407688861317893, 0.9774650478292861], [0.13407688861317893, 0.9839036055923474], [0.13021694926936864, 0.9839036055923474], [0.01350978770333608, 0.9839036055923474], [0.009649848359525787, 0.9839036055923474], [0.009649848359525787, 0.9774650478292861], [0.009649848359525787, 0.9323951434878588], [0.009649848359525787, 0.9259565857247976], [0.01350978770333608, 0.9259565857247976]]}, \"id\": \"el8664196425224\", \"plugins\": [{\"type\": \"reset\"}, {\"type\": \"zoom\", \"button\": true, \"enabled\": false}, {\"type\": \"boxzoom\", \"button\": true, \"enabled\": false}]});\n",
       "   }(mpld3);\n",
       "}else if(typeof define === \"function\" && define.amd){\n",
       "   // require.js is available: use it to load d3/mpld3\n",
       "   require.config({paths: {d3: \"https://d3js.org/d3.v5\"}});\n",
       "   require([\"d3\"], function(d3){\n",
       "      window.d3 = d3;\n",
       "      mpld3_load_lib(\"https://mpld3.github.io/js/mpld3.v0.5.1.js\", function(){\n",
       "         \n",
       "         mpld3.draw_figure(\"fig_el86641964252241449545651\", {\"width\": 936.0, \"height\": 576.0, \"axes\": [{\"bbox\": [0.125, 0.125, 0.775, 0.755], \"xlim\": [18283.0, 18444.0], \"ylim\": [-25792.65, 542019.65], \"xdomain\": [[51, 0, 21, 0, 0, 0, 0.0], [51, 6, 1, 0, 0, 0, 0.0]], \"ydomain\": [-25792.65, 542019.65], \"xscale\": \"date\", \"yscale\": \"linear\", \"axes\": [{\"position\": \"bottom\", \"nticks\": 7, \"tickvalues\": null, \"tickformat_formatter\": \"\", \"tickformat\": null, \"scale\": \"linear\", \"fontsize\": 12.0, \"grid\": {\"gridOn\": false}, \"visible\": true}, {\"position\": \"left\", \"nticks\": 8, \"tickvalues\": null, \"tickformat_formatter\": \"\", \"tickformat\": null, \"scale\": \"linear\", \"fontsize\": 12.0, \"grid\": {\"gridOn\": false}, \"visible\": true}], \"axesbg\": \"#FFFFFF\", \"axesbgalpha\": null, \"zoomable\": true, \"id\": \"el8664107675016\", \"lines\": [{\"data\": \"data01\", \"xindex\": 0, \"yindex\": 1, \"coordinates\": \"data\", \"id\": \"el8664196359752\", \"color\": \"#1F77B4\", \"linewidth\": 2.0, \"dasharray\": \"none\", \"alpha\": 1, \"zorder\": 2, \"drawstyle\": \"default\"}, {\"data\": \"data02\", \"xindex\": 0, \"yindex\": 1, \"coordinates\": \"axes\", \"id\": \"el8664196684936\", \"color\": \"#1F77B4\", \"linewidth\": 2.0, \"dasharray\": \"none\", \"alpha\": 1, \"zorder\": 1000002.0, \"drawstyle\": \"default\"}], \"paths\": [{\"data\": \"data03\", \"xindex\": 0, \"yindex\": 1, \"coordinates\": \"axes\", \"pathcodes\": [\"M\", \"L\", \"S\", \"L\", \"S\", \"L\", \"S\", \"L\", \"S\", \"Z\"], \"id\": \"el8664185695560\", \"dasharray\": \"none\", \"alpha\": 0.8, \"facecolor\": \"rgba(255, 255, 255, 0.8)\", \"edgecolor\": \"rgba(204, 204, 204, 0.8)\", \"edgewidth\": 1.0, \"zorder\": 1000000.0}], \"markers\": [], \"texts\": [{\"text\": \"Date\", \"position\": [0.5, -0.08967991169977926], \"coordinates\": \"axes\", \"h_anchor\": \"middle\", \"v_baseline\": \"hanging\", \"rotation\": -0.0, \"fontsize\": 14.0, \"color\": \"#000000\", \"alpha\": 1, \"zorder\": 3, \"id\": \"el8664196360584\"}, {\"text\": \"Covid-19 total fatalities (world)\", \"position\": [0.5, 1.0137969094922736], \"coordinates\": \"axes\", \"h_anchor\": \"middle\", \"v_baseline\": \"auto\", \"rotation\": -0.0, \"fontsize\": 12.0, \"color\": \"#000000\", \"alpha\": 1, \"zorder\": 3, \"id\": \"el8664196471048\"}, {\"text\": \"Value\", \"position\": [0.07140887786049077, 0.9457321559970566], \"coordinates\": \"axes\", \"h_anchor\": \"start\", \"v_baseline\": \"auto\", \"rotation\": -0.0, \"fontsize\": 14.0, \"color\": \"#000000\", \"alpha\": 1, \"zorder\": 1000003.0, \"id\": \"el8664196455112\"}], \"collections\": [], \"images\": [], \"sharex\": [], \"sharey\": []}], \"data\": {\"data01\": [[18283.0, 17.0], [18284.0, 18.0], [18285.0, 26.0], [18286.0, 42.0], [18287.0, 56.0], [18288.0, 82.0], [18289.0, 131.0], [18290.0, 133.0], [18291.0, 171.0], [18292.0, 213.0], [18293.0, 259.0], [18294.0, 362.0], [18295.0, 426.0], [18296.0, 492.0], [18297.0, 564.0], [18298.0, 634.0], [18299.0, 719.0], [18300.0, 806.0], [18301.0, 906.0], [18302.0, 1013.0], [18303.0, 1113.0], [18304.0, 1118.0], [18305.0, 1371.0], [18306.0, 1523.0], [18307.0, 1666.0], [18308.0, 1770.0], [18309.0, 1868.0], [18310.0, 2007.0], [18311.0, 2122.0], [18312.0, 2247.0], [18313.0, 2251.0], [18314.0, 2458.0], [18315.0, 2469.0], [18316.0, 2629.0], [18317.0, 2708.0], [18318.0, 2770.0], [18319.0, 2814.0], [18320.0, 2872.0], [18321.0, 2941.0], [18322.0, 2996.0], [18323.0, 3085.0], [18324.0, 3160.0], [18325.0, 3254.0], [18326.0, 3347.0], [18327.0, 3459.0], [18328.0, 3558.0], [18329.0, 3801.0], [18330.0, 3987.0], [18331.0, 4263.0], [18332.0, 4611.0], [18333.0, 4913.0], [18334.0, 5411.0], [18335.0, 5830.0], [18336.0, 6469.0], [18337.0, 7148.0], [18338.0, 7954.0], [18339.0, 8849.0], [18340.0, 9954.0], [18341.0, 11435.0], [18342.0, 13141.0], [18343.0, 14841.0], [18344.0, 16758.0], [18345.0, 19028.0], [18346.0, 21803.0], [18347.0, 24810.0], [18348.0, 28324.0], [18349.0, 32003.0], [18350.0, 35471.0], [18351.0, 39633.0], [18352.0, 44477.0], [18353.0, 50027.0], [18354.0, 56334.0], [18355.0, 62314.0], [18356.0, 68163.0], [18357.0, 73178.0], [18358.0, 79015.0], [18359.0, 86922.0], [18360.0, 93651.0], [18361.0, 101266.0], [18362.0, 108531.0], [18363.0, 114586.0], [18364.0, 120317.0], [18365.0, 126070.0], [18366.0, 132972.0], [18367.0, 141271.0], [18368.0, 148568.0], [18369.0, 157457.0], [18370.0, 163928.0], [18371.0, 168506.0], [18372.0, 173929.0], [18373.0, 181080.0], [18374.0, 187837.0], [18375.0, 194706.0], [18376.0, 201387.0], [18377.0, 206961.0], [18378.0, 210840.0], [18379.0, 215478.0], [18380.0, 221931.0], [18381.0, 228695.0], [18382.0, 234652.0], [18383.0, 239824.0], [18384.0, 245142.0], [18385.0, 248584.0], [18386.0, 252739.0], [18387.0, 258618.0], [18388.0, 265272.0], [18389.0, 270689.0], [18390.0, 276252.0], [18391.0, 280515.0], [18392.0, 284085.0], [18393.0, 287547.0], [18394.0, 293090.0], [18395.0, 298321.0], [18396.0, 303592.0], [18397.0, 308805.0], [18398.0, 312958.0], [18399.0, 316297.0], [18400.0, 319584.0], [18401.0, 324375.0], [18402.0, 329236.0], [18403.0, 334028.0], [18404.0, 339314.0], [18405.0, 343305.0], [18406.0, 346127.0], [18407.0, 347309.0], [18408.0, 351520.0], [18409.0, 356707.0], [18410.0, 361392.0], [18411.0, 366076.0], [18412.0, 370211.0], [18413.0, 373078.0], [18414.0, 376608.0], [18415.0, 381307.0], [18416.0, 387013.0], [18417.0, 392161.0], [18418.0, 396983.0], [18419.0, 400801.0], [18420.0, 403550.0], [18421.0, 407306.0], [18422.0, 412161.0], [18423.0, 417366.0], [18424.0, 422150.0], [18425.0, 426445.0], [18426.0, 430693.0], [18427.0, 434037.0], [18428.0, 437541.0], [18429.0, 444329.0], [18430.0, 449599.0], [18431.0, 454608.0], [18432.0, 460877.0], [18433.0, 465142.0], [18434.0, 469197.0], [18435.0, 472768.0], [18436.0, 478190.0], [18437.0, 483363.0], [18438.0, 489914.0], [18439.0, 494760.0], [18440.0, 499280.0], [18441.0, 502439.0], [18442.0, 506063.0], [18443.0, 511253.0], [18444.0, 516210.0]], \"data02\": [[0.0173697270471464, 0.9569996320824135], [0.05596912048524952, 0.9569996320824135]], \"data03\": [[0.01350978770333608, 0.9259565857247976], [0.13021694926936864, 0.9259565857247976], [0.13407688861317893, 0.9259565857247976], [0.13407688861317893, 0.9323951434878588], [0.13407688861317893, 0.9774650478292861], [0.13407688861317893, 0.9839036055923474], [0.13021694926936864, 0.9839036055923474], [0.01350978770333608, 0.9839036055923474], [0.009649848359525787, 0.9839036055923474], [0.009649848359525787, 0.9774650478292861], [0.009649848359525787, 0.9323951434878588], [0.009649848359525787, 0.9259565857247976], [0.01350978770333608, 0.9259565857247976]]}, \"id\": \"el8664196425224\", \"plugins\": [{\"type\": \"reset\"}, {\"type\": \"zoom\", \"button\": true, \"enabled\": false}, {\"type\": \"boxzoom\", \"button\": true, \"enabled\": false}]});\n",
       "      });\n",
       "    });\n",
       "}else{\n",
       "    // require.js not available: dynamically load d3 & mpld3\n",
       "    mpld3_load_lib(\"https://d3js.org/d3.v5.js\", function(){\n",
       "         mpld3_load_lib(\"https://mpld3.github.io/js/mpld3.v0.5.1.js\", function(){\n",
       "                 \n",
       "                 mpld3.draw_figure(\"fig_el86641964252241449545651\", {\"width\": 936.0, \"height\": 576.0, \"axes\": [{\"bbox\": [0.125, 0.125, 0.775, 0.755], \"xlim\": [18283.0, 18444.0], \"ylim\": [-25792.65, 542019.65], \"xdomain\": [[51, 0, 21, 0, 0, 0, 0.0], [51, 6, 1, 0, 0, 0, 0.0]], \"ydomain\": [-25792.65, 542019.65], \"xscale\": \"date\", \"yscale\": \"linear\", \"axes\": [{\"position\": \"bottom\", \"nticks\": 7, \"tickvalues\": null, \"tickformat_formatter\": \"\", \"tickformat\": null, \"scale\": \"linear\", \"fontsize\": 12.0, \"grid\": {\"gridOn\": false}, \"visible\": true}, {\"position\": \"left\", \"nticks\": 8, \"tickvalues\": null, \"tickformat_formatter\": \"\", \"tickformat\": null, \"scale\": \"linear\", \"fontsize\": 12.0, \"grid\": {\"gridOn\": false}, \"visible\": true}], \"axesbg\": \"#FFFFFF\", \"axesbgalpha\": null, \"zoomable\": true, \"id\": \"el8664107675016\", \"lines\": [{\"data\": \"data01\", \"xindex\": 0, \"yindex\": 1, \"coordinates\": \"data\", \"id\": \"el8664196359752\", \"color\": \"#1F77B4\", \"linewidth\": 2.0, \"dasharray\": \"none\", \"alpha\": 1, \"zorder\": 2, \"drawstyle\": \"default\"}, {\"data\": \"data02\", \"xindex\": 0, \"yindex\": 1, \"coordinates\": \"axes\", \"id\": \"el8664196684936\", \"color\": \"#1F77B4\", \"linewidth\": 2.0, \"dasharray\": \"none\", \"alpha\": 1, \"zorder\": 1000002.0, \"drawstyle\": \"default\"}], \"paths\": [{\"data\": \"data03\", \"xindex\": 0, \"yindex\": 1, \"coordinates\": \"axes\", \"pathcodes\": [\"M\", \"L\", \"S\", \"L\", \"S\", \"L\", \"S\", \"L\", \"S\", \"Z\"], \"id\": \"el8664185695560\", \"dasharray\": \"none\", \"alpha\": 0.8, \"facecolor\": \"rgba(255, 255, 255, 0.8)\", \"edgecolor\": \"rgba(204, 204, 204, 0.8)\", \"edgewidth\": 1.0, \"zorder\": 1000000.0}], \"markers\": [], \"texts\": [{\"text\": \"Date\", \"position\": [0.5, -0.08967991169977926], \"coordinates\": \"axes\", \"h_anchor\": \"middle\", \"v_baseline\": \"hanging\", \"rotation\": -0.0, \"fontsize\": 14.0, \"color\": \"#000000\", \"alpha\": 1, \"zorder\": 3, \"id\": \"el8664196360584\"}, {\"text\": \"Covid-19 total fatalities (world)\", \"position\": [0.5, 1.0137969094922736], \"coordinates\": \"axes\", \"h_anchor\": \"middle\", \"v_baseline\": \"auto\", \"rotation\": -0.0, \"fontsize\": 12.0, \"color\": \"#000000\", \"alpha\": 1, \"zorder\": 3, \"id\": \"el8664196471048\"}, {\"text\": \"Value\", \"position\": [0.07140887786049077, 0.9457321559970566], \"coordinates\": \"axes\", \"h_anchor\": \"start\", \"v_baseline\": \"auto\", \"rotation\": -0.0, \"fontsize\": 14.0, \"color\": \"#000000\", \"alpha\": 1, \"zorder\": 1000003.0, \"id\": \"el8664196455112\"}], \"collections\": [], \"images\": [], \"sharex\": [], \"sharey\": []}], \"data\": {\"data01\": [[18283.0, 17.0], [18284.0, 18.0], [18285.0, 26.0], [18286.0, 42.0], [18287.0, 56.0], [18288.0, 82.0], [18289.0, 131.0], [18290.0, 133.0], [18291.0, 171.0], [18292.0, 213.0], [18293.0, 259.0], [18294.0, 362.0], [18295.0, 426.0], [18296.0, 492.0], [18297.0, 564.0], [18298.0, 634.0], [18299.0, 719.0], [18300.0, 806.0], [18301.0, 906.0], [18302.0, 1013.0], [18303.0, 1113.0], [18304.0, 1118.0], [18305.0, 1371.0], [18306.0, 1523.0], [18307.0, 1666.0], [18308.0, 1770.0], [18309.0, 1868.0], [18310.0, 2007.0], [18311.0, 2122.0], [18312.0, 2247.0], [18313.0, 2251.0], [18314.0, 2458.0], [18315.0, 2469.0], [18316.0, 2629.0], [18317.0, 2708.0], [18318.0, 2770.0], [18319.0, 2814.0], [18320.0, 2872.0], [18321.0, 2941.0], [18322.0, 2996.0], [18323.0, 3085.0], [18324.0, 3160.0], [18325.0, 3254.0], [18326.0, 3347.0], [18327.0, 3459.0], [18328.0, 3558.0], [18329.0, 3801.0], [18330.0, 3987.0], [18331.0, 4263.0], [18332.0, 4611.0], [18333.0, 4913.0], [18334.0, 5411.0], [18335.0, 5830.0], [18336.0, 6469.0], [18337.0, 7148.0], [18338.0, 7954.0], [18339.0, 8849.0], [18340.0, 9954.0], [18341.0, 11435.0], [18342.0, 13141.0], [18343.0, 14841.0], [18344.0, 16758.0], [18345.0, 19028.0], [18346.0, 21803.0], [18347.0, 24810.0], [18348.0, 28324.0], [18349.0, 32003.0], [18350.0, 35471.0], [18351.0, 39633.0], [18352.0, 44477.0], [18353.0, 50027.0], [18354.0, 56334.0], [18355.0, 62314.0], [18356.0, 68163.0], [18357.0, 73178.0], [18358.0, 79015.0], [18359.0, 86922.0], [18360.0, 93651.0], [18361.0, 101266.0], [18362.0, 108531.0], [18363.0, 114586.0], [18364.0, 120317.0], [18365.0, 126070.0], [18366.0, 132972.0], [18367.0, 141271.0], [18368.0, 148568.0], [18369.0, 157457.0], [18370.0, 163928.0], [18371.0, 168506.0], [18372.0, 173929.0], [18373.0, 181080.0], [18374.0, 187837.0], [18375.0, 194706.0], [18376.0, 201387.0], [18377.0, 206961.0], [18378.0, 210840.0], [18379.0, 215478.0], [18380.0, 221931.0], [18381.0, 228695.0], [18382.0, 234652.0], [18383.0, 239824.0], [18384.0, 245142.0], [18385.0, 248584.0], [18386.0, 252739.0], [18387.0, 258618.0], [18388.0, 265272.0], [18389.0, 270689.0], [18390.0, 276252.0], [18391.0, 280515.0], [18392.0, 284085.0], [18393.0, 287547.0], [18394.0, 293090.0], [18395.0, 298321.0], [18396.0, 303592.0], [18397.0, 308805.0], [18398.0, 312958.0], [18399.0, 316297.0], [18400.0, 319584.0], [18401.0, 324375.0], [18402.0, 329236.0], [18403.0, 334028.0], [18404.0, 339314.0], [18405.0, 343305.0], [18406.0, 346127.0], [18407.0, 347309.0], [18408.0, 351520.0], [18409.0, 356707.0], [18410.0, 361392.0], [18411.0, 366076.0], [18412.0, 370211.0], [18413.0, 373078.0], [18414.0, 376608.0], [18415.0, 381307.0], [18416.0, 387013.0], [18417.0, 392161.0], [18418.0, 396983.0], [18419.0, 400801.0], [18420.0, 403550.0], [18421.0, 407306.0], [18422.0, 412161.0], [18423.0, 417366.0], [18424.0, 422150.0], [18425.0, 426445.0], [18426.0, 430693.0], [18427.0, 434037.0], [18428.0, 437541.0], [18429.0, 444329.0], [18430.0, 449599.0], [18431.0, 454608.0], [18432.0, 460877.0], [18433.0, 465142.0], [18434.0, 469197.0], [18435.0, 472768.0], [18436.0, 478190.0], [18437.0, 483363.0], [18438.0, 489914.0], [18439.0, 494760.0], [18440.0, 499280.0], [18441.0, 502439.0], [18442.0, 506063.0], [18443.0, 511253.0], [18444.0, 516210.0]], \"data02\": [[0.0173697270471464, 0.9569996320824135], [0.05596912048524952, 0.9569996320824135]], \"data03\": [[0.01350978770333608, 0.9259565857247976], [0.13021694926936864, 0.9259565857247976], [0.13407688861317893, 0.9259565857247976], [0.13407688861317893, 0.9323951434878588], [0.13407688861317893, 0.9774650478292861], [0.13407688861317893, 0.9839036055923474], [0.13021694926936864, 0.9839036055923474], [0.01350978770333608, 0.9839036055923474], [0.009649848359525787, 0.9839036055923474], [0.009649848359525787, 0.9774650478292861], [0.009649848359525787, 0.9323951434878588], [0.009649848359525787, 0.9259565857247976], [0.01350978770333608, 0.9259565857247976]]}, \"id\": \"el8664196425224\", \"plugins\": [{\"type\": \"reset\"}, {\"type\": \"zoom\", \"button\": true, \"enabled\": false}, {\"type\": \"boxzoom\", \"button\": true, \"enabled\": false}]});\n",
       "            })\n",
       "         });\n",
       "}\n",
       "</script>"
      ],
      "text/plain": [
       "<Figure size 936x576 with 1 Axes>"
      ]
     },
     "metadata": {
      "needs_background": "light"
     },
     "output_type": "display_data"
    }
   ],
   "source": [
    "covid_data.groupby(\"Date\").sum()[[\"Value\"]].plot(title=\"Covid-19 total fatalities (world)\")"
   ]
  },
  {
   "cell_type": "markdown",
   "metadata": {},
   "source": [
    "## Curve Fitting"
   ]
  },
  {
   "cell_type": "code",
   "execution_count": 50,
   "metadata": {},
   "outputs": [],
   "source": [
    "# sure thing \n",
    "death_chance_over = 1 # it's a sure thing\n",
    "\n",
    "# this can be global\n",
    "incubation_period = 3.0 # this can be global. shouldnt it be 14?\n",
    "#death_chance_normal = 0.2 # this can be global\n",
    "\n",
    "# this can be global, we dont have this but we got this from tutorial\n",
    "critical_time = 12.0 # this can be global, we dont have this but we got this from tutorial\n",
    "\n",
    "# this differs for each population, we dont have this but we got this from tutorial\n",
    "recovery_time_normal = 9.0 # this differs for each population, we dont have this but we got this from tutorial\n",
    "death_time_normal = 7.5 # this differs for each population, we dont have this but we got this from tutorial\n",
    "recovery_time_critical = 6.5 # this differs for each population, we dont have this but we got this from tutorial\n",
    "\n",
    "check_finite((death_chance_over, incubation_period, critical_time, recovery_time_normal, death_time_normal, recovery_time_critical))"
   ]
  },
  {
   "cell_type": "code",
   "execution_count": 51,
   "metadata": {},
   "outputs": [],
   "source": [
    "# parameters\n",
    "data = covid_data[covid_data[\"Location\"] == \"Italy\"][\"Value\"].values[::-1]\n",
    "critical_limit_data = [(0, beds_lookup[\"Italy\"])]\n",
    "outbreak_shift = 30\n",
    "population = sum(agegroup_lookup[\"Italy\"])\n",
    "params_init_min_max = {\n",
    "    \"critical_chance\": (0.05, 0.01, 0.1), \n",
    "    \"death_chance_normal\": (0.5, 0.05, 0.8),\n",
    "    \"death_time_over\": (1.0, 1.0, 7.5),\n",
    "    \"exposed_rate_critical\": (2.0, 1.0, 3.0), \n",
    "    \"r0_0\": (3.0, 2.0, 5.0), \n",
    "    \"r0_L\": (0.9, 0.0, 3.5),\n",
    "    \"L_start\": (90, 0, 120), \n",
    "    \"L_end\": (120, 0, 500),\n",
    "    \"k\": (2.5, 0.01, 5.0)\n",
    "}  # form: {parameter: (initial guess, minimum value, max value)}"
   ]
  },
  {
   "cell_type": "code",
   "execution_count": 52,
   "metadata": {},
   "outputs": [],
   "source": [
    "days = outbreak_shift + len(data)\n",
    "if outbreak_shift >= 0:\n",
    "    y_data = np.concatenate((np.zeros(outbreak_shift), data))\n",
    "else:\n",
    "    y_data = y_data[-outbreak_shift:]\n",
    "\n",
    "x_data = np.linspace(0, days - 1, days, dtype=int)  # x_data is just [0, 1, ..., max_days] array\n",
    "\n",
    "def fitter(x, critical_chance, death_chance_normal, death_time_over, exposed_rate_critical, r0_0, r0_L, L_start, L_end, k):\n",
    "    ret = Model(days, population, critical_limit_data, critical_chance, death_chance_normal, death_time_over, exposed_rate_critical, r0_0, r0_L, L_start, L_end, k)\n",
    "    dead_normal = ret[9]\n",
    "    dead_over = ret[10]\n",
    "    dead = sum_element(dead_normal, dead_over)\n",
    "    return dead[x]"
   ]
  },
  {
   "cell_type": "code",
   "execution_count": 53,
   "metadata": {},
   "outputs": [],
   "source": [
    "mod = lmfit.Model(fitter)\n",
    "\n",
    "for kwarg, (init, mini, maxi) in params_init_min_max.items():\n",
    "    mod.set_param_hint(str(kwarg), value=init, min=mini, max=maxi, vary=True)\n",
    "\n",
    "params = mod.make_params()\n",
    "fit_method = \"leastsq\""
   ]
  },
  {
   "cell_type": "code",
   "execution_count": 54,
   "metadata": {},
   "outputs": [],
   "source": [
    "result = mod.fit(y_data, params, method=\"least_squares\", x=x_data)"
   ]
  },
  {
   "cell_type": "code",
   "execution_count": 55,
   "metadata": {},
   "outputs": [
    {
     "data": {
      "image/png": "[encoded data removed]",
      "text/html": [
       "\n",
       "\n",
       "<style>\n",
       "\n",
       "</style>\n",
       "\n",
       "<div id=\"fig_el86641082605523090232931\"></div>\n",
       "<script>\n",
       "function mpld3_load_lib(url, callback){\n",
       "  var s = document.createElement('script');\n",
       "  s.src = url;\n",
       "  s.async = true;\n",
       "  s.onreadystatechange = s.onload = callback;\n",
       "  s.onerror = function(){console.warn(\"failed to load library \" + url);};\n",
       "  document.getElementsByTagName(\"head\")[0].appendChild(s);\n",
       "}\n",
       "\n",
       "if(typeof(mpld3) !== \"undefined\" && mpld3._mpld3IsLoaded){\n",
       "   // already loaded: just create the figure\n",
       "   !function(mpld3){\n",
       "       \n",
       "       mpld3.draw_figure(\"fig_el86641082605523090232931\", {\"width\": 936.0, \"height\": 576.0, \"axes\": [{\"bbox\": [0.125, 0.125, 0.775, 0.755], \"xlim\": [-9.55, 200.55], \"ylim\": [-1759.6242280648585, 36952.10878936203], \"xdomain\": [-9.55, 200.55], \"ydomain\": [-1759.6242280648585, 36952.10878936203], \"xscale\": \"linear\", \"yscale\": \"linear\", \"axes\": [{\"position\": \"bottom\", \"nticks\": 11, \"tickvalues\": null, \"tickformat_formatter\": \"\", \"tickformat\": null, \"scale\": \"linear\", \"fontsize\": 12.0, \"grid\": {\"gridOn\": false}, \"visible\": true}, {\"position\": \"left\", \"nticks\": 10, \"tickvalues\": null, \"tickformat_formatter\": \"\", \"tickformat\": null, \"scale\": \"linear\", \"fontsize\": 12.0, \"grid\": {\"gridOn\": false}, \"visible\": true}], \"axesbg\": \"#FFFFFF\", \"axesbgalpha\": null, \"zoomable\": true, \"id\": \"el8664108158216\", \"lines\": [{\"data\": \"data01\", \"xindex\": 0, \"yindex\": 1, \"coordinates\": \"data\", \"id\": \"el8664108349064\", \"color\": \"#1F77B4\", \"linewidth\": 2.0, \"dasharray\": \"none\", \"alpha\": 1, \"zorder\": 2, \"drawstyle\": \"default\"}, {\"data\": \"data01\", \"xindex\": 0, \"yindex\": 2, \"coordinates\": \"data\", \"id\": \"el8664108210376\", \"color\": \"#FF7F0E\", \"linewidth\": 2.0, \"dasharray\": \"none\", \"alpha\": 1, \"zorder\": 2, \"drawstyle\": \"default\"}, {\"data\": \"data02\", \"xindex\": 0, \"yindex\": 1, \"coordinates\": \"axes\", \"id\": \"el8664108375944\", \"color\": \"#1F77B4\", \"linewidth\": 2.0, \"dasharray\": \"none\", \"alpha\": 1, \"zorder\": 1000002.0, \"drawstyle\": \"default\"}, {\"data\": \"data02\", \"xindex\": 0, \"yindex\": 2, \"coordinates\": \"axes\", \"id\": \"el8664108416136\", \"color\": \"#FF7F0E\", \"linewidth\": 2.0, \"dasharray\": \"none\", \"alpha\": 1, \"zorder\": 1000002.0, \"drawstyle\": \"default\"}], \"paths\": [{\"data\": \"data03\", \"xindex\": 0, \"yindex\": 1, \"coordinates\": \"axes\", \"pathcodes\": [\"M\", \"L\", \"S\", \"L\", \"S\", \"L\", \"S\", \"L\", \"S\", \"Z\"], \"id\": \"el8664108413256\", \"dasharray\": \"none\", \"alpha\": 0.8, \"facecolor\": \"rgba(255, 255, 255, 0.8)\", \"edgecolor\": \"rgba(204, 204, 204, 0.8)\", \"edgewidth\": 1.0, \"zorder\": 1000000.0}], \"markers\": [], \"texts\": [{\"text\": \"x\", \"position\": [0.5, -0.05518763796909494], \"coordinates\": \"axes\", \"h_anchor\": \"middle\", \"v_baseline\": \"hanging\", \"rotation\": -0.0, \"fontsize\": 14.0, \"color\": \"#000000\", \"alpha\": 1, \"zorder\": 3, \"id\": \"el8664185945544\"}, {\"text\": \"y\", \"position\": [-0.067031982354563, 0.4999999999999999], \"coordinates\": \"axes\", \"h_anchor\": \"middle\", \"v_baseline\": \"auto\", \"rotation\": -90.0, \"fontsize\": 14.0, \"color\": \"#000000\", \"alpha\": 1, \"zorder\": 3, \"id\": \"el8664108248008\"}, {\"text\": \"Model(fitter)\", \"position\": [0.5, 1.0137969094922736], \"coordinates\": \"axes\", \"h_anchor\": \"middle\", \"v_baseline\": \"auto\", \"rotation\": -0.0, \"fontsize\": 12.0, \"color\": \"#000000\", \"alpha\": 1, \"zorder\": 3, \"id\": \"el8664108290504\"}, {\"text\": \"data\", \"position\": [0.07140887786049077, 0.9457321559970566], \"coordinates\": \"axes\", \"h_anchor\": \"start\", \"v_baseline\": \"auto\", \"rotation\": -0.0, \"fontsize\": 14.0, \"color\": \"#000000\", \"alpha\": 1, \"zorder\": 1000003.0, \"id\": \"el8664108415496\"}, {\"text\": \"best-fit\", \"position\": [0.07140887786049077, 0.8974429727740987], \"coordinates\": \"axes\", \"h_anchor\": \"start\", \"v_baseline\": \"auto\", \"rotation\": -0.0, \"fontsize\": 14.0, \"color\": \"#000000\", \"alpha\": 1, \"zorder\": 1000003.0, \"id\": \"el8664108429576\"}], \"collections\": [], \"images\": [], \"sharex\": [], \"sharey\": []}], \"data\": {\"data01\": [[0.0, 0.0, 0.0], [1.0, 0.0, 1.7857624140278206e-05], [2.0, 0.0, 0.00012611652289123268], [3.0, 0.0, 0.0003806609167178963], [4.0, 0.0, 0.0008167270110182658], [5.0, 0.0, 0.0014600827451416714], [6.0, 0.0, 0.0023333792581010835], [7.0, 0.0, 0.0034598584705675343], [8.0, 0.0, 0.004865636186014339], [9.0, 0.0, 0.006581244108806133], [10.0, 0.0, 0.008642816625856432], [11.0, 0.0, 0.011093143937527193], [12.0, 0.0, 0.013982722911633612], [13.0, 0.0, 0.017370888306833334], [14.0, 0.0, 0.021327081558978264], [15.0, 0.0, 0.02593230210427936], [16.0, 0.0, 0.031280781146546796], [17.0, 0.0, 0.03748191866288686], [18.0, 0.0, 0.0446625257750032], [19.0, 0.0, 0.05296942072198787], [20.0, 0.0, 0.06257243282280983], [21.0, 0.0, 0.07366787204882917], [22.0, 0.0, 0.08648254921991383], [23.0, 0.0, 0.10127840644629388], [24.0, 0.0, 0.11835787388741924], [25.0, 0.0, 0.1380700516909115], [26.0, 0.0, 0.16081784436559662], [27.0, 0.0, 0.18706619781197997], [28.0, 0.0, 0.21735160127842806], [29.0, 0.0, 0.252293052038115], [30.0, 0.0, 0.29260470773483016], [31.0, 0.0, 0.33911048236875235], [32.0, 0.0, 0.39276088623767086], [33.0, 0.0, 0.4546524519539602], [34.0, 0.0, 0.5260501463872467], [35.0, 0.0, 0.6084132242421438], [36.0, 0.0, 0.7034250521426446], [37.0, 0.0, 0.8130275137192317], [38.0, 0.0, 0.9394606976318483], [39.0, 0.0, 1.0853086800003429], [40.0, 0.0, 1.253552336270615], [41.0, 0.0, 1.4476302678738442], [42.0, 0.0, 1.6715090722812234], [43.0, 0.0, 1.9297644152054085], [44.0, 0.0, 2.2276745417579153], [45.0, 0.0, 2.5713281502573206], [46.0, 0.0, 2.9677488246339823], [47.0, 0.0, 3.4250385740468485], [48.0, 0.0, 3.9525434109361677], [49.0, 0.0, 4.561044342177363], [50.0, 0.0, 5.262977688448038], [51.0, 0.0, 6.072689243116841], [52.0, 0.0, 7.023528813439499], [53.0, 0.0, 8.51145127392753], [54.0, 0.0, 10.838495013832258], [55.0, 0.0, 13.978853548740675], [56.0, 0.0, 17.9011563024857], [57.0, 0.0, 22.631236417050555], [58.0, 0.0, 28.245788655954257], [59.0, 0.0, 34.85988028214252], [60.0, 1.0, 42.619779684869386], [61.0, 2.0, 51.70084940896884], [62.0, 3.0, 62.30872552008051], [63.0, 7.0, 74.68252219326686], [64.0, 10.0, 89.09940758661806], [65.0, 12.0, 105.88028794596345], [66.0, 17.0, 125.39655196550193], [67.0, 21.0, 148.07794963050938], [68.0, 29.0, 174.42172674002327], [69.0, 34.0, 205.00320667508737], [70.0, 52.0, 240.48803791507575], [71.0, 79.0, 281.64634688872076], [72.0, 107.0, 329.3691151831198], [73.0, 148.0, 384.68710874999937], [74.0, 197.0, 448.7927620386458], [75.0, 233.0, 523.0654722405543], [76.0, 366.0, 609.1008288140791], [77.0, 463.0, 708.744386407189], [78.0, 631.0, 824.130674080368], [79.0, 827.0, 957.7282411333076], [80.0, 1016.0, 1112.3916584692108], [81.0, 1266.0, 1291.4215242180721], [82.0, 1441.0, 1498.6336745896094], [83.0, 1809.0, 1738.4389769843824], [84.0, 2158.0, 2015.9352360160192], [85.0, 2503.0, 2337.0130271669213], [86.0, 2978.0, 2708.477305285788], [87.0, 3405.0, 3138.1853857963424], [88.0, 4032.0, 3635.183047039771], [89.0, 4825.0, 4209.593585450708], [90.0, 5476.0, 4870.208533769208], [91.0, 6077.0, 5615.374779818258], [92.0, 6820.0, 6427.666678584623], [93.0, 7503.0, 7283.131741172009], [94.0, 8215.0, 8160.2176475163415], [95.0, 9134.0, 9042.565510687748], [96.0, 10023.0, 9918.747036944957], [97.0, 10779.0, 10781.17474611932], [98.0, 11591.0, 11625.018745598834], [99.0, 12428.0, 12447.35005673968], [100.0, 13155.0, 13246.520194689467], [101.0, 13915.0, 14021.730326528022], [102.0, 14681.0, 14772.738657805548], [103.0, 15362.0, 15499.66419982674], [104.0, 15887.0, 16202.85603582629], [105.0, 16523.0, 16882.80679339448], [106.0, 17127.0, 17540.095487309038], [107.0, 17669.0, 18175.349944941758], [108.0, 18279.0, 18789.22220440475], [109.0, 18849.0, 19382.37249356915], [110.0, 19468.0, 19955.458867403686], [111.0, 19899.0, 20509.13062534179], [112.0, 20465.0, 21044.02415553567], [113.0, 21067.0, 21560.7604593124], [114.0, 21645.0, 22059.943691816214], [115.0, 22170.0, 22542.160441500077], [116.0, 22745.0, 23007.979450421568], [117.0, 23227.0, 23457.951632496184], [118.0, 23660.0, 23892.610281026315], [119.0, 24114.0, 24312.4713957683], [120.0, 24648.0, 24718.03408459314], [121.0, 25085.0, 25109.781002248274], [122.0, 25549.0, 25488.17882582857], [123.0, 25969.0, 25853.67871948586], [124.0, 26384.0, 26206.71681358603], [125.0, 26644.0, 26547.714677589767], [126.0, 26977.0, 26877.079783829682], [127.0, 27359.0, 27195.20596059092], [128.0, 27682.0, 27502.47383619609], [129.0, 27967.0, 27799.251268682707], [130.0, 28236.0, 28085.893764208926], [131.0, 28710.0, 28362.744887720797], [132.0, 28884.0, 28630.13665324194], [133.0, 29079.0, 28888.38989491765], [134.0, 29315.0, 29137.81464784964], [135.0, 29684.0, 29378.7105073342], [136.0, 29958.0, 29611.36697330799], [137.0, 30201.0, 29836.063796047845], [138.0, 30395.0, 30053.071255634855], [139.0, 30560.0, 30262.650542371128], [140.0, 30739.0, 30465.054022441185], [141.0, 30911.0, 30660.525523734905], [142.0, 31106.0, 30849.300645751435], [143.0, 31368.0, 31031.607029325496], [144.0, 31610.0, 31207.664611233977], [145.0, 31763.0, 31377.685877087402], [146.0, 31908.0, 31541.876137049574], [147.0, 32007.0, 31700.433754713275], [148.0, 32169.0, 31853.55035306939], [149.0, 32330.0, 32001.411085531876], [150.0, 32486.0, 32144.194825399143], [151.0, 32616.0, 32282.07439079183], [152.0, 32735.0, 32415.216729404696], [153.0, 32785.0, 32543.78310825075], [154.0, 32877.0, 32667.929353227933], [155.0, 32955.0, 32787.80599496267], [156.0, 33072.0, 32903.55845884507], [157.0, 33142.0, 33015.32728047817], [158.0, 33229.0, 33123.24816339525], [159.0, 33340.0, 33227.45216029239], [160.0, 33415.0, 33328.06594283353], [161.0, 33475.0, 33425.21186383223], [162.0, 33530.0, 33519.008123927575], [163.0, 33601.0, 33609.56887134124], [164.0, 33689.0, 33697.00439182087], [165.0, 33774.0, 33781.42126441748], [166.0, 33846.0, 33862.92238978947], [167.0, 33899.0, 33941.6071867502], [168.0, 33964.0, 34017.571689146585], [169.0, 34043.0, 34090.908664336916], [170.0, 34114.0, 34161.707725998254], [171.0, 34167.0, 34230.05542725391], [172.0, 34223.0, 34296.03538901618], [173.0, 34301.0, 34359.728381629946], [174.0, 34345.0, 34421.21240185679], [175.0, 34371.0, 34480.56282004945], [176.0, 34405.0, 34537.85244364528], [177.0, 34448.0, 34593.15159889994], [178.0, 34514.0, 34646.52818153354], [179.0, 34561.0, 34698.04779185856], [180.0, 34610.0, 34747.77380737093], [181.0, 34634.0, 34795.76743937773], [182.0, 34657.0, 34842.08781179993], [183.0, 34675.0, 34886.79202269199], [184.0, 34644.0, 34929.93524886868], [185.0, 34678.0, 34971.570769559745], [186.0, 34708.0, 35011.75004864492], [187.0, 34716.0, 35050.52279611653], [188.0, 34738.0, 35087.9370280368], [189.0, 34744.0, 35124.039124005394], [190.0, 34767.0, 35158.87387882598], [191.0, 34788.0, 35192.48456129717]], \"data02\": [[0.0173697270471464, 0.9569996320824135, 0.9087104488594555], [0.05596912048524952, 0.9569996320824135, 0.9087104488594555]], \"data03\": [[0.01350978770333608, 0.8776674025018396], [0.1438516680452164, 0.8776674025018396], [0.14771160738902675, 0.8776674025018396], [0.14771160738902675, 0.8841059602649006], [0.14771160738902675, 0.9774650478292861], [0.14771160738902675, 0.9839036055923474], [0.1438516680452164, 0.9839036055923474], [0.01350978770333608, 0.9839036055923474], [0.009649848359525787, 0.9839036055923474], [0.009649848359525787, 0.9774650478292861], [0.009649848359525787, 0.8841059602649006], [0.009649848359525787, 0.8776674025018396], [0.01350978770333608, 0.8776674025018396]]}, \"id\": \"el8664108260552\", \"plugins\": [{\"type\": \"reset\"}, {\"type\": \"zoom\", \"button\": true, \"enabled\": false}, {\"type\": \"boxzoom\", \"button\": true, \"enabled\": false}]});\n",
       "   }(mpld3);\n",
       "}else if(typeof define === \"function\" && define.amd){\n",
       "   // require.js is available: use it to load d3/mpld3\n",
       "   require.config({paths: {d3: \"https://d3js.org/d3.v5\"}});\n",
       "   require([\"d3\"], function(d3){\n",
       "      window.d3 = d3;\n",
       "      mpld3_load_lib(\"https://mpld3.github.io/js/mpld3.v0.5.1.js\", function(){\n",
       "         \n",
       "         mpld3.draw_figure(\"fig_el86641082605523090232931\", {\"width\": 936.0, \"height\": 576.0, \"axes\": [{\"bbox\": [0.125, 0.125, 0.775, 0.755], \"xlim\": [-9.55, 200.55], \"ylim\": [-1759.6242280648585, 36952.10878936203], \"xdomain\": [-9.55, 200.55], \"ydomain\": [-1759.6242280648585, 36952.10878936203], \"xscale\": \"linear\", \"yscale\": \"linear\", \"axes\": [{\"position\": \"bottom\", \"nticks\": 11, \"tickvalues\": null, \"tickformat_formatter\": \"\", \"tickformat\": null, \"scale\": \"linear\", \"fontsize\": 12.0, \"grid\": {\"gridOn\": false}, \"visible\": true}, {\"position\": \"left\", \"nticks\": 10, \"tickvalues\": null, \"tickformat_formatter\": \"\", \"tickformat\": null, \"scale\": \"linear\", \"fontsize\": 12.0, \"grid\": {\"gridOn\": false}, \"visible\": true}], \"axesbg\": \"#FFFFFF\", \"axesbgalpha\": null, \"zoomable\": true, \"id\": \"el8664108158216\", \"lines\": [{\"data\": \"data01\", \"xindex\": 0, \"yindex\": 1, \"coordinates\": \"data\", \"id\": \"el8664108349064\", \"color\": \"#1F77B4\", \"linewidth\": 2.0, \"dasharray\": \"none\", \"alpha\": 1, \"zorder\": 2, \"drawstyle\": \"default\"}, {\"data\": \"data01\", \"xindex\": 0, \"yindex\": 2, \"coordinates\": \"data\", \"id\": \"el8664108210376\", \"color\": \"#FF7F0E\", \"linewidth\": 2.0, \"dasharray\": \"none\", \"alpha\": 1, \"zorder\": 2, \"drawstyle\": \"default\"}, {\"data\": \"data02\", \"xindex\": 0, \"yindex\": 1, \"coordinates\": \"axes\", \"id\": \"el8664108375944\", \"color\": \"#1F77B4\", \"linewidth\": 2.0, \"dasharray\": \"none\", \"alpha\": 1, \"zorder\": 1000002.0, \"drawstyle\": \"default\"}, {\"data\": \"data02\", \"xindex\": 0, \"yindex\": 2, \"coordinates\": \"axes\", \"id\": \"el8664108416136\", \"color\": \"#FF7F0E\", \"linewidth\": 2.0, \"dasharray\": \"none\", \"alpha\": 1, \"zorder\": 1000002.0, \"drawstyle\": \"default\"}], \"paths\": [{\"data\": \"data03\", \"xindex\": 0, \"yindex\": 1, \"coordinates\": \"axes\", \"pathcodes\": [\"M\", \"L\", \"S\", \"L\", \"S\", \"L\", \"S\", \"L\", \"S\", \"Z\"], \"id\": \"el8664108413256\", \"dasharray\": \"none\", \"alpha\": 0.8, \"facecolor\": \"rgba(255, 255, 255, 0.8)\", \"edgecolor\": \"rgba(204, 204, 204, 0.8)\", \"edgewidth\": 1.0, \"zorder\": 1000000.0}], \"markers\": [], \"texts\": [{\"text\": \"x\", \"position\": [0.5, -0.05518763796909494], \"coordinates\": \"axes\", \"h_anchor\": \"middle\", \"v_baseline\": \"hanging\", \"rotation\": -0.0, \"fontsize\": 14.0, \"color\": \"#000000\", \"alpha\": 1, \"zorder\": 3, \"id\": \"el8664185945544\"}, {\"text\": \"y\", \"position\": [-0.067031982354563, 0.4999999999999999], \"coordinates\": \"axes\", \"h_anchor\": \"middle\", \"v_baseline\": \"auto\", \"rotation\": -90.0, \"fontsize\": 14.0, \"color\": \"#000000\", \"alpha\": 1, \"zorder\": 3, \"id\": \"el8664108248008\"}, {\"text\": \"Model(fitter)\", \"position\": [0.5, 1.0137969094922736], \"coordinates\": \"axes\", \"h_anchor\": \"middle\", \"v_baseline\": \"auto\", \"rotation\": -0.0, \"fontsize\": 12.0, \"color\": \"#000000\", \"alpha\": 1, \"zorder\": 3, \"id\": \"el8664108290504\"}, {\"text\": \"data\", \"position\": [0.07140887786049077, 0.9457321559970566], \"coordinates\": \"axes\", \"h_anchor\": \"start\", \"v_baseline\": \"auto\", \"rotation\": -0.0, \"fontsize\": 14.0, \"color\": \"#000000\", \"alpha\": 1, \"zorder\": 1000003.0, \"id\": \"el8664108415496\"}, {\"text\": \"best-fit\", \"position\": [0.07140887786049077, 0.8974429727740987], \"coordinates\": \"axes\", \"h_anchor\": \"start\", \"v_baseline\": \"auto\", \"rotation\": -0.0, \"fontsize\": 14.0, \"color\": \"#000000\", \"alpha\": 1, \"zorder\": 1000003.0, \"id\": \"el8664108429576\"}], \"collections\": [], \"images\": [], \"sharex\": [], \"sharey\": []}], \"data\": {\"data01\": [[0.0, 0.0, 0.0], [1.0, 0.0, 1.7857624140278206e-05], [2.0, 0.0, 0.00012611652289123268], [3.0, 0.0, 0.0003806609167178963], [4.0, 0.0, 0.0008167270110182658], [5.0, 0.0, 0.0014600827451416714], [6.0, 0.0, 0.0023333792581010835], [7.0, 0.0, 0.0034598584705675343], [8.0, 0.0, 0.004865636186014339], [9.0, 0.0, 0.006581244108806133], [10.0, 0.0, 0.008642816625856432], [11.0, 0.0, 0.011093143937527193], [12.0, 0.0, 0.013982722911633612], [13.0, 0.0, 0.017370888306833334], [14.0, 0.0, 0.021327081558978264], [15.0, 0.0, 0.02593230210427936], [16.0, 0.0, 0.031280781146546796], [17.0, 0.0, 0.03748191866288686], [18.0, 0.0, 0.0446625257750032], [19.0, 0.0, 0.05296942072198787], [20.0, 0.0, 0.06257243282280983], [21.0, 0.0, 0.07366787204882917], [22.0, 0.0, 0.08648254921991383], [23.0, 0.0, 0.10127840644629388], [24.0, 0.0, 0.11835787388741924], [25.0, 0.0, 0.1380700516909115], [26.0, 0.0, 0.16081784436559662], [27.0, 0.0, 0.18706619781197997], [28.0, 0.0, 0.21735160127842806], [29.0, 0.0, 0.252293052038115], [30.0, 0.0, 0.29260470773483016], [31.0, 0.0, 0.33911048236875235], [32.0, 0.0, 0.39276088623767086], [33.0, 0.0, 0.4546524519539602], [34.0, 0.0, 0.5260501463872467], [35.0, 0.0, 0.6084132242421438], [36.0, 0.0, 0.7034250521426446], [37.0, 0.0, 0.8130275137192317], [38.0, 0.0, 0.9394606976318483], [39.0, 0.0, 1.0853086800003429], [40.0, 0.0, 1.253552336270615], [41.0, 0.0, 1.4476302678738442], [42.0, 0.0, 1.6715090722812234], [43.0, 0.0, 1.9297644152054085], [44.0, 0.0, 2.2276745417579153], [45.0, 0.0, 2.5713281502573206], [46.0, 0.0, 2.9677488246339823], [47.0, 0.0, 3.4250385740468485], [48.0, 0.0, 3.9525434109361677], [49.0, 0.0, 4.561044342177363], [50.0, 0.0, 5.262977688448038], [51.0, 0.0, 6.072689243116841], [52.0, 0.0, 7.023528813439499], [53.0, 0.0, 8.51145127392753], [54.0, 0.0, 10.838495013832258], [55.0, 0.0, 13.978853548740675], [56.0, 0.0, 17.9011563024857], [57.0, 0.0, 22.631236417050555], [58.0, 0.0, 28.245788655954257], [59.0, 0.0, 34.85988028214252], [60.0, 1.0, 42.619779684869386], [61.0, 2.0, 51.70084940896884], [62.0, 3.0, 62.30872552008051], [63.0, 7.0, 74.68252219326686], [64.0, 10.0, 89.09940758661806], [65.0, 12.0, 105.88028794596345], [66.0, 17.0, 125.39655196550193], [67.0, 21.0, 148.07794963050938], [68.0, 29.0, 174.42172674002327], [69.0, 34.0, 205.00320667508737], [70.0, 52.0, 240.48803791507575], [71.0, 79.0, 281.64634688872076], [72.0, 107.0, 329.3691151831198], [73.0, 148.0, 384.68710874999937], [74.0, 197.0, 448.7927620386458], [75.0, 233.0, 523.0654722405543], [76.0, 366.0, 609.1008288140791], [77.0, 463.0, 708.744386407189], [78.0, 631.0, 824.130674080368], [79.0, 827.0, 957.7282411333076], [80.0, 1016.0, 1112.3916584692108], [81.0, 1266.0, 1291.4215242180721], [82.0, 1441.0, 1498.6336745896094], [83.0, 1809.0, 1738.4389769843824], [84.0, 2158.0, 2015.9352360160192], [85.0, 2503.0, 2337.0130271669213], [86.0, 2978.0, 2708.477305285788], [87.0, 3405.0, 3138.1853857963424], [88.0, 4032.0, 3635.183047039771], [89.0, 4825.0, 4209.593585450708], [90.0, 5476.0, 4870.208533769208], [91.0, 6077.0, 5615.374779818258], [92.0, 6820.0, 6427.666678584623], [93.0, 7503.0, 7283.131741172009], [94.0, 8215.0, 8160.2176475163415], [95.0, 9134.0, 9042.565510687748], [96.0, 10023.0, 9918.747036944957], [97.0, 10779.0, 10781.17474611932], [98.0, 11591.0, 11625.018745598834], [99.0, 12428.0, 12447.35005673968], [100.0, 13155.0, 13246.520194689467], [101.0, 13915.0, 14021.730326528022], [102.0, 14681.0, 14772.738657805548], [103.0, 15362.0, 15499.66419982674], [104.0, 15887.0, 16202.85603582629], [105.0, 16523.0, 16882.80679339448], [106.0, 17127.0, 17540.095487309038], [107.0, 17669.0, 18175.349944941758], [108.0, 18279.0, 18789.22220440475], [109.0, 18849.0, 19382.37249356915], [110.0, 19468.0, 19955.458867403686], [111.0, 19899.0, 20509.13062534179], [112.0, 20465.0, 21044.02415553567], [113.0, 21067.0, 21560.7604593124], [114.0, 21645.0, 22059.943691816214], [115.0, 22170.0, 22542.160441500077], [116.0, 22745.0, 23007.979450421568], [117.0, 23227.0, 23457.951632496184], [118.0, 23660.0, 23892.610281026315], [119.0, 24114.0, 24312.4713957683], [120.0, 24648.0, 24718.03408459314], [121.0, 25085.0, 25109.781002248274], [122.0, 25549.0, 25488.17882582857], [123.0, 25969.0, 25853.67871948586], [124.0, 26384.0, 26206.71681358603], [125.0, 26644.0, 26547.714677589767], [126.0, 26977.0, 26877.079783829682], [127.0, 27359.0, 27195.20596059092], [128.0, 27682.0, 27502.47383619609], [129.0, 27967.0, 27799.251268682707], [130.0, 28236.0, 28085.893764208926], [131.0, 28710.0, 28362.744887720797], [132.0, 28884.0, 28630.13665324194], [133.0, 29079.0, 28888.38989491765], [134.0, 29315.0, 29137.81464784964], [135.0, 29684.0, 29378.7105073342], [136.0, 29958.0, 29611.36697330799], [137.0, 30201.0, 29836.063796047845], [138.0, 30395.0, 30053.071255634855], [139.0, 30560.0, 30262.650542371128], [140.0, 30739.0, 30465.054022441185], [141.0, 30911.0, 30660.525523734905], [142.0, 31106.0, 30849.300645751435], [143.0, 31368.0, 31031.607029325496], [144.0, 31610.0, 31207.664611233977], [145.0, 31763.0, 31377.685877087402], [146.0, 31908.0, 31541.876137049574], [147.0, 32007.0, 31700.433754713275], [148.0, 32169.0, 31853.55035306939], [149.0, 32330.0, 32001.411085531876], [150.0, 32486.0, 32144.194825399143], [151.0, 32616.0, 32282.07439079183], [152.0, 32735.0, 32415.216729404696], [153.0, 32785.0, 32543.78310825075], [154.0, 32877.0, 32667.929353227933], [155.0, 32955.0, 32787.80599496267], [156.0, 33072.0, 32903.55845884507], [157.0, 33142.0, 33015.32728047817], [158.0, 33229.0, 33123.24816339525], [159.0, 33340.0, 33227.45216029239], [160.0, 33415.0, 33328.06594283353], [161.0, 33475.0, 33425.21186383223], [162.0, 33530.0, 33519.008123927575], [163.0, 33601.0, 33609.56887134124], [164.0, 33689.0, 33697.00439182087], [165.0, 33774.0, 33781.42126441748], [166.0, 33846.0, 33862.92238978947], [167.0, 33899.0, 33941.6071867502], [168.0, 33964.0, 34017.571689146585], [169.0, 34043.0, 34090.908664336916], [170.0, 34114.0, 34161.707725998254], [171.0, 34167.0, 34230.05542725391], [172.0, 34223.0, 34296.03538901618], [173.0, 34301.0, 34359.728381629946], [174.0, 34345.0, 34421.21240185679], [175.0, 34371.0, 34480.56282004945], [176.0, 34405.0, 34537.85244364528], [177.0, 34448.0, 34593.15159889994], [178.0, 34514.0, 34646.52818153354], [179.0, 34561.0, 34698.04779185856], [180.0, 34610.0, 34747.77380737093], [181.0, 34634.0, 34795.76743937773], [182.0, 34657.0, 34842.08781179993], [183.0, 34675.0, 34886.79202269199], [184.0, 34644.0, 34929.93524886868], [185.0, 34678.0, 34971.570769559745], [186.0, 34708.0, 35011.75004864492], [187.0, 34716.0, 35050.52279611653], [188.0, 34738.0, 35087.9370280368], [189.0, 34744.0, 35124.039124005394], [190.0, 34767.0, 35158.87387882598], [191.0, 34788.0, 35192.48456129717]], \"data02\": [[0.0173697270471464, 0.9569996320824135, 0.9087104488594555], [0.05596912048524952, 0.9569996320824135, 0.9087104488594555]], \"data03\": [[0.01350978770333608, 0.8776674025018396], [0.1438516680452164, 0.8776674025018396], [0.14771160738902675, 0.8776674025018396], [0.14771160738902675, 0.8841059602649006], [0.14771160738902675, 0.9774650478292861], [0.14771160738902675, 0.9839036055923474], [0.1438516680452164, 0.9839036055923474], [0.01350978770333608, 0.9839036055923474], [0.009649848359525787, 0.9839036055923474], [0.009649848359525787, 0.9774650478292861], [0.009649848359525787, 0.8841059602649006], [0.009649848359525787, 0.8776674025018396], [0.01350978770333608, 0.8776674025018396]]}, \"id\": \"el8664108260552\", \"plugins\": [{\"type\": \"reset\"}, {\"type\": \"zoom\", \"button\": true, \"enabled\": false}, {\"type\": \"boxzoom\", \"button\": true, \"enabled\": false}]});\n",
       "      });\n",
       "    });\n",
       "}else{\n",
       "    // require.js not available: dynamically load d3 & mpld3\n",
       "    mpld3_load_lib(\"https://d3js.org/d3.v5.js\", function(){\n",
       "         mpld3_load_lib(\"https://mpld3.github.io/js/mpld3.v0.5.1.js\", function(){\n",
       "                 \n",
       "                 mpld3.draw_figure(\"fig_el86641082605523090232931\", {\"width\": 936.0, \"height\": 576.0, \"axes\": [{\"bbox\": [0.125, 0.125, 0.775, 0.755], \"xlim\": [-9.55, 200.55], \"ylim\": [-1759.6242280648585, 36952.10878936203], \"xdomain\": [-9.55, 200.55], \"ydomain\": [-1759.6242280648585, 36952.10878936203], \"xscale\": \"linear\", \"yscale\": \"linear\", \"axes\": [{\"position\": \"bottom\", \"nticks\": 11, \"tickvalues\": null, \"tickformat_formatter\": \"\", \"tickformat\": null, \"scale\": \"linear\", \"fontsize\": 12.0, \"grid\": {\"gridOn\": false}, \"visible\": true}, {\"position\": \"left\", \"nticks\": 10, \"tickvalues\": null, \"tickformat_formatter\": \"\", \"tickformat\": null, \"scale\": \"linear\", \"fontsize\": 12.0, \"grid\": {\"gridOn\": false}, \"visible\": true}], \"axesbg\": \"#FFFFFF\", \"axesbgalpha\": null, \"zoomable\": true, \"id\": \"el8664108158216\", \"lines\": [{\"data\": \"data01\", \"xindex\": 0, \"yindex\": 1, \"coordinates\": \"data\", \"id\": \"el8664108349064\", \"color\": \"#1F77B4\", \"linewidth\": 2.0, \"dasharray\": \"none\", \"alpha\": 1, \"zorder\": 2, \"drawstyle\": \"default\"}, {\"data\": \"data01\", \"xindex\": 0, \"yindex\": 2, \"coordinates\": \"data\", \"id\": \"el8664108210376\", \"color\": \"#FF7F0E\", \"linewidth\": 2.0, \"dasharray\": \"none\", \"alpha\": 1, \"zorder\": 2, \"drawstyle\": \"default\"}, {\"data\": \"data02\", \"xindex\": 0, \"yindex\": 1, \"coordinates\": \"axes\", \"id\": \"el8664108375944\", \"color\": \"#1F77B4\", \"linewidth\": 2.0, \"dasharray\": \"none\", \"alpha\": 1, \"zorder\": 1000002.0, \"drawstyle\": \"default\"}, {\"data\": \"data02\", \"xindex\": 0, \"yindex\": 2, \"coordinates\": \"axes\", \"id\": \"el8664108416136\", \"color\": \"#FF7F0E\", \"linewidth\": 2.0, \"dasharray\": \"none\", \"alpha\": 1, \"zorder\": 1000002.0, \"drawstyle\": \"default\"}], \"paths\": [{\"data\": \"data03\", \"xindex\": 0, \"yindex\": 1, \"coordinates\": \"axes\", \"pathcodes\": [\"M\", \"L\", \"S\", \"L\", \"S\", \"L\", \"S\", \"L\", \"S\", \"Z\"], \"id\": \"el8664108413256\", \"dasharray\": \"none\", \"alpha\": 0.8, \"facecolor\": \"rgba(255, 255, 255, 0.8)\", \"edgecolor\": \"rgba(204, 204, 204, 0.8)\", \"edgewidth\": 1.0, \"zorder\": 1000000.0}], \"markers\": [], \"texts\": [{\"text\": \"x\", \"position\": [0.5, -0.05518763796909494], \"coordinates\": \"axes\", \"h_anchor\": \"middle\", \"v_baseline\": \"hanging\", \"rotation\": -0.0, \"fontsize\": 14.0, \"color\": \"#000000\", \"alpha\": 1, \"zorder\": 3, \"id\": \"el8664185945544\"}, {\"text\": \"y\", \"position\": [-0.067031982354563, 0.4999999999999999], \"coordinates\": \"axes\", \"h_anchor\": \"middle\", \"v_baseline\": \"auto\", \"rotation\": -90.0, \"fontsize\": 14.0, \"color\": \"#000000\", \"alpha\": 1, \"zorder\": 3, \"id\": \"el8664108248008\"}, {\"text\": \"Model(fitter)\", \"position\": [0.5, 1.0137969094922736], \"coordinates\": \"axes\", \"h_anchor\": \"middle\", \"v_baseline\": \"auto\", \"rotation\": -0.0, \"fontsize\": 12.0, \"color\": \"#000000\", \"alpha\": 1, \"zorder\": 3, \"id\": \"el8664108290504\"}, {\"text\": \"data\", \"position\": [0.07140887786049077, 0.9457321559970566], \"coordinates\": \"axes\", \"h_anchor\": \"start\", \"v_baseline\": \"auto\", \"rotation\": -0.0, \"fontsize\": 14.0, \"color\": \"#000000\", \"alpha\": 1, \"zorder\": 1000003.0, \"id\": \"el8664108415496\"}, {\"text\": \"best-fit\", \"position\": [0.07140887786049077, 0.8974429727740987], \"coordinates\": \"axes\", \"h_anchor\": \"start\", \"v_baseline\": \"auto\", \"rotation\": -0.0, \"fontsize\": 14.0, \"color\": \"#000000\", \"alpha\": 1, \"zorder\": 1000003.0, \"id\": \"el8664108429576\"}], \"collections\": [], \"images\": [], \"sharex\": [], \"sharey\": []}], \"data\": {\"data01\": [[0.0, 0.0, 0.0], [1.0, 0.0, 1.7857624140278206e-05], [2.0, 0.0, 0.00012611652289123268], [3.0, 0.0, 0.0003806609167178963], [4.0, 0.0, 0.0008167270110182658], [5.0, 0.0, 0.0014600827451416714], [6.0, 0.0, 0.0023333792581010835], [7.0, 0.0, 0.0034598584705675343], [8.0, 0.0, 0.004865636186014339], [9.0, 0.0, 0.006581244108806133], [10.0, 0.0, 0.008642816625856432], [11.0, 0.0, 0.011093143937527193], [12.0, 0.0, 0.013982722911633612], [13.0, 0.0, 0.017370888306833334], [14.0, 0.0, 0.021327081558978264], [15.0, 0.0, 0.02593230210427936], [16.0, 0.0, 0.031280781146546796], [17.0, 0.0, 0.03748191866288686], [18.0, 0.0, 0.0446625257750032], [19.0, 0.0, 0.05296942072198787], [20.0, 0.0, 0.06257243282280983], [21.0, 0.0, 0.07366787204882917], [22.0, 0.0, 0.08648254921991383], [23.0, 0.0, 0.10127840644629388], [24.0, 0.0, 0.11835787388741924], [25.0, 0.0, 0.1380700516909115], [26.0, 0.0, 0.16081784436559662], [27.0, 0.0, 0.18706619781197997], [28.0, 0.0, 0.21735160127842806], [29.0, 0.0, 0.252293052038115], [30.0, 0.0, 0.29260470773483016], [31.0, 0.0, 0.33911048236875235], [32.0, 0.0, 0.39276088623767086], [33.0, 0.0, 0.4546524519539602], [34.0, 0.0, 0.5260501463872467], [35.0, 0.0, 0.6084132242421438], [36.0, 0.0, 0.7034250521426446], [37.0, 0.0, 0.8130275137192317], [38.0, 0.0, 0.9394606976318483], [39.0, 0.0, 1.0853086800003429], [40.0, 0.0, 1.253552336270615], [41.0, 0.0, 1.4476302678738442], [42.0, 0.0, 1.6715090722812234], [43.0, 0.0, 1.9297644152054085], [44.0, 0.0, 2.2276745417579153], [45.0, 0.0, 2.5713281502573206], [46.0, 0.0, 2.9677488246339823], [47.0, 0.0, 3.4250385740468485], [48.0, 0.0, 3.9525434109361677], [49.0, 0.0, 4.561044342177363], [50.0, 0.0, 5.262977688448038], [51.0, 0.0, 6.072689243116841], [52.0, 0.0, 7.023528813439499], [53.0, 0.0, 8.51145127392753], [54.0, 0.0, 10.838495013832258], [55.0, 0.0, 13.978853548740675], [56.0, 0.0, 17.9011563024857], [57.0, 0.0, 22.631236417050555], [58.0, 0.0, 28.245788655954257], [59.0, 0.0, 34.85988028214252], [60.0, 1.0, 42.619779684869386], [61.0, 2.0, 51.70084940896884], [62.0, 3.0, 62.30872552008051], [63.0, 7.0, 74.68252219326686], [64.0, 10.0, 89.09940758661806], [65.0, 12.0, 105.88028794596345], [66.0, 17.0, 125.39655196550193], [67.0, 21.0, 148.07794963050938], [68.0, 29.0, 174.42172674002327], [69.0, 34.0, 205.00320667508737], [70.0, 52.0, 240.48803791507575], [71.0, 79.0, 281.64634688872076], [72.0, 107.0, 329.3691151831198], [73.0, 148.0, 384.68710874999937], [74.0, 197.0, 448.7927620386458], [75.0, 233.0, 523.0654722405543], [76.0, 366.0, 609.1008288140791], [77.0, 463.0, 708.744386407189], [78.0, 631.0, 824.130674080368], [79.0, 827.0, 957.7282411333076], [80.0, 1016.0, 1112.3916584692108], [81.0, 1266.0, 1291.4215242180721], [82.0, 1441.0, 1498.6336745896094], [83.0, 1809.0, 1738.4389769843824], [84.0, 2158.0, 2015.9352360160192], [85.0, 2503.0, 2337.0130271669213], [86.0, 2978.0, 2708.477305285788], [87.0, 3405.0, 3138.1853857963424], [88.0, 4032.0, 3635.183047039771], [89.0, 4825.0, 4209.593585450708], [90.0, 5476.0, 4870.208533769208], [91.0, 6077.0, 5615.374779818258], [92.0, 6820.0, 6427.666678584623], [93.0, 7503.0, 7283.131741172009], [94.0, 8215.0, 8160.2176475163415], [95.0, 9134.0, 9042.565510687748], [96.0, 10023.0, 9918.747036944957], [97.0, 10779.0, 10781.17474611932], [98.0, 11591.0, 11625.018745598834], [99.0, 12428.0, 12447.35005673968], [100.0, 13155.0, 13246.520194689467], [101.0, 13915.0, 14021.730326528022], [102.0, 14681.0, 14772.738657805548], [103.0, 15362.0, 15499.66419982674], [104.0, 15887.0, 16202.85603582629], [105.0, 16523.0, 16882.80679339448], [106.0, 17127.0, 17540.095487309038], [107.0, 17669.0, 18175.349944941758], [108.0, 18279.0, 18789.22220440475], [109.0, 18849.0, 19382.37249356915], [110.0, 19468.0, 19955.458867403686], [111.0, 19899.0, 20509.13062534179], [112.0, 20465.0, 21044.02415553567], [113.0, 21067.0, 21560.7604593124], [114.0, 21645.0, 22059.943691816214], [115.0, 22170.0, 22542.160441500077], [116.0, 22745.0, 23007.979450421568], [117.0, 23227.0, 23457.951632496184], [118.0, 23660.0, 23892.610281026315], [119.0, 24114.0, 24312.4713957683], [120.0, 24648.0, 24718.03408459314], [121.0, 25085.0, 25109.781002248274], [122.0, 25549.0, 25488.17882582857], [123.0, 25969.0, 25853.67871948586], [124.0, 26384.0, 26206.71681358603], [125.0, 26644.0, 26547.714677589767], [126.0, 26977.0, 26877.079783829682], [127.0, 27359.0, 27195.20596059092], [128.0, 27682.0, 27502.47383619609], [129.0, 27967.0, 27799.251268682707], [130.0, 28236.0, 28085.893764208926], [131.0, 28710.0, 28362.744887720797], [132.0, 28884.0, 28630.13665324194], [133.0, 29079.0, 28888.38989491765], [134.0, 29315.0, 29137.81464784964], [135.0, 29684.0, 29378.7105073342], [136.0, 29958.0, 29611.36697330799], [137.0, 30201.0, 29836.063796047845], [138.0, 30395.0, 30053.071255634855], [139.0, 30560.0, 30262.650542371128], [140.0, 30739.0, 30465.054022441185], [141.0, 30911.0, 30660.525523734905], [142.0, 31106.0, 30849.300645751435], [143.0, 31368.0, 31031.607029325496], [144.0, 31610.0, 31207.664611233977], [145.0, 31763.0, 31377.685877087402], [146.0, 31908.0, 31541.876137049574], [147.0, 32007.0, 31700.433754713275], [148.0, 32169.0, 31853.55035306939], [149.0, 32330.0, 32001.411085531876], [150.0, 32486.0, 32144.194825399143], [151.0, 32616.0, 32282.07439079183], [152.0, 32735.0, 32415.216729404696], [153.0, 32785.0, 32543.78310825075], [154.0, 32877.0, 32667.929353227933], [155.0, 32955.0, 32787.80599496267], [156.0, 33072.0, 32903.55845884507], [157.0, 33142.0, 33015.32728047817], [158.0, 33229.0, 33123.24816339525], [159.0, 33340.0, 33227.45216029239], [160.0, 33415.0, 33328.06594283353], [161.0, 33475.0, 33425.21186383223], [162.0, 33530.0, 33519.008123927575], [163.0, 33601.0, 33609.56887134124], [164.0, 33689.0, 33697.00439182087], [165.0, 33774.0, 33781.42126441748], [166.0, 33846.0, 33862.92238978947], [167.0, 33899.0, 33941.6071867502], [168.0, 33964.0, 34017.571689146585], [169.0, 34043.0, 34090.908664336916], [170.0, 34114.0, 34161.707725998254], [171.0, 34167.0, 34230.05542725391], [172.0, 34223.0, 34296.03538901618], [173.0, 34301.0, 34359.728381629946], [174.0, 34345.0, 34421.21240185679], [175.0, 34371.0, 34480.56282004945], [176.0, 34405.0, 34537.85244364528], [177.0, 34448.0, 34593.15159889994], [178.0, 34514.0, 34646.52818153354], [179.0, 34561.0, 34698.04779185856], [180.0, 34610.0, 34747.77380737093], [181.0, 34634.0, 34795.76743937773], [182.0, 34657.0, 34842.08781179993], [183.0, 34675.0, 34886.79202269199], [184.0, 34644.0, 34929.93524886868], [185.0, 34678.0, 34971.570769559745], [186.0, 34708.0, 35011.75004864492], [187.0, 34716.0, 35050.52279611653], [188.0, 34738.0, 35087.9370280368], [189.0, 34744.0, 35124.039124005394], [190.0, 34767.0, 35158.87387882598], [191.0, 34788.0, 35192.48456129717]], \"data02\": [[0.0173697270471464, 0.9569996320824135, 0.9087104488594555], [0.05596912048524952, 0.9569996320824135, 0.9087104488594555]], \"data03\": [[0.01350978770333608, 0.8776674025018396], [0.1438516680452164, 0.8776674025018396], [0.14771160738902675, 0.8776674025018396], [0.14771160738902675, 0.8841059602649006], [0.14771160738902675, 0.9774650478292861], [0.14771160738902675, 0.9839036055923474], [0.1438516680452164, 0.9839036055923474], [0.01350978770333608, 0.9839036055923474], [0.009649848359525787, 0.9839036055923474], [0.009649848359525787, 0.9774650478292861], [0.009649848359525787, 0.8841059602649006], [0.009649848359525787, 0.8776674025018396], [0.01350978770333608, 0.8776674025018396]]}, \"id\": \"el8664108260552\", \"plugins\": [{\"type\": \"reset\"}, {\"type\": \"zoom\", \"button\": true, \"enabled\": false}, {\"type\": \"boxzoom\", \"button\": true, \"enabled\": false}]});\n",
       "            })\n",
       "         });\n",
       "}\n",
       "</script>"
      ],
      "text/plain": [
       "<Figure size 936x576 with 1 Axes>"
      ]
     },
     "metadata": {
      "needs_background": "light"
     },
     "output_type": "display_data"
    }
   ],
   "source": [
    "result.plot_fit(datafmt=\"-\");"
   ]
  },
  {
   "cell_type": "code",
   "execution_count": 56,
   "metadata": {
    "scrolled": true
   },
   "outputs": [
    {
     "data": {
      "text/html": [
       "<h2> Model</h2> Model(fitter) <h2>Fit Statistics</h2><table><tr><td>fitting method</td><td>least_squares</td><td></td></tr><tr><td># function evals</td><td>33</td><td></td></tr><tr><td># data points</td><td>192</td><td></td></tr><tr><td># variables</td><td>9</td><td></td></tr><tr><td>chi-square</td><td> 8913431.95</td><td></td></tr><tr><td>reduced chi-square</td><td> 48707.2784</td><td></td></tr><tr><td>Akaike info crit.</td><td> 2081.15031</td><td></td></tr><tr><td>Bayesian info crit.</td><td> 2110.46777</td><td></td></tr></table><h2>Variables</h2><table><tr><th> name </th><th> value </th><th> initial value </th><th> min </th><th> max </th><th> vary </th></tr><tr><td> critical_chance </td><td>  0.05138684 </td><td> 0.05 </td><td>  0.01000000 </td><td>  0.10000000 </td><td> True </td></tr><tr><td> death_chance_normal </td><td>  0.64666970 </td><td> 0.5 </td><td>  0.05000000 </td><td>  0.80000000 </td><td> True </td></tr><tr><td> death_time_over </td><td>  1.04344448 </td><td> 1.0 </td><td>  1.00000000 </td><td>  7.50000000 </td><td> True </td></tr><tr><td> exposed_rate_critical </td><td>  1.77901287 </td><td> 2.0 </td><td>  1.00000000 </td><td>  3.00000000 </td><td> True </td></tr><tr><td> r0_0 </td><td>  3.30225755 </td><td> 3.0 </td><td>  2.00000000 </td><td>  5.00000000 </td><td> True </td></tr><tr><td> r0_L </td><td>  0.54829175 </td><td> 0.9 </td><td>  0.00000000 </td><td>  3.50000000 </td><td> True </td></tr><tr><td> L_start </td><td>  89.3252657 </td><td> 90 </td><td>  0.00000000 </td><td>  120.000000 </td><td> True </td></tr><tr><td> L_end </td><td>  199.464058 </td><td> 120 </td><td>  0.00000000 </td><td>  500.000000 </td><td> True </td></tr><tr><td> k </td><td>  2.39240834 </td><td> 2.5 </td><td>  0.01000000 </td><td>  5.00000000 </td><td> True </td></tr></table>"
      ],
      "text/plain": [
       "<lmfit.model.ModelResult at 0xb345508>"
      ]
     },
     "execution_count": 56,
     "metadata": {},
     "output_type": "execute_result"
    }
   ],
   "source": [
    "result"
   ]
  },
  {
   "cell_type": "code",
   "execution_count": 57,
   "metadata": {},
   "outputs": [
    {
     "ename": "MinimizerException",
     "evalue": "Cannot determine Confidence Intervals without sensible uncertainty estimates",
     "output_type": "error",
     "traceback": [
      "\u001b[1;31m---------------------------------------------------------------------------\u001b[0m",
      "\u001b[1;31mMinimizerException\u001b[0m                        Traceback (most recent call last)",
      "\u001b[1;32m<ipython-input-57-d64f60dc5255>\u001b[0m in \u001b[0;36m<module>\u001b[1;34m\u001b[0m\n\u001b[1;32m----> 1\u001b[1;33m \u001b[0mresult\u001b[0m\u001b[1;33m.\u001b[0m\u001b[0mconf_interval\u001b[0m\u001b[1;33m(\u001b[0m\u001b[1;33m)\u001b[0m\u001b[1;33m\u001b[0m\u001b[1;33m\u001b[0m\u001b[0m\n\u001b[0m",
      "\u001b[1;32mC:\\ProgramData\\Anaconda3\\lib\\site-packages\\lmfit\\model.py\u001b[0m in \u001b[0;36mconf_interval\u001b[1;34m(self, **kwargs)\u001b[0m\n\u001b[0;32m   1516\u001b[0m         \"\"\"\n\u001b[0;32m   1517\u001b[0m         \u001b[1;32mif\u001b[0m \u001b[0mself\u001b[0m\u001b[1;33m.\u001b[0m\u001b[0mci_out\u001b[0m \u001b[1;32mis\u001b[0m \u001b[1;32mNone\u001b[0m\u001b[1;33m:\u001b[0m\u001b[1;33m\u001b[0m\u001b[1;33m\u001b[0m\u001b[0m\n\u001b[1;32m-> 1518\u001b[1;33m             \u001b[0mself\u001b[0m\u001b[1;33m.\u001b[0m\u001b[0mci_out\u001b[0m \u001b[1;33m=\u001b[0m \u001b[0mconf_interval\u001b[0m\u001b[1;33m(\u001b[0m\u001b[0mself\u001b[0m\u001b[1;33m,\u001b[0m \u001b[0mself\u001b[0m\u001b[1;33m,\u001b[0m \u001b[1;33m**\u001b[0m\u001b[0mkwargs\u001b[0m\u001b[1;33m)\u001b[0m\u001b[1;33m\u001b[0m\u001b[1;33m\u001b[0m\u001b[0m\n\u001b[0m\u001b[0;32m   1519\u001b[0m         \u001b[1;32mreturn\u001b[0m \u001b[0mself\u001b[0m\u001b[1;33m.\u001b[0m\u001b[0mci_out\u001b[0m\u001b[1;33m\u001b[0m\u001b[1;33m\u001b[0m\u001b[0m\n\u001b[0;32m   1520\u001b[0m \u001b[1;33m\u001b[0m\u001b[0m\n",
      "\u001b[1;32mC:\\ProgramData\\Anaconda3\\lib\\site-packages\\lmfit\\confidence.py\u001b[0m in \u001b[0;36mconf_interval\u001b[1;34m(minimizer, result, p_names, sigmas, trace, maxiter, verbose, prob_func)\u001b[0m\n\u001b[0;32m    135\u001b[0m     \"\"\"\n\u001b[0;32m    136\u001b[0m     ci = ConfidenceInterval(minimizer, result, p_names, prob_func, sigmas,\n\u001b[1;32m--> 137\u001b[1;33m                             trace, verbose, maxiter)\n\u001b[0m\u001b[0;32m    138\u001b[0m     \u001b[0moutput\u001b[0m \u001b[1;33m=\u001b[0m \u001b[0mci\u001b[0m\u001b[1;33m.\u001b[0m\u001b[0mcalc_all_ci\u001b[0m\u001b[1;33m(\u001b[0m\u001b[1;33m)\u001b[0m\u001b[1;33m\u001b[0m\u001b[1;33m\u001b[0m\u001b[0m\n\u001b[0;32m    139\u001b[0m     \u001b[1;32mif\u001b[0m \u001b[0mtrace\u001b[0m\u001b[1;33m:\u001b[0m\u001b[1;33m\u001b[0m\u001b[1;33m\u001b[0m\u001b[0m\n",
      "\u001b[1;32mC:\\ProgramData\\Anaconda3\\lib\\site-packages\\lmfit\\confidence.py\u001b[0m in \u001b[0;36m__init__\u001b[1;34m(self, minimizer, result, p_names, prob_func, sigmas, trace, verbose, maxiter)\u001b[0m\n\u001b[0;32m    179\u001b[0m         \u001b[1;32mfor\u001b[0m \u001b[0mpar\u001b[0m \u001b[1;32min\u001b[0m \u001b[0mself\u001b[0m\u001b[1;33m.\u001b[0m\u001b[0mfit_params\u001b[0m\u001b[1;33m:\u001b[0m\u001b[1;33m\u001b[0m\u001b[1;33m\u001b[0m\u001b[0m\n\u001b[0;32m    180\u001b[0m             \u001b[1;32mif\u001b[0m \u001b[0mpar\u001b[0m\u001b[1;33m.\u001b[0m\u001b[0mvary\u001b[0m \u001b[1;32mand\u001b[0m \u001b[1;33m(\u001b[0m\u001b[0mpar\u001b[0m\u001b[1;33m.\u001b[0m\u001b[0mstderr\u001b[0m \u001b[1;32mis\u001b[0m \u001b[1;32mNone\u001b[0m \u001b[1;32mor\u001b[0m \u001b[0mpar\u001b[0m\u001b[1;33m.\u001b[0m\u001b[0mstderr\u001b[0m \u001b[1;32mis\u001b[0m \u001b[0mnp\u001b[0m\u001b[1;33m.\u001b[0m\u001b[0mnan\u001b[0m\u001b[1;33m)\u001b[0m\u001b[1;33m:\u001b[0m\u001b[1;33m\u001b[0m\u001b[1;33m\u001b[0m\u001b[0m\n\u001b[1;32m--> 181\u001b[1;33m                 \u001b[1;32mraise\u001b[0m \u001b[0mMinimizerException\u001b[0m\u001b[1;33m(\u001b[0m\u001b[0mCONF_ERR_STDERR\u001b[0m\u001b[1;33m)\u001b[0m\u001b[1;33m\u001b[0m\u001b[1;33m\u001b[0m\u001b[0m\n\u001b[0m\u001b[0;32m    182\u001b[0m         \u001b[0mnvars\u001b[0m \u001b[1;33m=\u001b[0m \u001b[0mlen\u001b[0m\u001b[1;33m(\u001b[0m\u001b[1;33m[\u001b[0m\u001b[0mp\u001b[0m \u001b[1;32mfor\u001b[0m \u001b[0mp\u001b[0m \u001b[1;32min\u001b[0m \u001b[0mself\u001b[0m\u001b[1;33m.\u001b[0m\u001b[0mparams\u001b[0m\u001b[1;33m.\u001b[0m\u001b[0mvalues\u001b[0m\u001b[1;33m(\u001b[0m\u001b[1;33m)\u001b[0m \u001b[1;32mif\u001b[0m \u001b[0mp\u001b[0m\u001b[1;33m.\u001b[0m\u001b[0mvary\u001b[0m\u001b[1;33m]\u001b[0m\u001b[1;33m)\u001b[0m\u001b[1;33m\u001b[0m\u001b[1;33m\u001b[0m\u001b[0m\n\u001b[0;32m    183\u001b[0m         \u001b[1;32mif\u001b[0m \u001b[0mnvars\u001b[0m \u001b[1;33m<\u001b[0m \u001b[1;36m2\u001b[0m\u001b[1;33m:\u001b[0m\u001b[1;33m\u001b[0m\u001b[1;33m\u001b[0m\u001b[0m\n",
      "\u001b[1;31mMinimizerException\u001b[0m: Cannot determine Confidence Intervals without sensible uncertainty estimates"
     ]
    }
   ],
   "source": [
    "result.conf_interval()"
   ]
  },
  {
   "cell_type": "code",
   "execution_count": null,
   "metadata": {},
   "outputs": [],
   "source": [
    "full_days = 500\n",
    "plot_pseicrd_l_ext2(*Model(\n",
    "    days=full_days, \n",
    "    population=population, \n",
    "    critical_limit_data=critical_limit_data, \n",
    "    **result.best_values\n",
    "))"
   ]
  }
 ],
 "metadata": {
  "kernelspec": {
   "display_name": "Python 3",
   "language": "python",
   "name": "python3"
  },
  "language_info": {
   "codemirror_mode": {
    "name": "ipython",
    "version": 3
   },
   "file_extension": ".py",
   "mimetype": "text/x-python",
   "name": "python",
   "nbconvert_exporter": "python",
   "pygments_lexer": "ipython3",
   "version": "3.7.6"
  }
 },
 "nbformat": 4,
 "nbformat_minor": 4
}
