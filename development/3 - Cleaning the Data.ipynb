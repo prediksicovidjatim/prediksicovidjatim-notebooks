{
 "cells": [
  {
   "cell_type": "markdown",
   "metadata": {},
   "source": [
    "# Cleaning the Data"
   ]
  },
  {
   "cell_type": "code",
   "execution_count": 1,
   "metadata": {},
   "outputs": [],
   "source": [
    "import os\n",
    "import sys\n",
    "#sys.path.insert(0, \"../../\")\n",
    "\n",
    "import warnings\n",
    "warnings.filterwarnings('ignore')\n",
    "\n",
    "from prediksicovidjatim import util, config, database\n",
    "from prediksicovidjatim.data.raw import RawDataRepo\n",
    "from prediksicovidjatim.data.raw.entities import RawData\n",
    "\n",
    "database.init()"
   ]
  },
  {
   "cell_type": "code",
   "execution_count": 2,
   "metadata": {},
   "outputs": [
    {
     "data": {
      "text/plain": [
       "38"
      ]
     },
     "execution_count": 2,
     "metadata": {},
     "output_type": "execute_result"
    }
   ],
   "source": [
    "kabko = RawDataRepo.fetch_kabko()\n",
    "len(kabko)"
   ]
  },
  {
   "cell_type": "code",
   "execution_count": 3,
   "metadata": {},
   "outputs": [],
   "source": [
    "selected_kabko = \"KAB. TULUNGAGUNG\""
   ]
  },
  {
   "cell_type": "code",
   "execution_count": 4,
   "metadata": {},
   "outputs": [
    {
     "data": {
      "text/plain": [
       "131"
      ]
     },
     "execution_count": 4,
     "metadata": {},
     "output_type": "execute_result"
    }
   ],
   "source": [
    "data = RawDataRepo.fetch_data(selected_kabko)\n",
    "len(data)"
   ]
  },
  {
   "cell_type": "markdown",
   "metadata": {},
   "source": [
    "## Wrong Input Field"
   ]
  },
  {
   "cell_type": "markdown",
   "metadata": {},
   "source": [
    "Some data seem to have been inputted into the wrong field. Like field a and field b were going steadily then one day it's suddenly flipped and returns normal the next day. This was fixed manually from database client. There were also some dead count which suddenly pops out and then vanishes in one day. The other field groups should also be considered because it might be a legit flow. Make sure to recalculate the row's totals if your changes should be changing it."
   ]
  },
  {
   "cell_type": "markdown",
   "metadata": {},
   "source": [
    "## Defected Data"
   ]
  },
  {
   "cell_type": "markdown",
   "metadata": {},
   "source": [
    "Some data just seem to be way too high or way too low, like it's got some extra digit or missing some digit. Ones with extra digits are fixed by removing the last digits. Ones with missing digits are fixed by adding trailing zeros. Make sure to recalculate the row's totals. These were done by hand."
   ]
  },
  {
   "cell_type": "markdown",
   "metadata": {},
   "source": [
    "## Missing Data"
   ]
  },
  {
   "cell_type": "markdown",
   "metadata": {},
   "source": [
    "There were cases where some data were going quite steadily and then one day they're all zeroes and goes back to similar values the next day. We should be filling this with interpolated value from neighboring data. For simplicity, linear interpolation was used. "
   ]
  },
  {
   "cell_type": "code",
   "execution_count": 5,
   "metadata": {},
   "outputs": [
    {
     "data": {
      "text/plain": [
       "116"
      ]
     },
     "execution_count": 5,
     "metadata": {},
     "output_type": "execute_result"
    }
   ],
   "source": [
    "start_index = util.get_date_index(data, \"2020-07-14\")\n",
    "start_index"
   ]
  },
  {
   "cell_type": "code",
   "execution_count": 6,
   "metadata": {},
   "outputs": [],
   "source": [
    "missing_count = 1"
   ]
  },
  {
   "cell_type": "code",
   "execution_count": 7,
   "metadata": {
    "scrolled": true
   },
   "outputs": [
    {
     "data": {
      "text/plain": [
       "[{'kabko': 'KAB. TULUNGAGUNG',\n",
       "  'tanggal': '2020-07-14',\n",
       "  'odr': 0,\n",
       "  'otg': 0,\n",
       "  'odp_total': 0,\n",
       "  'odp_belum': 0,\n",
       "  'odp_selesai': 0,\n",
       "  'odp_meninggal': 0,\n",
       "  'odp_rawat_total': 0,\n",
       "  'odp_rawat_rumah': 0,\n",
       "  'odp_rawat_gedung': 0,\n",
       "  'odp_rawat_rs': 0,\n",
       "  'pdp_total': 0,\n",
       "  'pdp_belum': 0,\n",
       "  'pdp_sehat': 0,\n",
       "  'pdp_meninggal': 0,\n",
       "  'pdp_rawat_total': 0,\n",
       "  'pdp_rawat_rumah': 0,\n",
       "  'pdp_rawat_gedung': 0,\n",
       "  'pdp_rawat_rs': 0,\n",
       "  'pos_total': 0,\n",
       "  'pos_sembuh': 0,\n",
       "  'pos_meninggal': 0,\n",
       "  'pos_rawat_total': 0,\n",
       "  'pos_rawat_rumah': 0,\n",
       "  'pos_rawat_gedung': 0,\n",
       "  'pos_rawat_rs': 0}]"
      ]
     },
     "execution_count": 7,
     "metadata": {},
     "output_type": "execute_result"
    }
   ],
   "source": [
    "missing = util.get_missing_data(data, start_index, missing_count) #last parameter is count of missing days in the missing span\n",
    "missing #If it's truly missing, all fields except kabko and tanggal should be 0"
   ]
  },
  {
   "cell_type": "code",
   "execution_count": 8,
   "metadata": {},
   "outputs": [
    {
     "data": {
      "text/plain": [
       "[{'kabko': 'KAB. TULUNGAGUNG',\n",
       "  'tanggal': '2020-07-14',\n",
       "  'odr': 15395,\n",
       "  'otg': 1019,\n",
       "  'odp_total': 1649,\n",
       "  'odp_belum': 0,\n",
       "  'odp_selesai': 1164,\n",
       "  'odp_meninggal': 6,\n",
       "  'odp_rawat_total': 479,\n",
       "  'odp_rawat_rumah': 470,\n",
       "  'odp_rawat_gedung': 0,\n",
       "  'odp_rawat_rs': 9,\n",
       "  'pdp_total': 732,\n",
       "  'pdp_belum': 0,\n",
       "  'pdp_sehat': 532,\n",
       "  'pdp_meninggal': 190,\n",
       "  'pdp_rawat_total': 10,\n",
       "  'pdp_rawat_rumah': 0,\n",
       "  'pdp_rawat_gedung': 0,\n",
       "  'pdp_rawat_rs': 10,\n",
       "  'pos_total': 240,\n",
       "  'pos_sembuh': 235,\n",
       "  'pos_meninggal': 3,\n",
       "  'pos_rawat_total': 2,\n",
       "  'pos_rawat_rumah': 0,\n",
       "  'pos_rawat_gedung': 1,\n",
       "  'pos_rawat_rs': 1}]"
      ]
     },
     "execution_count": 8,
     "metadata": {},
     "output_type": "execute_result"
    }
   ],
   "source": [
    "interpolated = util.lerp_missing_data(data, start_index, missing_count)\n",
    "interpolated"
   ]
  },
  {
   "cell_type": "markdown",
   "metadata": {},
   "source": [
    "RawDataRepo.save_data(interpolated, upsert=True)"
   ]
  },
  {
   "cell_type": "markdown",
   "metadata": {},
   "source": [
    "## Incorrect Totals"
   ]
  },
  {
   "cell_type": "markdown",
   "metadata": {},
   "source": [
    "Logically, a total field should be reflected by its component values. The sum of all of its values should equal the total value. However, its component values is a categorization. There may be inconsistencies between the total and the categorization. Therefore, I made total_opt() and total_max(). Total_opt just returns total_calc() if it's non zero. Total_max just returns the max value between total field and total_calc(). While total_opt() might be wrong, it should be safe to fix the data with total_max(), although some may still be incorect."
   ]
  },
  {
   "cell_type": "markdown",
   "metadata": {},
   "source": [
    "#data_full = [x for k in kabko for x in RawDataRepo.fetch_data(k)]\n",
    "#len(data_full)"
   ]
  },
  {
   "cell_type": "markdown",
   "metadata": {},
   "source": [
    "#RawDataRepo.save_data([d.to_db_row(option=\"max\") for d in data_full], upsert=True)"
   ]
  },
  {
   "cell_type": "markdown",
   "metadata": {},
   "source": [
    "#RawDataRepo.trim_early_zeros()"
   ]
  },
  {
   "cell_type": "code",
   "execution_count": null,
   "metadata": {},
   "outputs": [],
   "source": []
  }
 ],
 "metadata": {
  "kernelspec": {
   "display_name": "Python 3",
   "language": "python",
   "name": "python3"
  },
  "language_info": {
   "codemirror_mode": {
    "name": "ipython",
    "version": 3
   },
   "file_extension": ".py",
   "mimetype": "text/x-python",
   "name": "python",
   "nbconvert_exporter": "python",
   "pygments_lexer": "ipython3",
   "version": "3.7.6"
  }
 },
 "nbformat": 4,
 "nbformat_minor": 4
}
