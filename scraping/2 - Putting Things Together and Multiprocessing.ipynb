{
 "cells": [
  {
   "cell_type": "markdown",
   "metadata": {},
   "source": [
    "# Putting Things Together and Multiprocessing"
   ]
  },
  {
   "cell_type": "markdown",
   "metadata": {},
   "source": [
    "Now, let's take it to the next level. We'll need to scrap each day for each kabko."
   ]
  },
  {
   "cell_type": "markdown",
   "metadata": {},
   "source": [
    "First, let's wrap these in functions. We already have:\n",
    "1. get_selected_vals/get_selected_dicts\n",
    "2. parse_card\n",
    "\n",
    "Let's also put them here, along with the previous imports and stuff."
   ]
  },
  {
   "cell_type": "code",
   "execution_count": 4,
   "metadata": {},
   "outputs": [],
   "source": [
    "from requests_html import HTMLSession\n",
    "\n",
    "endpoint = \"https://covid19dev.jatimprov.go.id/index.php/xweb/grafikpublik/\"\n",
    "session = HTMLSession()\n",
    "\n",
    "def get_select_opts(r, query):\n",
    "    #find the select element\n",
    "    select = r.html.find(query)[0]\n",
    "    els = select.find(\"option\")\n",
    "    return els\n",
    "\n",
    "def get_select_vals(r, query):\n",
    "    els = get_select_opts(r, query)\n",
    "    vals = [k.attrs[\"value\"] for k in els] \n",
    "    #we want to skip empty dates since they're useless, but not the empty kabko because it's the aggregate of all other kabko\n",
    "    #it's always the first item from a list\n",
    "    if 'kabko' not in query:\n",
    "        vals.pop(0)\n",
    "    return vals\n",
    "\n",
    "def get_select_dicts(r, query):\n",
    "    els = get_select_opts(r, query)\n",
    "    dicts = [{k.attrs[\"value\"]:k.text} for k in els]\n",
    "    #we want to skip empty dates since they're useless, but not the empty kabko because it's the aggregate of all other kabko\n",
    "    #it's always the first item from a list\n",
    "    if 'kabko' not in query:\n",
    "        dicts.pop(0)\n",
    "    return dicts\n",
    "\n",
    "def parse_card(card, fields):\n",
    "    els = card.find(\"h3\")\n",
    "    vals = [int(e.text) for e in els]\n",
    "    parsed = dict(zip(fields, vals))\n",
    "    return parsed\n"
   ]
  },
  {
   "cell_type": "code",
   "execution_count": 5,
   "metadata": {},
   "outputs": [],
   "source": [
    "#editing parse_card a bit\n",
    "def parse_int(text):\n",
    "    if not text:\n",
    "        return 0\n",
    "    val = int(text)\n",
    "    return val\n",
    "\n",
    "def parse_card(card, fields):\n",
    "    els = card.find(\"h3\")\n",
    "    vals = [parse_int(e.text) for e in els]\n",
    "    parsed = dict(zip(fields, vals))\n",
    "    return parsed"
   ]
  },
  {
   "cell_type": "markdown",
   "metadata": {},
   "source": [
    "However, what we need are functions to:\n",
    "1. get all kabkos and dates\n",
    "2. get new dates (get dates past a given date from date list)\n",
    "3. get data of a day & kabko\n",
    "4. get data of every day & kabko\n",
    "5. get data of new data (after a given date)\n",
    "\n",
    "We'll do them one by one"
   ]
  },
  {
   "cell_type": "markdown",
   "metadata": {},
   "source": [
    "## Getting Form Parameters"
   ]
  },
  {
   "cell_type": "markdown",
   "metadata": {},
   "source": [
    "First, let's do function to get all parameter values."
   ]
  },
  {
   "cell_type": "code",
   "execution_count": 6,
   "metadata": {},
   "outputs": [
    {
     "data": {
      "text/plain": [
       "{'kabko': ['',\n",
       "  '- (STATUS PENDING)',\n",
       "  'AWAK BUAH KAPAL',\n",
       "  'KAB. BANGKALAN',\n",
       "  'KAB. BANYUWANGI',\n",
       "  'KAB. BLITAR',\n",
       "  'KAB. BOJONEGORO',\n",
       "  'KAB. BONDOWOSO',\n",
       "  'KAB. GRESIK',\n",
       "  'KAB. JEMBER',\n",
       "  'KAB. JOMBANG',\n",
       "  'KAB. KEDIRI',\n",
       "  'KAB. LAMONGAN',\n",
       "  'KAB. LUMAJANG',\n",
       "  'KAB. MADIUN',\n",
       "  'KAB. MAGETAN',\n",
       "  'KAB. MALANG',\n",
       "  'KAB. MOJOKERTO',\n",
       "  'KAB. NGANJUK',\n",
       "  'KAB. NGAWI',\n",
       "  'KAB. PACITAN',\n",
       "  'KAB. PAMEKASAN',\n",
       "  'KAB. PASURUAN',\n",
       "  'KAB. PONOROGO',\n",
       "  'KAB. PROBOLINGGO',\n",
       "  'KAB. SAMPANG',\n",
       "  'KAB. SIDOARJO',\n",
       "  'KAB. SITUBONDO',\n",
       "  'KAB. SUMENEP',\n",
       "  'KAB. TRENGGALEK',\n",
       "  'KAB. TUBAN',\n",
       "  'KAB. TULUNGAGUNG',\n",
       "  'KOTA BATU',\n",
       "  'KOTA BLITAR',\n",
       "  'KOTA KEDIRI',\n",
       "  'KOTA MADIUN',\n",
       "  'KOTA MALANG',\n",
       "  'KOTA MOJOKERTO',\n",
       "  'KOTA PASURUAN',\n",
       "  'KOTA PROBOLINGGO',\n",
       "  'KOTA SURABAYA',\n",
       "  'RS LAPANGAN INDRAPURA'],\n",
       " 'tanggal': ['2020-03-20',\n",
       "  '2020-03-21',\n",
       "  '2020-03-22',\n",
       "  '2020-03-23',\n",
       "  '2020-03-24',\n",
       "  '2020-03-25',\n",
       "  '2020-03-26',\n",
       "  '2020-03-27',\n",
       "  '2020-03-28',\n",
       "  '2020-03-29',\n",
       "  '2020-03-30',\n",
       "  '2020-03-31',\n",
       "  '2020-04-01',\n",
       "  '2020-04-02',\n",
       "  '2020-04-03',\n",
       "  '2020-04-04',\n",
       "  '2020-04-05',\n",
       "  '2020-04-06',\n",
       "  '2020-04-07',\n",
       "  '2020-04-08',\n",
       "  '2020-04-09',\n",
       "  '2020-04-10',\n",
       "  '2020-04-11',\n",
       "  '2020-04-12',\n",
       "  '2020-04-13',\n",
       "  '2020-04-14',\n",
       "  '2020-04-15',\n",
       "  '2020-04-16',\n",
       "  '2020-04-17',\n",
       "  '2020-04-18',\n",
       "  '2020-04-19',\n",
       "  '2020-04-20',\n",
       "  '2020-04-21',\n",
       "  '2020-04-22',\n",
       "  '2020-04-23',\n",
       "  '2020-04-24',\n",
       "  '2020-04-25',\n",
       "  '2020-04-26',\n",
       "  '2020-04-27',\n",
       "  '2020-04-28',\n",
       "  '2020-04-29',\n",
       "  '2020-04-30',\n",
       "  '2020-05-01',\n",
       "  '2020-05-02',\n",
       "  '2020-05-03',\n",
       "  '2020-05-04',\n",
       "  '2020-05-05',\n",
       "  '2020-05-06',\n",
       "  '2020-05-07',\n",
       "  '2020-05-08',\n",
       "  '2020-05-09',\n",
       "  '2020-05-10',\n",
       "  '2020-05-11',\n",
       "  '2020-05-12',\n",
       "  '2020-05-13',\n",
       "  '2020-05-14',\n",
       "  '2020-05-15',\n",
       "  '2020-05-16',\n",
       "  '2020-05-17',\n",
       "  '2020-05-18',\n",
       "  '2020-05-19',\n",
       "  '2020-05-20',\n",
       "  '2020-05-21',\n",
       "  '2020-05-22',\n",
       "  '2020-05-23',\n",
       "  '2020-05-24',\n",
       "  '2020-05-25',\n",
       "  '2020-05-26',\n",
       "  '2020-05-27',\n",
       "  '2020-05-28',\n",
       "  '2020-05-29',\n",
       "  '2020-05-30',\n",
       "  '2020-05-31',\n",
       "  '2020-06-01',\n",
       "  '2020-06-02',\n",
       "  '2020-06-03',\n",
       "  '2020-06-04',\n",
       "  '2020-06-05',\n",
       "  '2020-06-06',\n",
       "  '2020-06-07',\n",
       "  '2020-06-08',\n",
       "  '2020-06-09',\n",
       "  '2020-06-10',\n",
       "  '2020-06-11',\n",
       "  '2020-06-12',\n",
       "  '2020-06-13',\n",
       "  '2020-06-14',\n",
       "  '2020-06-15',\n",
       "  '2020-06-16',\n",
       "  '2020-06-17',\n",
       "  '2020-06-18',\n",
       "  '2020-06-19',\n",
       "  '2020-06-20',\n",
       "  '2020-06-21',\n",
       "  '2020-06-22',\n",
       "  '2020-06-23',\n",
       "  '2020-06-24',\n",
       "  '2020-06-25',\n",
       "  '2020-06-26',\n",
       "  '2020-06-27',\n",
       "  '2020-06-28',\n",
       "  '2020-06-29',\n",
       "  '2020-06-30',\n",
       "  '2020-07-01',\n",
       "  '2020-07-02',\n",
       "  '2020-07-03',\n",
       "  '2020-07-04',\n",
       "  '2020-07-05',\n",
       "  '2020-07-06',\n",
       "  '2020-07-07',\n",
       "  '2020-07-08',\n",
       "  '2020-07-09',\n",
       "  '2020-07-10',\n",
       "  '2020-07-11',\n",
       "  '2020-07-12',\n",
       "  '2020-07-13',\n",
       "  '2020-07-14',\n",
       "  '2020-07-15',\n",
       "  '2020-07-16',\n",
       "  '2020-07-17',\n",
       "  '2020-07-18',\n",
       "  '2020-07-19',\n",
       "  '2020-07-20',\n",
       "  '2020-07-21',\n",
       "  '2020-07-22',\n",
       "  '2020-07-23',\n",
       "  '2020-07-24',\n",
       "  '2020-07-25',\n",
       "  '2020-07-26',\n",
       "  '2020-07-27'],\n",
       " 'sampai': ['2020-03-20',\n",
       "  '2020-03-21',\n",
       "  '2020-03-22',\n",
       "  '2020-03-23',\n",
       "  '2020-03-24',\n",
       "  '2020-03-25',\n",
       "  '2020-03-26',\n",
       "  '2020-03-27',\n",
       "  '2020-03-28',\n",
       "  '2020-03-29',\n",
       "  '2020-03-30',\n",
       "  '2020-03-31',\n",
       "  '2020-04-01',\n",
       "  '2020-04-02',\n",
       "  '2020-04-03',\n",
       "  '2020-04-04',\n",
       "  '2020-04-05',\n",
       "  '2020-04-06',\n",
       "  '2020-04-07',\n",
       "  '2020-04-08',\n",
       "  '2020-04-09',\n",
       "  '2020-04-10',\n",
       "  '2020-04-11',\n",
       "  '2020-04-12',\n",
       "  '2020-04-13',\n",
       "  '2020-04-14',\n",
       "  '2020-04-15',\n",
       "  '2020-04-16',\n",
       "  '2020-04-17',\n",
       "  '2020-04-18',\n",
       "  '2020-04-19',\n",
       "  '2020-04-20',\n",
       "  '2020-04-21',\n",
       "  '2020-04-22',\n",
       "  '2020-04-23',\n",
       "  '2020-04-24',\n",
       "  '2020-04-25',\n",
       "  '2020-04-26',\n",
       "  '2020-04-27',\n",
       "  '2020-04-28',\n",
       "  '2020-04-29',\n",
       "  '2020-04-30',\n",
       "  '2020-05-01',\n",
       "  '2020-05-02',\n",
       "  '2020-05-03',\n",
       "  '2020-05-04',\n",
       "  '2020-05-05',\n",
       "  '2020-05-06',\n",
       "  '2020-05-07',\n",
       "  '2020-05-08',\n",
       "  '2020-05-09',\n",
       "  '2020-05-10',\n",
       "  '2020-05-11',\n",
       "  '2020-05-12',\n",
       "  '2020-05-13',\n",
       "  '2020-05-14',\n",
       "  '2020-05-15',\n",
       "  '2020-05-16',\n",
       "  '2020-05-17',\n",
       "  '2020-05-18',\n",
       "  '2020-05-19',\n",
       "  '2020-05-20',\n",
       "  '2020-05-21',\n",
       "  '2020-05-22',\n",
       "  '2020-05-23',\n",
       "  '2020-05-24',\n",
       "  '2020-05-25',\n",
       "  '2020-05-26',\n",
       "  '2020-05-27',\n",
       "  '2020-05-28',\n",
       "  '2020-05-29',\n",
       "  '2020-05-30',\n",
       "  '2020-05-31',\n",
       "  '2020-06-01',\n",
       "  '2020-06-02',\n",
       "  '2020-06-03',\n",
       "  '2020-06-04',\n",
       "  '2020-06-05',\n",
       "  '2020-06-06',\n",
       "  '2020-06-07',\n",
       "  '2020-06-08',\n",
       "  '2020-06-09',\n",
       "  '2020-06-10',\n",
       "  '2020-06-11',\n",
       "  '2020-06-12',\n",
       "  '2020-06-13',\n",
       "  '2020-06-14',\n",
       "  '2020-06-15',\n",
       "  '2020-06-16',\n",
       "  '2020-06-17',\n",
       "  '2020-06-18',\n",
       "  '2020-06-19',\n",
       "  '2020-06-20',\n",
       "  '2020-06-21',\n",
       "  '2020-06-22',\n",
       "  '2020-06-23',\n",
       "  '2020-06-24',\n",
       "  '2020-06-25',\n",
       "  '2020-06-26',\n",
       "  '2020-06-27',\n",
       "  '2020-06-28',\n",
       "  '2020-06-29',\n",
       "  '2020-06-30',\n",
       "  '2020-07-01',\n",
       "  '2020-07-02',\n",
       "  '2020-07-03',\n",
       "  '2020-07-04',\n",
       "  '2020-07-05',\n",
       "  '2020-07-06',\n",
       "  '2020-07-07',\n",
       "  '2020-07-08',\n",
       "  '2020-07-09',\n",
       "  '2020-07-10',\n",
       "  '2020-07-11',\n",
       "  '2020-07-12',\n",
       "  '2020-07-13',\n",
       "  '2020-07-14',\n",
       "  '2020-07-15',\n",
       "  '2020-07-16',\n",
       "  '2020-07-17',\n",
       "  '2020-07-18',\n",
       "  '2020-07-19',\n",
       "  '2020-07-20',\n",
       "  '2020-07-21',\n",
       "  '2020-07-22',\n",
       "  '2020-07-23',\n",
       "  '2020-07-24',\n",
       "  '2020-07-25',\n",
       "  '2020-07-26',\n",
       "  '2020-07-27']}"
      ]
     },
     "execution_count": 6,
     "metadata": {},
     "output_type": "execute_result"
    }
   ],
   "source": [
    "def get_all_param_vals(session, endpoint, dicts=False, params=['kabko', 'tanggal', 'sampai']):\n",
    "    r = session.get(endpoint)\n",
    "    f = get_select_vals\n",
    "    if dicts:\n",
    "        f = get_select_dicts\n",
    "    vals = dict([(p, f(r, \"#\"+p)) for p in params])\n",
    "    return vals\n",
    "\n",
    "vals = get_all_param_vals(session, endpoint)\n",
    "vals"
   ]
  },
  {
   "cell_type": "markdown",
   "metadata": {},
   "source": [
    "## Filter New Dates"
   ]
  },
  {
   "cell_type": "markdown",
   "metadata": {},
   "source": [
    "Next, function to select dates after date list. \n",
    "\n",
    "We first need function to parse the date string into date object. We'll use datetime class from datetime package."
   ]
  },
  {
   "cell_type": "code",
   "execution_count": 7,
   "metadata": {},
   "outputs": [
    {
     "data": {
      "text/plain": [
       "datetime.date(2020, 3, 20)"
      ]
     },
     "execution_count": 7,
     "metadata": {},
     "output_type": "execute_result"
    }
   ],
   "source": [
    "from datetime import datetime\n",
    "\n",
    "def parse_date(date_str):\n",
    "    return datetime.strptime(date_str, \"%Y-%m-%d\").date()\n",
    "\n",
    "parse_date('2020-03-20')"
   ]
  },
  {
   "cell_type": "markdown",
   "metadata": {},
   "source": [
    "And vice versa"
   ]
  },
  {
   "cell_type": "code",
   "execution_count": 8,
   "metadata": {},
   "outputs": [
    {
     "data": {
      "text/plain": [
       "'2020-03-20'"
      ]
     },
     "execution_count": 8,
     "metadata": {},
     "output_type": "execute_result"
    }
   ],
   "source": [
    "def format_date(date):\n",
    "    return datetime.strftime(date, \"%Y-%m-%d\")\n",
    "\n",
    "format_date(parse_date('2020-03-20'))"
   ]
  },
  {
   "cell_type": "markdown",
   "metadata": {},
   "source": [
    "Now we filter dates. Let's say we want dates after 1 April."
   ]
  },
  {
   "cell_type": "code",
   "execution_count": 9,
   "metadata": {
    "scrolled": true
   },
   "outputs": [
    {
     "data": {
      "text/plain": [
       "['2020-04-02', '2020-04-03', '2020-04-04', '2020-04-05', '2020-04-06']"
      ]
     },
     "execution_count": 9,
     "metadata": {},
     "output_type": "execute_result"
    }
   ],
   "source": [
    "def get_new_dates(dates, after):\n",
    "    after = parse_date(after)\n",
    "    new_dates = [d for d in dates if d and parse_date(d) > after]\n",
    "    return new_dates\n",
    "\n",
    "get_new_dates(vals['tanggal'], '2020-04-01')[:5]"
   ]
  },
  {
   "cell_type": "markdown",
   "metadata": {},
   "source": [
    "## Single Request Scraping"
   ]
  },
  {
   "cell_type": "markdown",
   "metadata": {},
   "source": [
    "Next we make function to get data from a kabko in a day. But first, we define the fields."
   ]
  },
  {
   "cell_type": "code",
   "execution_count": 10,
   "metadata": {},
   "outputs": [],
   "source": [
    "#define the fields\n",
    "positif_fields = ['total', 'dirawat', 'sembuh', 'meninggal', 'rumah', 'gedung', 'rs']\n",
    "odp_fields = ['total', 'belum_dipantau', 'dipantau', 'selesai_dipantau', 'meninggal', 'rumah', 'gedung', 'rs']\n",
    "pdp_fields = ['total', 'belum_diawasi', 'dirawat', 'sehat', 'meninggal', 'rumah', 'gedung', 'rs']"
   ]
  },
  {
   "cell_type": "markdown",
   "metadata": {},
   "source": [
    "OTG and ODR are just single values thus doesn't need to be a dict and can't use parse_card. Let's make a function for them."
   ]
  },
  {
   "cell_type": "code",
   "execution_count": 11,
   "metadata": {},
   "outputs": [],
   "source": [
    "def parse_card_single(card):\n",
    "    val = parse_int(card.find(\"h3\")[0].text)\n",
    "    return val"
   ]
  },
  {
   "cell_type": "code",
   "execution_count": 12,
   "metadata": {
    "scrolled": true
   },
   "outputs": [
    {
     "data": {
      "text/plain": [
       "{'kabko': '',\n",
       " 'tanggal': '2020-03-20',\n",
       " 'sampai': '2020-03-20',\n",
       " 'positif': {'total': 15,\n",
       "  'dirawat': 0,\n",
       "  'sembuh': 0,\n",
       "  'meninggal': 1,\n",
       "  'rumah': 0,\n",
       "  'gedung': 0,\n",
       "  'rs': 0},\n",
       " 'odp': {'total': 542,\n",
       "  'belum_dipantau': 0,\n",
       "  'dipantau': 0,\n",
       "  'selesai_dipantau': 0,\n",
       "  'meninggal': 0,\n",
       "  'rumah': 0,\n",
       "  'gedung': 0,\n",
       "  'rs': 0},\n",
       " 'pdp': {'total': 53,\n",
       "  'belum_diawasi': 0,\n",
       "  'dirawat': 0,\n",
       "  'sehat': 0,\n",
       "  'meninggal': 0,\n",
       "  'rumah': 0,\n",
       "  'gedung': 0,\n",
       "  'rs': 0},\n",
       " 'otg': 0,\n",
       " 'odr': 11025}"
      ]
     },
     "execution_count": 12,
     "metadata": {},
     "output_type": "execute_result"
    }
   ],
   "source": [
    "def get_covid_data(session, endpoint, kabko, tanggal, sampai=None):\n",
    "    #prepare the request\n",
    "    if not sampai:\n",
    "        sampai = tanggal\n",
    "    data = {\n",
    "        'kabko': kabko,\n",
    "        'tanggal': tanggal,\n",
    "        'sampai': sampai\n",
    "    }\n",
    "    \n",
    "    #send request\n",
    "    r = session.post(endpoint, data=data)\n",
    "    \n",
    "    #get cards\n",
    "    row = r.html.find(\".container .row\")[0]\n",
    "    card_groups = row.find(\"div.col-md-6\")[:2]\n",
    "    cards = card_groups[0].find(\"div.card\") + card_groups[1].find(\"div.card\")\n",
    "    \n",
    "    #name the cards\n",
    "    positif_card = cards[0].find(\".card-block\")[0]\n",
    "    odp_card = cards[1].find(\".card-block\")[0]\n",
    "    pdp_card = cards[2].find(\".card-block\")[0]\n",
    "    otg_card = cards[3].find(\".card-body\")[0]\n",
    "    odr_card = cards[4].find(\".card-body\")[0]\n",
    "    \n",
    "    #get and pack the values\n",
    "    vals = {\n",
    "        'kabko':kabko,\n",
    "        'tanggal':tanggal,\n",
    "        'sampai':sampai,\n",
    "        'positif':parse_card(positif_card, positif_fields),\n",
    "        'odp':parse_card(odp_card, odp_fields),\n",
    "        'pdp':parse_card(pdp_card, pdp_fields),\n",
    "        'otg':parse_card_single(otg_card),\n",
    "        'odr':parse_card_single(odr_card)\n",
    "    }\n",
    "    \n",
    "    return vals\n",
    "\n",
    "get_covid_data(session, endpoint, \"\", \"2020-03-20\")"
   ]
  },
  {
   "cell_type": "markdown",
   "metadata": {},
   "source": [
    "Now that we can get one, let's do it in bulk."
   ]
  },
  {
   "cell_type": "markdown",
   "metadata": {},
   "source": [
    "## Bulk Scraping"
   ]
  },
  {
   "cell_type": "code",
   "execution_count": 10,
   "metadata": {
    "scrolled": true
   },
   "outputs": [
    {
     "data": {
      "text/plain": [
       "{'': {'2020-03-20': {'kabko': '',\n",
       "   'tanggal': '2020-03-20',\n",
       "   'sampai': '2020-03-20',\n",
       "   'positif': {'total': 15,\n",
       "    'dirawat': 0,\n",
       "    'sembuh': 0,\n",
       "    'meninggal': 1,\n",
       "    'rumah': 0,\n",
       "    'gedung': 0,\n",
       "    'rs': 0},\n",
       "   'odp': {'total': 542,\n",
       "    'belum_dipantau': 0,\n",
       "    'dipantau': 0,\n",
       "    'selesai_dipantau': 0,\n",
       "    'meninggal': 0,\n",
       "    'rumah': 0,\n",
       "    'gedung': 0,\n",
       "    'rs': 0},\n",
       "   'pdp': {'total': 53,\n",
       "    'belum_diawasi': 0,\n",
       "    'dirawat': 0,\n",
       "    'sehat': 0,\n",
       "    'meninggal': 0,\n",
       "    'rumah': 0,\n",
       "    'gedung': 0,\n",
       "    'rs': 0},\n",
       "   'otg': 0,\n",
       "   'odr': 11025},\n",
       "  '2020-03-21': {'kabko': '',\n",
       "   'tanggal': '2020-03-21',\n",
       "   'sampai': '2020-03-21',\n",
       "   'positif': {'total': 26,\n",
       "    'dirawat': 0,\n",
       "    'sembuh': 0,\n",
       "    'meninggal': 1,\n",
       "    'rumah': 0,\n",
       "    'gedung': 0,\n",
       "    'rs': 0},\n",
       "   'odp': {'total': 791,\n",
       "    'belum_dipantau': 0,\n",
       "    'dipantau': 0,\n",
       "    'selesai_dipantau': 0,\n",
       "    'meninggal': 0,\n",
       "    'rumah': 0,\n",
       "    'gedung': 0,\n",
       "    'rs': 0},\n",
       "   'pdp': {'total': 78,\n",
       "    'belum_diawasi': 0,\n",
       "    'dirawat': 0,\n",
       "    'sehat': 0,\n",
       "    'meninggal': 0,\n",
       "    'rumah': 0,\n",
       "    'gedung': 0,\n",
       "    'rs': 0},\n",
       "   'otg': 0,\n",
       "   'odr': 13392}},\n",
       " '- (STATUS PENDING)': {'2020-03-20': {'kabko': '- (STATUS PENDING)',\n",
       "   'tanggal': '2020-03-20',\n",
       "   'sampai': '2020-03-20',\n",
       "   'positif': {'total': 0,\n",
       "    'dirawat': 0,\n",
       "    'sembuh': 0,\n",
       "    'meninggal': 0,\n",
       "    'rumah': 0,\n",
       "    'gedung': 0,\n",
       "    'rs': 0},\n",
       "   'odp': {'total': 0,\n",
       "    'belum_dipantau': 0,\n",
       "    'dipantau': 0,\n",
       "    'selesai_dipantau': 0,\n",
       "    'meninggal': 0,\n",
       "    'rumah': 0,\n",
       "    'gedung': 0,\n",
       "    'rs': 0},\n",
       "   'pdp': {'total': 0,\n",
       "    'belum_diawasi': 0,\n",
       "    'dirawat': 0,\n",
       "    'sehat': 0,\n",
       "    'meninggal': 0,\n",
       "    'rumah': 0,\n",
       "    'gedung': 0,\n",
       "    'rs': 0},\n",
       "   'otg': 0,\n",
       "   'odr': 0},\n",
       "  '2020-03-21': {'kabko': '- (STATUS PENDING)',\n",
       "   'tanggal': '2020-03-21',\n",
       "   'sampai': '2020-03-21',\n",
       "   'positif': {'total': 0,\n",
       "    'dirawat': 0,\n",
       "    'sembuh': 0,\n",
       "    'meninggal': 0,\n",
       "    'rumah': 0,\n",
       "    'gedung': 0,\n",
       "    'rs': 0},\n",
       "   'odp': {'total': 0,\n",
       "    'belum_dipantau': 0,\n",
       "    'dipantau': 0,\n",
       "    'selesai_dipantau': 0,\n",
       "    'meninggal': 0,\n",
       "    'rumah': 0,\n",
       "    'gedung': 0,\n",
       "    'rs': 0},\n",
       "   'pdp': {'total': 0,\n",
       "    'belum_diawasi': 0,\n",
       "    'dirawat': 0,\n",
       "    'sehat': 0,\n",
       "    'meninggal': 0,\n",
       "    'rumah': 0,\n",
       "    'gedung': 0,\n",
       "    'rs': 0},\n",
       "   'otg': 0,\n",
       "   'odr': 0}}}"
      ]
     },
     "execution_count": 10,
     "metadata": {},
     "output_type": "execute_result"
    }
   ],
   "source": [
    "def get_covid_data_bulk(session, endpoint, kabko, tanggal):\n",
    "    data = {k:{t:get_covid_data(session, endpoint, k, t) for t in tanggal} for k in kabko}\n",
    "    return data\n",
    "\n",
    "params = get_all_param_vals(session, endpoint)\n",
    "kabko = params['kabko'][:2]\n",
    "tanggal = params['tanggal'][:2]\n",
    "get_covid_data_bulk(session, endpoint, kabko, tanggal)"
   ]
  },
  {
   "cell_type": "code",
   "execution_count": 11,
   "metadata": {
    "scrolled": true
   },
   "outputs": [
    {
     "data": {
      "text/plain": [
       "4510"
      ]
     },
     "execution_count": 11,
     "metadata": {},
     "output_type": "execute_result"
    }
   ],
   "source": [
    "data_count = len(params['kabko']) * len(params['tanggal'])\n",
    "data_count"
   ]
  },
  {
   "cell_type": "markdown",
   "metadata": {},
   "source": [
    "## Efficiency and Benchmarking"
   ]
  },
  {
   "cell_type": "markdown",
   "metadata": {},
   "source": [
    "Well, damn. It takes so long because loops are synchronous. We're basically loading 4059 web pages one by one. If we were to open that many web pages manually in a browser, we'd open many tab at once so we'll wait for it to load at the same time instead of opening them one by one. This is multiprocessing. However, we can't use python's standard multiprocessing library here in jupyter, we should use multiprocess library instead. (Ref: https://stackoverflow.com/questions/50937362/multiprocessing-on-python-3-jupyter)\n",
    "\n",
    "\n",
    "But first, let's time the single function."
   ]
  },
  {
   "cell_type": "code",
   "execution_count": 12,
   "metadata": {},
   "outputs": [
    {
     "data": {
      "text/plain": [
       "7.237887144088745"
      ]
     },
     "execution_count": 12,
     "metadata": {},
     "output_type": "execute_result"
    }
   ],
   "source": [
    "import time\n",
    "\n",
    "def f_timer(f, args=None, kwargs=None):\n",
    "    args = args or []\n",
    "    kwargs = kwargs or {}\n",
    "    start = time.time()\n",
    "    ret = f(*args, **kwargs)\n",
    "    end = time.time()\n",
    "    return end-start\n",
    "\n",
    "f_timer(get_covid_data, (session, endpoint, \"\", \"2020-03-20\"))"
   ]
  },
  {
   "cell_type": "markdown",
   "metadata": {},
   "source": [
    "3 seconds. Pretty long, eh? This will require quite a long time to process 4059 data.\n",
    "\n",
    "Let's try average of some runs"
   ]
  },
  {
   "cell_type": "code",
   "execution_count": 13,
   "metadata": {},
   "outputs": [
    {
     "data": {
      "text/plain": [
       "6.342255163192749"
      ]
     },
     "execution_count": 13,
     "metadata": {},
     "output_type": "execute_result"
    }
   ],
   "source": [
    "def f_timer_avg(f, count, args=[], kwargs={}):\n",
    "    args = args or []\n",
    "    kwargs = kwargs or {}\n",
    "    times = [f_timer(f, args, kwargs) for i in range(count)]\n",
    "    avg = sum(times)/len(times)\n",
    "    return avg\n",
    "\n",
    "run_avg_time = f_timer_avg(get_covid_data, 10, (session, endpoint, \"\", \"2020-03-20\"))\n",
    "run_avg_time"
   ]
  },
  {
   "cell_type": "markdown",
   "metadata": {},
   "source": [
    "About the same. What makes it long? If it's the page loading then we can't really do much."
   ]
  },
  {
   "cell_type": "code",
   "execution_count": 14,
   "metadata": {
    "scrolled": false
   },
   "outputs": [
    {
     "data": {
      "text/plain": [
       "5.2201550006866455"
      ]
     },
     "execution_count": 14,
     "metadata": {},
     "output_type": "execute_result"
    }
   ],
   "source": [
    "f_timer_avg(session.post, 10, (endpoint,))"
   ]
  },
  {
   "cell_type": "markdown",
   "metadata": {},
   "source": [
    "It is. So we can't do much. How long will it take to process all data though?"
   ]
  },
  {
   "cell_type": "code",
   "execution_count": 15,
   "metadata": {},
   "outputs": [
    {
     "data": {
      "text/plain": [
       "28603.570785999298"
      ]
     },
     "execution_count": 15,
     "metadata": {},
     "output_type": "execute_result"
    }
   ],
   "source": [
    "seconds_needed = run_avg_time * data_count\n",
    "seconds_needed"
   ]
  },
  {
   "cell_type": "code",
   "execution_count": 16,
   "metadata": {
    "scrolled": true
   },
   "outputs": [
    {
     "data": {
      "text/plain": [
       "476.726179766655"
      ]
     },
     "execution_count": 16,
     "metadata": {},
     "output_type": "execute_result"
    }
   ],
   "source": [
    "minutes_needed = seconds_needed / 60\n",
    "minutes_needed"
   ]
  },
  {
   "cell_type": "code",
   "execution_count": 17,
   "metadata": {
    "scrolled": true
   },
   "outputs": [
    {
     "data": {
      "text/plain": [
       "7.94543632944425"
      ]
     },
     "execution_count": 17,
     "metadata": {},
     "output_type": "execute_result"
    }
   ],
   "source": [
    "hours_needed = minutes_needed / 60\n",
    "hours_needed"
   ]
  },
  {
   "cell_type": "markdown",
   "metadata": {},
   "source": [
    "We need close to 3 hours to process all data. Heroku will have long since terminated our program by then. Thus, we really need to speed this up or split it to parts."
   ]
  },
  {
   "cell_type": "markdown",
   "metadata": {},
   "source": [
    "## Multiprocessing"
   ]
  },
  {
   "cell_type": "markdown",
   "metadata": {},
   "source": [
    "Now we do the multiprocessing. First, let's prepare for it."
   ]
  },
  {
   "cell_type": "code",
   "execution_count": 13,
   "metadata": {},
   "outputs": [
    {
     "data": {
      "text/plain": [
       "['2020-03-20', '2020-03-21']"
      ]
     },
     "execution_count": 13,
     "metadata": {},
     "output_type": "execute_result"
    }
   ],
   "source": [
    "#requests-html github readme says that we automatically get connection pool so no need to pool the sessions\n",
    "\n",
    "#get the params like before\n",
    "params = get_all_param_vals(session, endpoint)\n",
    "\n",
    "#let's start small\n",
    "tanggal = params['tanggal'][:2]\n",
    "kabko = params['kabko'][:2]\n",
    "\n",
    "tanggal"
   ]
  },
  {
   "cell_type": "code",
   "execution_count": 14,
   "metadata": {
    "scrolled": true
   },
   "outputs": [
    {
     "data": {
      "text/plain": [
       "['', '- (STATUS PENDING)']"
      ]
     },
     "execution_count": 14,
     "metadata": {},
     "output_type": "execute_result"
    }
   ],
   "source": [
    "kabko"
   ]
  },
  {
   "cell_type": "code",
   "execution_count": 15,
   "metadata": {
    "scrolled": true
   },
   "outputs": [
    {
     "data": {
      "text/plain": [
       "{'': {'2020-03-20': None, '2020-03-21': None},\n",
       " '- (STATUS PENDING)': {'2020-03-20': None, '2020-03-21': None}}"
      ]
     },
     "execution_count": 15,
     "metadata": {},
     "output_type": "execute_result"
    }
   ],
   "source": [
    "#we still need to prepare the dict, but just make the value empty\n",
    "data = {k:{t:None for t in tanggal} for k in kabko}\n",
    "\n",
    "data"
   ]
  },
  {
   "cell_type": "code",
   "execution_count": 16,
   "metadata": {},
   "outputs": [
    {
     "data": {
      "text/plain": [
       "[(<requests_html.HTMLSession at 0xa8f7448>,\n",
       "  'https://covid19dev.jatimprov.go.id/index.php/xweb/grafikpublik/',\n",
       "  '',\n",
       "  '2020-03-20'),\n",
       " (<requests_html.HTMLSession at 0xa8f7c08>,\n",
       "  'https://covid19dev.jatimprov.go.id/index.php/xweb/grafikpublik/',\n",
       "  '- (STATUS PENDING)',\n",
       "  '2020-03-20'),\n",
       " (<requests_html.HTMLSession at 0xa906308>,\n",
       "  'https://covid19dev.jatimprov.go.id/index.php/xweb/grafikpublik/',\n",
       "  '',\n",
       "  '2020-03-21'),\n",
       " (<requests_html.HTMLSession at 0xa906d88>,\n",
       "  'https://covid19dev.jatimprov.go.id/index.php/xweb/grafikpublik/',\n",
       "  '- (STATUS PENDING)',\n",
       "  '2020-03-21')]"
      ]
     },
     "execution_count": 16,
     "metadata": {},
     "output_type": "execute_result"
    }
   ],
   "source": [
    "#prepare the args\n",
    "#get_covid_data(session, endpoint, k, t)\n",
    "#we create a new session for each run because we can't make one session load many pages in parallel\n",
    "args = [(HTMLSession(), endpoint, k, t) for t in tanggal for k in kabko]\n",
    "\n",
    "args"
   ]
  },
  {
   "cell_type": "code",
   "execution_count": 17,
   "metadata": {},
   "outputs": [
    {
     "data": {
      "text/plain": [
       "4"
      ]
     },
     "execution_count": 17,
     "metadata": {},
     "output_type": "execute_result"
    }
   ],
   "source": [
    "len(args)"
   ]
  },
  {
   "cell_type": "markdown",
   "metadata": {},
   "source": [
    "We have 4 pack of arguments, meaning we should have 4 tasks. We have 10 processor set so we won't have any waiting task, meaning we should have 4 parallel processes running at the same time. The time needed for 1 request is under 3 seconds so this should take at most 12 seconds and that should be the time if it were synchronous. \n",
    "\n",
    "Just to be safe, let's run each of them one by one and see if any of them breaks."
   ]
  },
  {
   "cell_type": "code",
   "execution_count": 18,
   "metadata": {
    "scrolled": false
   },
   "outputs": [
    {
     "data": {
      "text/plain": [
       "11025"
      ]
     },
     "execution_count": 18,
     "metadata": {},
     "output_type": "execute_result"
    }
   ],
   "source": [
    "get_covid_data(*(args[0]))['odr']"
   ]
  },
  {
   "cell_type": "code",
   "execution_count": 19,
   "metadata": {
    "scrolled": true
   },
   "outputs": [
    {
     "data": {
      "text/plain": [
       "0"
      ]
     },
     "execution_count": 19,
     "metadata": {},
     "output_type": "execute_result"
    }
   ],
   "source": [
    "get_covid_data(*(args[1]))['odr']"
   ]
  },
  {
   "cell_type": "code",
   "execution_count": 20,
   "metadata": {},
   "outputs": [
    {
     "data": {
      "text/plain": [
       "13392"
      ]
     },
     "execution_count": 20,
     "metadata": {},
     "output_type": "execute_result"
    }
   ],
   "source": [
    "get_covid_data(*(args[2]))['odr']"
   ]
  },
  {
   "cell_type": "code",
   "execution_count": 21,
   "metadata": {},
   "outputs": [
    {
     "data": {
      "text/plain": [
       "0"
      ]
     },
     "execution_count": 21,
     "metadata": {},
     "output_type": "execute_result"
    }
   ],
   "source": [
    "get_covid_data(*(args[3]))['odr']"
   ]
  },
  {
   "cell_type": "code",
   "execution_count": 22,
   "metadata": {
    "scrolled": true
   },
   "outputs": [
    {
     "data": {
      "text/plain": [
       "[{'kabko': '',\n",
       "  'tanggal': '2020-03-20',\n",
       "  'sampai': '2020-03-20',\n",
       "  'positif': {'total': 15,\n",
       "   'dirawat': 0,\n",
       "   'sembuh': 0,\n",
       "   'meninggal': 1,\n",
       "   'rumah': 0,\n",
       "   'gedung': 0,\n",
       "   'rs': 0},\n",
       "  'odp': {'total': 542,\n",
       "   'belum_dipantau': 0,\n",
       "   'dipantau': 0,\n",
       "   'selesai_dipantau': 0,\n",
       "   'meninggal': 0,\n",
       "   'rumah': 0,\n",
       "   'gedung': 0,\n",
       "   'rs': 0},\n",
       "  'pdp': {'total': 53,\n",
       "   'belum_diawasi': 0,\n",
       "   'dirawat': 0,\n",
       "   'sehat': 0,\n",
       "   'meninggal': 0,\n",
       "   'rumah': 0,\n",
       "   'gedung': 0,\n",
       "   'rs': 0},\n",
       "  'otg': 0,\n",
       "  'odr': 11025},\n",
       " {'kabko': '- (STATUS PENDING)',\n",
       "  'tanggal': '2020-03-20',\n",
       "  'sampai': '2020-03-20',\n",
       "  'positif': {'total': 0,\n",
       "   'dirawat': 0,\n",
       "   'sembuh': 0,\n",
       "   'meninggal': 0,\n",
       "   'rumah': 0,\n",
       "   'gedung': 0,\n",
       "   'rs': 0},\n",
       "  'odp': {'total': 0,\n",
       "   'belum_dipantau': 0,\n",
       "   'dipantau': 0,\n",
       "   'selesai_dipantau': 0,\n",
       "   'meninggal': 0,\n",
       "   'rumah': 0,\n",
       "   'gedung': 0,\n",
       "   'rs': 0},\n",
       "  'pdp': {'total': 0,\n",
       "   'belum_diawasi': 0,\n",
       "   'dirawat': 0,\n",
       "   'sehat': 0,\n",
       "   'meninggal': 0,\n",
       "   'rumah': 0,\n",
       "   'gedung': 0,\n",
       "   'rs': 0},\n",
       "  'otg': 0,\n",
       "  'odr': 0},\n",
       " {'kabko': '',\n",
       "  'tanggal': '2020-03-21',\n",
       "  'sampai': '2020-03-21',\n",
       "  'positif': {'total': 26,\n",
       "   'dirawat': 0,\n",
       "   'sembuh': 0,\n",
       "   'meninggal': 1,\n",
       "   'rumah': 0,\n",
       "   'gedung': 0,\n",
       "   'rs': 0},\n",
       "  'odp': {'total': 791,\n",
       "   'belum_dipantau': 0,\n",
       "   'dipantau': 0,\n",
       "   'selesai_dipantau': 0,\n",
       "   'meninggal': 0,\n",
       "   'rumah': 0,\n",
       "   'gedung': 0,\n",
       "   'rs': 0},\n",
       "  'pdp': {'total': 78,\n",
       "   'belum_diawasi': 0,\n",
       "   'dirawat': 0,\n",
       "   'sehat': 0,\n",
       "   'meninggal': 0,\n",
       "   'rumah': 0,\n",
       "   'gedung': 0,\n",
       "   'rs': 0},\n",
       "  'otg': 0,\n",
       "  'odr': 13392},\n",
       " {'kabko': '- (STATUS PENDING)',\n",
       "  'tanggal': '2020-03-21',\n",
       "  'sampai': '2020-03-21',\n",
       "  'positif': {'total': 0,\n",
       "   'dirawat': 0,\n",
       "   'sembuh': 0,\n",
       "   'meninggal': 0,\n",
       "   'rumah': 0,\n",
       "   'gedung': 0,\n",
       "   'rs': 0},\n",
       "  'odp': {'total': 0,\n",
       "   'belum_dipantau': 0,\n",
       "   'dipantau': 0,\n",
       "   'selesai_dipantau': 0,\n",
       "   'meninggal': 0,\n",
       "   'rumah': 0,\n",
       "   'gedung': 0,\n",
       "   'rs': 0},\n",
       "  'pdp': {'total': 0,\n",
       "   'belum_diawasi': 0,\n",
       "   'dirawat': 0,\n",
       "   'sehat': 0,\n",
       "   'meninggal': 0,\n",
       "   'rumah': 0,\n",
       "   'gedung': 0,\n",
       "   'rs': 0},\n",
       "  'otg': 0,\n",
       "  'odr': 0}]"
      ]
     },
     "execution_count": 22,
     "metadata": {},
     "output_type": "execute_result"
    }
   ],
   "source": [
    "#from multiprocess import Pool\n",
    "from multiprocessing.pool import ThreadPool as Pool\n",
    "\n",
    "max_process_count = 10\n",
    "\n",
    "#we prepare the pool\n",
    "#pool in this context is like collection of available tabs\n",
    "pool = Pool(processes=max_process_count)\n",
    "\n",
    "#now we execute it\n",
    "#we use starmap instead of map because there are multiple arguments\n",
    "output = pool.starmap(get_covid_data, args)\n",
    "\n",
    "pool.close()\n",
    "pool.join()\n",
    "\n",
    "output"
   ]
  },
  {
   "cell_type": "markdown",
   "metadata": {},
   "source": [
    "It works for multithreading. Below are for multiprocessing."
   ]
  },
  {
   "cell_type": "markdown",
   "metadata": {},
   "source": [
    "## Multiprocessing: Encapsulation"
   ]
  },
  {
   "cell_type": "markdown",
   "metadata": {},
   "source": [
    "It doesn't work. It seems to not recognize the function from outside its scope. Multiprocessing always come with extra headache. Yes, multiprocessing can't use variables from global scope, but I just realized that this includes global functions. Maybe wrapping them in something will help?"
   ]
  },
  {
   "cell_type": "code",
   "execution_count": null,
   "metadata": {},
   "outputs": [],
   "source": [
    "class Scrapper:\n",
    "    positif_fields = ['total', 'dirawat', 'sembuh', 'meninggal', 'rumah', 'gedung', 'rs']\n",
    "    odp_fields = ['total', 'belum_dipantau', 'dipantau', 'selesai_dipantau', 'meninggal', 'rumah', 'gedung', 'rs']\n",
    "    pdp_fields = ['total', 'belum_diawasi', 'dirawat', 'sehat', 'meninggal', 'rumah', 'gedung', 'rs']\n",
    "    \n",
    "    def __init__(self, endpoint=\"https://covid19dev.jatimprov.go.id/index.php/xweb/grafikpublik/\"):\n",
    "        self.endpoint = endpoint\n",
    "        \n",
    "        #multiprocess doesn't even recognize Scrapper type\n",
    "        self.positif_fields = Scrapper.positif_fields\n",
    "        self.odp_fields = Scrapper.odp_fields\n",
    "        self.pdp_fields = Scrapper.pdp_fields\n",
    "\n",
    "    def get_select_opts(self, r, query):\n",
    "        #find the select element\n",
    "        select = r.html.find(query)[0]\n",
    "        els = select.find(\"option\")\n",
    "        return els\n",
    "\n",
    "    def get_select_vals(self, r, query):\n",
    "        els = self.get_select_opts(r, query)\n",
    "        vals = [k.attrs[\"value\"] for k in els] \n",
    "        #we want to skip empty dates since they're useless, but not the empty kabko because it's the aggregate of all other kabko\n",
    "        #it's always the first item from a list\n",
    "        if 'kabko' not in query:\n",
    "            vals.pop(0)\n",
    "        return vals\n",
    "\n",
    "    def get_select_dicts(self, r, query):\n",
    "        els = self.get_select_opts(r, query)\n",
    "        dicts = [{k.attrs[\"value\"]:k.text} for k in els]\n",
    "        #we want to skip empty dates since they're useless, but not the empty kabko because it's the aggregate of all other kabko\n",
    "        #it's always the first item from a list\n",
    "        if 'kabko' not in query:\n",
    "            dicts.pop(0)\n",
    "        return dicts\n",
    "    \n",
    "    def parse_int(self, text):\n",
    "        if not text:\n",
    "            return 0\n",
    "        val = int(text)\n",
    "        return val\n",
    "\n",
    "    def parse_card(self, card, fields):\n",
    "        els = card.find(\"h3\")\n",
    "        vals = [self.parse_int(e.text) for e in els]\n",
    "        parsed = dict(zip(fields, vals))\n",
    "        return parsed\n",
    "    \n",
    "    def get_all_param_vals(self, dicts=False, params=['kabko', 'tanggal', 'sampai']):\n",
    "        session = HTMLSession()\n",
    "        r = session.get(self.endpoint)\n",
    "        f = self.get_select_vals\n",
    "        if dicts:\n",
    "            f = self.get_select_dicts\n",
    "        vals = dict([(p, f(r, \"#\"+p)) for p in params])\n",
    "        return vals\n",
    "    \n",
    "    def parse_date(self, date_str):\n",
    "        return datetime.strptime(date_str, \"%Y-%m-%d\").date()\n",
    "    \n",
    "    def format_date(self, date):\n",
    "        return datetime.strftime(date, \"%Y-%m-%d\")\n",
    "    \n",
    "    def get_new_dates(self, dates, after):\n",
    "        after = self.parse_date(after)\n",
    "        new_dates = [d for d in dates if d and parse_date(d) > after]\n",
    "        return new_dates\n",
    "    \n",
    "    def parse_card_single(self, card):\n",
    "        val = self.parse_int(card.find(\"h3\")[0].text)\n",
    "        return val\n",
    "    \n",
    "    def get_covid_data(self, kabko, tanggal, sampai=None):\n",
    "        from requests_html import HTMLSession\n",
    "        session = HTMLSession()\n",
    "        \n",
    "        #prepare the request\n",
    "        if not sampai:\n",
    "            sampai = tanggal\n",
    "        data = {\n",
    "            'kabko': kabko,\n",
    "            'tanggal': tanggal,\n",
    "            'sampai': sampai\n",
    "        }\n",
    "\n",
    "        #send request\n",
    "        r = session.post(self.endpoint, data=data)\n",
    "\n",
    "        #get cards\n",
    "        row = r.html.find(\".container .row\")[0]\n",
    "        card_groups = row.find(\"div.col-md-6\")[:2]\n",
    "        cards = card_groups[0].find(\"div.card\") + card_groups[1].find(\"div.card\")\n",
    "\n",
    "        #name the cards\n",
    "        positif_card = cards[0].find(\".card-block\")[0]\n",
    "        odp_card = cards[1].find(\".card-block\")[0]\n",
    "        pdp_card = cards[2].find(\".card-block\")[0]\n",
    "        otg_card = cards[3].find(\".card-body\")[0]\n",
    "        odr_card = cards[4].find(\".card-body\")[0]\n",
    "\n",
    "        #get and pack the values\n",
    "        vals = {\n",
    "            'kabko':kabko,\n",
    "            'tanggal':tanggal,\n",
    "            'sampai':sampai,\n",
    "            'positif':self.parse_card(odp_card, self.positif_fields),\n",
    "            'odp':self.parse_card(odp_card, self.odp_fields),\n",
    "            'pdp':self.parse_card(odp_card, self.pdp_fields),\n",
    "            'otg':self.parse_card_single(otg_card),\n",
    "            'odr':self.parse_card_single(odr_card)\n",
    "        }\n",
    "\n",
    "        return vals\n",
    "    \n",
    "    def get_covid_data_bulk(self, kabko, tanggal):\n",
    "        data = {k:{t:self.get_covid_data(k, t) for t in tanggal} for k in kabko}\n",
    "        return data\n",
    "    "
   ]
  },
  {
   "cell_type": "code",
   "execution_count": null,
   "metadata": {},
   "outputs": [],
   "source": [
    "scrapper = Scrapper()\n",
    "scrapper.get_covid_data(\"\", \"2020-03-22\")['odr']"
   ]
  },
  {
   "cell_type": "code",
   "execution_count": null,
   "metadata": {
    "scrolled": true
   },
   "outputs": [],
   "source": [
    "#prepare the args\n",
    "#get_covid_data(kabko, tanggal)\n",
    "args2 = [(k, t) for t in tanggal for k in kabko]\n",
    "\n",
    "args2"
   ]
  },
  {
   "cell_type": "code",
   "execution_count": null,
   "metadata": {},
   "outputs": [],
   "source": [
    "scrapper.get_covid_data(*(args2[0]))['odr']"
   ]
  },
  {
   "cell_type": "code",
   "execution_count": null,
   "metadata": {},
   "outputs": [],
   "source": [
    "scrapper.get_covid_data(*(args2[1]))['odr']"
   ]
  },
  {
   "cell_type": "code",
   "execution_count": null,
   "metadata": {},
   "outputs": [],
   "source": [
    "scrapper.get_covid_data(*(args2[2]))['odr']"
   ]
  },
  {
   "cell_type": "code",
   "execution_count": null,
   "metadata": {
    "scrolled": true
   },
   "outputs": [],
   "source": [
    "scrapper.get_covid_data(*(args2[3]))['odr']"
   ]
  },
  {
   "cell_type": "code",
   "execution_count": null,
   "metadata": {
    "scrolled": false
   },
   "outputs": [],
   "source": [
    "#we prepare the pool\n",
    "#pool in this context is like collection of available tabs\n",
    "pool = Pool(processes=max_process_count)\n",
    "\n",
    "#now we execute it\n",
    "#we use starmap instead of map because there are multiple arguments\n",
    "output = pool.starmap(scrapper.get_covid_data, args2)\n",
    "\n",
    "pool.close()\n",
    "pool.join()\n",
    "\n",
    "output"
   ]
  },
  {
   "cell_type": "markdown",
   "metadata": {},
   "source": [
    "Hell yeah. However, it has yet to fill the dict."
   ]
  },
  {
   "cell_type": "code",
   "execution_count": null,
   "metadata": {
    "scrolled": true
   },
   "outputs": [],
   "source": [
    "data"
   ]
  },
  {
   "cell_type": "code",
   "execution_count": null,
   "metadata": {
    "scrolled": true
   },
   "outputs": [],
   "source": [
    "for o in output:\n",
    "    data[o['kabko']][o['sampai']] = o\n",
    "\n",
    "data"
   ]
  },
  {
   "cell_type": "markdown",
   "metadata": {},
   "source": [
    "## Parallel Bulk Scraping"
   ]
  },
  {
   "cell_type": "markdown",
   "metadata": {},
   "source": [
    "Now we only need to put them in a function."
   ]
  },
  {
   "cell_type": "code",
   "execution_count": null,
   "metadata": {
    "scrolled": true
   },
   "outputs": [],
   "source": [
    "def get_covid_data_bulk_parallel(self, kabko, tanggal, max_process_count=10):\n",
    "    \n",
    "    #we might not need this after all, but whatever\n",
    "    data = {k:{t:None for t in tanggal} for k in kabko}\n",
    "    \n",
    "    #prepare the args\n",
    "    #get_covid_data(kabko, tanggal)\n",
    "    args = [(k, t) for t in tanggal for k in kabko]\n",
    "    \n",
    "    #we prepare the pool\n",
    "    #pool in this context is like collection of available tabs\n",
    "    pool = Pool(processes=max_process_count)\n",
    "\n",
    "    #now we execute it\n",
    "    #we use starmap instead of map because there are multiple arguments\n",
    "    output = pool.starmap(scrapper.get_covid_data, args)\n",
    "    pool.close()\n",
    "    pool.join()\n",
    "    \n",
    "    return output\n",
    "\n",
    "Scrapper.get_covid_data_bulk_parallel = get_covid_data_bulk_parallel\n",
    "scrapper = Scrapper()\n",
    "scrapper.get_covid_data_bulk_parallel"
   ]
  },
  {
   "cell_type": "markdown",
   "metadata": {},
   "source": [
    "Now we time it. We're getting 4 data so, let's be generous, it should be 2.5*4=10 seconds if it were synchronous."
   ]
  },
  {
   "cell_type": "code",
   "execution_count": null,
   "metadata": {
    "scrolled": true
   },
   "outputs": [],
   "source": [
    "f_timer(scrapper.get_covid_data_bulk_parallel, (kabko, tanggal))"
   ]
  },
  {
   "cell_type": "markdown",
   "metadata": {},
   "source": [
    "Wow, that's almost twice as fast as synchronous. Definitely an improvement worth the headache."
   ]
  },
  {
   "cell_type": "markdown",
   "metadata": {},
   "source": [
    "Next is the wrapper to return dictionaries."
   ]
  },
  {
   "cell_type": "code",
   "execution_count": null,
   "metadata": {},
   "outputs": [],
   "source": [
    "def get_covid_data_bulk_parallel_dict_kabko(self, kabko, tanggal, max_process_count=10):\n",
    "    output = self.get_covid_data_bulk_parallel(kabko, tanggal, max_process_count)\n",
    "    \n",
    "    for o in output:\n",
    "        data[o['kabko']][o['sampai']] = o\n",
    "\n",
    "    return data\n",
    "\n",
    "Scrapper.get_covid_data_bulk_parallel_dict_kabko = get_covid_data_bulk_parallel_dict_kabko\n",
    "scrapper = Scrapper()\n",
    "scrapper.get_covid_data_bulk_parallel_dict_kabko"
   ]
  },
  {
   "cell_type": "code",
   "execution_count": null,
   "metadata": {},
   "outputs": [],
   "source": [
    "def get_covid_data_bulk_parallel_dict_tanggal(self, kabko, tanggal, max_process_count=10):\n",
    "    output = self.get_covid_data_bulk_parallel(kabko, tanggal, max_process_count)\n",
    "    \n",
    "    for o in output:\n",
    "        data[o['sampai']][o['kabko']] = o\n",
    "\n",
    "    return data\n",
    "\n",
    "Scrapper.get_covid_data_bulk_parallel_dict_tanggal = get_covid_data_bulk_parallel_dict_tanggal\n",
    "scrapper = Scrapper()\n",
    "scrapper.get_covid_data_bulk_parallel_dict_tanggal"
   ]
  },
  {
   "cell_type": "code",
   "execution_count": null,
   "metadata": {
    "scrolled": false
   },
   "outputs": [],
   "source": [
    "scrapper.get_covid_data_bulk_parallel(kabko, tanggal)"
   ]
  },
  {
   "cell_type": "markdown",
   "metadata": {},
   "source": [
    "## Bulk Scraping: All"
   ]
  },
  {
   "cell_type": "markdown",
   "metadata": {},
   "source": [
    "Next, make one for all data. However we will not be testing this here since it will take a very long time."
   ]
  },
  {
   "cell_type": "code",
   "execution_count": null,
   "metadata": {
    "scrolled": true
   },
   "outputs": [],
   "source": [
    "def get_covid_data_all(self, parallel=True):\n",
    "    params = self.get_all_param_vals()\n",
    "    f = self.get_covid_data_bulk_parallel\n",
    "    if not parallel:\n",
    "        f = self.get_covid_data_bulk\n",
    "    data = f(params['kabko'], params['sampai'])\n",
    "    return data\n",
    "\n",
    "Scrapper.get_covid_data_all = get_covid_data_all\n",
    "scrapper = Scrapper()\n",
    "scrapper.get_covid_data_all"
   ]
  },
  {
   "cell_type": "markdown",
   "metadata": {},
   "source": [
    "## Bulk Scraping: New"
   ]
  },
  {
   "cell_type": "markdown",
   "metadata": {},
   "source": [
    "Finally, make one for new data. We'll test this one first before testing getting all data."
   ]
  },
  {
   "cell_type": "code",
   "execution_count": null,
   "metadata": {},
   "outputs": [],
   "source": [
    "def get_covid_data_new(self, after, parallel=True):\n",
    "    params = self.get_all_param_vals()\n",
    "    new_dates = get_new_dates(params['sampai'], after)\n",
    "    f = self.get_covid_data_bulk_parallel\n",
    "    if not parallel:\n",
    "        f = self.get_covid_data_bulk\n",
    "    data = f(params['kabko'], new_dates)\n",
    "    return data\n",
    "\n",
    "Scrapper.get_covid_data_new = get_covid_data_new\n",
    "scrapper = Scrapper()\n",
    "scrapper.get_covid_data_new"
   ]
  },
  {
   "cell_type": "markdown",
   "metadata": {},
   "source": [
    "Now let's test it. We will use the second to last date so we'll be getting data from the last date. This will take a few minutes (41 data)"
   ]
  },
  {
   "cell_type": "code",
   "execution_count": null,
   "metadata": {},
   "outputs": [],
   "source": [
    "yesterday = params['tanggal'][-2]\n",
    "start = time.time()\n",
    "data = scrapper.get_covid_data_new(yesterday)\n",
    "end = time.time()\n",
    "data"
   ]
  },
  {
   "cell_type": "code",
   "execution_count": null,
   "metadata": {},
   "outputs": [],
   "source": [
    "end-start"
   ]
  },
  {
   "cell_type": "markdown",
   "metadata": {},
   "source": [
    "Hey, that's really fast. Might want to adjust the max processor count."
   ]
  },
  {
   "cell_type": "markdown",
   "metadata": {},
   "source": [
    "This concludes the main data scraping. "
   ]
  },
  {
   "cell_type": "code",
   "execution_count": null,
   "metadata": {},
   "outputs": [],
   "source": []
  }
 ],
 "metadata": {
  "kernelspec": {
   "display_name": "Python 3",
   "language": "python",
   "name": "python3"
  },
  "language_info": {
   "codemirror_mode": {
    "name": "ipython",
    "version": 3
   },
   "file_extension": ".py",
   "mimetype": "text/x-python",
   "name": "python",
   "nbconvert_exporter": "python",
   "pygments_lexer": "ipython3",
   "version": "3.7.6"
  }
 },
 "nbformat": 4,
 "nbformat_minor": 4
}
