{
 "cells": [
  {
   "cell_type": "markdown",
   "metadata": {},
   "source": [
    "# Basic Scraping"
   ]
  },
  {
   "cell_type": "markdown",
   "metadata": {},
   "source": [
    "The website we want to scrap is https://covid19dev.jatimprov.go.id/xweb/grafikpublik/\n",
    "\n",
    "It's a normal web page, not js generated or any other fancy stuff. Likely built with php, but who cares.\n",
    "\n",
    "It accepts a post request with the following parameters:\n",
    "1. kabko, a select element with string value. It's the city from which data will be shown.\n",
    "2. tanggal, a select element with date string value with yyyy-mm-dd format. It's the start date of the data shown.\n",
    "3. sampai, just like tanggal, it's a select element with date string value with yyyy-mm-dd format. It's the end date of the data shown.\n",
    "\n",
    "They're all at the top of the page, in a form. The submit button has an onclick attached but the function is commented out, so we'll ignore that. "
   ]
  },
  {
   "cell_type": "markdown",
   "metadata": {},
   "source": [
    "The main values we want to get are the ones in the cards with various colors; positif, pdp, odp, etc, and their groups. We may want to get the age groups, gender groups, and other details, but they will increase the model complexity so they will have to wait. Aside from that, they're shown as graphs and their data are in the page as plain text javascript variables. That requires extra work and won't be used anytime soon so let's just save it for later.\n",
    "\n",
    "The parameter tanggal is more or less ignored for our main values. It's only used for some graphs. We'll just use the same value as sampai."
   ]
  },
  {
   "cell_type": "markdown",
   "metadata": {},
   "source": [
    "We'll be scraping with requests-html to get the values we need by good ol jquery query. To do that, we'll need to understand the page structure.\n",
    "\n",
    "There are few things we'll do:\n",
    "1. Send get request to first get our parameter values.\n",
    "2. Get all the available kabko\n",
    "3. Get all the available tanggal/sampai\n",
    "4. Send post request with specific parameters\n",
    "5. Get our main values"
   ]
  },
  {
   "cell_type": "markdown",
   "metadata": {},
   "source": [
    "Init. I'd like to use HTTP instead of HTTPS to avoid handshake, but they just keep redirecting me to HTTPS."
   ]
  },
  {
   "cell_type": "code",
   "execution_count": 23,
   "metadata": {},
   "outputs": [
    {
     "data": {
      "text/plain": [
       "<requests_html.HTMLSession at 0x7e457c8>"
      ]
     },
     "execution_count": 23,
     "metadata": {},
     "output_type": "execute_result"
    }
   ],
   "source": [
    "from requests_html import HTMLSession\n",
    "\n",
    "endpoint = \"https://covid19dev.jatimprov.go.id/xweb/grafikpublik/\"\n",
    "session = HTMLSession()\n",
    "session"
   ]
  },
  {
   "cell_type": "markdown",
   "metadata": {},
   "source": [
    "Get request"
   ]
  },
  {
   "cell_type": "code",
   "execution_count": 24,
   "metadata": {
    "scrolled": true
   },
   "outputs": [
    {
     "data": {
      "text/plain": [
       "<Response [200]>"
      ]
     },
     "execution_count": 24,
     "metadata": {},
     "output_type": "execute_result"
    }
   ],
   "source": [
    "r = session.get(endpoint)\n",
    "r"
   ]
  },
  {
   "cell_type": "markdown",
   "metadata": {},
   "source": [
    "## Getting Form Parameters: Select"
   ]
  },
  {
   "cell_type": "markdown",
   "metadata": {},
   "source": [
    "Get kabko values"
   ]
  },
  {
   "cell_type": "code",
   "execution_count": 25,
   "metadata": {},
   "outputs": [
    {
     "data": {
      "text/plain": [
       "<Element 'select' class=('form-control',) name='kabko' id='kabko'>"
      ]
     },
     "execution_count": 25,
     "metadata": {},
     "output_type": "execute_result"
    }
   ],
   "source": [
    "#find the select element\n",
    "select_kabko = r.html.find('#kabko')[0]\n",
    "select_kabko"
   ]
  },
  {
   "cell_type": "code",
   "execution_count": 26,
   "metadata": {},
   "outputs": [
    {
     "data": {
      "text/plain": [
       "[<Element 'option' value=''>,\n",
       " <Element 'option' value='- (STATUS PENDING)'>,\n",
       " <Element 'option' value='AWAK BUAH KAPAL'>,\n",
       " <Element 'option' value='KAB. BANGKALAN'>,\n",
       " <Element 'option' value='KAB. BANYUWANGI'>]"
      ]
     },
     "execution_count": 26,
     "metadata": {},
     "output_type": "execute_result"
    }
   ],
   "source": [
    "#get the childrens\n",
    "kabko_els = select_kabko.find(\"option\")\n",
    "kabko_els[:5]"
   ]
  },
  {
   "cell_type": "code",
   "execution_count": 27,
   "metadata": {},
   "outputs": [
    {
     "data": {
      "text/plain": [
       "['',\n",
       " '- (STATUS PENDING)',\n",
       " 'AWAK BUAH KAPAL',\n",
       " 'KAB. BANGKALAN',\n",
       " 'KAB. BANYUWANGI']"
      ]
     },
     "execution_count": 27,
     "metadata": {},
     "output_type": "execute_result"
    }
   ],
   "source": [
    "#The value and the text are the same except for the first item. \n",
    "#You can just take the value and make exception for the first, or make dictionary of each items\n",
    "#Python objects are basically dictionaries anyway\n",
    "kabko_vals = [k.attrs[\"value\"] for k in kabko_els]\n",
    "kabko_vals[:5]"
   ]
  },
  {
   "cell_type": "code",
   "execution_count": 28,
   "metadata": {},
   "outputs": [
    {
     "data": {
      "text/plain": [
       "[{'value': '', 'text': 'JAWA TIMUR'},\n",
       " {'value': '- (STATUS PENDING)', 'text': '- (STATUS PENDING)'},\n",
       " {'value': 'AWAK BUAH KAPAL', 'text': 'AWAK BUAH KAPAL'},\n",
       " {'value': 'KAB. BANGKALAN', 'text': 'KAB. BANGKALAN'},\n",
       " {'value': 'KAB. BANYUWANGI', 'text': 'KAB. BANYUWANGI'}]"
      ]
     },
     "execution_count": 28,
     "metadata": {},
     "output_type": "execute_result"
    }
   ],
   "source": [
    "kabko_dicts = [{'value':k.attrs[\"value\"], 'text':k.text} for k in kabko_els]\n",
    "kabko_dicts[:5]"
   ]
  },
  {
   "cell_type": "markdown",
   "metadata": {},
   "source": [
    "Tanggal and sampai are pretty much the same as kabko, so let's just make this into a function."
   ]
  },
  {
   "cell_type": "code",
   "execution_count": 29,
   "metadata": {},
   "outputs": [
    {
     "data": {
      "text/plain": [
       "[<Element 'option' value=''>,\n",
       " <Element 'option' value='2020-03-20'>,\n",
       " <Element 'option' value='2020-03-21'>,\n",
       " <Element 'option' value='2020-03-22'>,\n",
       " <Element 'option' value='2020-03-23'>]"
      ]
     },
     "execution_count": 29,
     "metadata": {},
     "output_type": "execute_result"
    }
   ],
   "source": [
    "def get_select_opts(r, query):\n",
    "    #find the select element\n",
    "    select = r.html.find(query)[0]\n",
    "    els = select.find(\"option\")\n",
    "    return els\n",
    "\n",
    "get_select_opts(r, \"#tanggal\")[:5]"
   ]
  },
  {
   "cell_type": "code",
   "execution_count": 48,
   "metadata": {},
   "outputs": [
    {
     "data": {
      "text/plain": [
       "['2020-03-20', '2020-03-21', '2020-03-22', '2020-03-23', '2020-03-24']"
      ]
     },
     "execution_count": 48,
     "metadata": {},
     "output_type": "execute_result"
    }
   ],
   "source": [
    "def get_select_vals(r, query):\n",
    "    els = get_select_opts(r, query)\n",
    "    vals = [k.attrs[\"value\"] for k in els] \n",
    "    #we want to skip empty dates since they're useless, but not the empty kabko because it's the aggregate of all other kabko\n",
    "    #it's always the first item from a list\n",
    "    if 'kabko' not in query:\n",
    "        vals.pop(0)\n",
    "    return vals\n",
    "\n",
    "tanggal_vals = get_select_vals(r, \"#tanggal\")\n",
    "sampai_vals = get_select_vals(r, \"#sampai\")\n",
    "sampai_vals[:5]"
   ]
  },
  {
   "cell_type": "code",
   "execution_count": 47,
   "metadata": {
    "scrolled": true
   },
   "outputs": [
    {
     "data": {
      "text/plain": [
       "[{'2020-03-20': '2020-03-20'},\n",
       " {'2020-03-21': '2020-03-21'},\n",
       " {'2020-03-22': '2020-03-22'},\n",
       " {'2020-03-23': '2020-03-23'},\n",
       " {'2020-03-24': '2020-03-24'}]"
      ]
     },
     "execution_count": 47,
     "metadata": {},
     "output_type": "execute_result"
    }
   ],
   "source": [
    "def get_select_dicts(r, query):\n",
    "    els = get_select_opts(r, query)\n",
    "    dicts = [{k.attrs[\"value\"]:k.text} for k in els]\n",
    "    #we want to skip empty dates since they're useless, but not the empty kabko because it's the aggregate of all other kabko\n",
    "    #it's always the first item from a list\n",
    "    if 'kabko' not in query:\n",
    "        dicts.pop(0)\n",
    "    return dicts\n",
    "\n",
    "tanggal_dicts = get_select_dicts(r, \"#tanggal\")\n",
    "sampai_dicts = get_select_dicts(r, \"#sampai\")\n",
    "sampai_dicts[:5]"
   ]
  },
  {
   "cell_type": "markdown",
   "metadata": {},
   "source": [
    "## Sending Post Request"
   ]
  },
  {
   "cell_type": "markdown",
   "metadata": {},
   "source": [
    "Now that we have our parameters, let's send post request. By default, the parameters used are the first kabko, the first tanggal, and the last sampai. Let's use the fourths instead."
   ]
  },
  {
   "cell_type": "code",
   "execution_count": 75,
   "metadata": {},
   "outputs": [
    {
     "data": {
      "text/plain": [
       "{'kabko': 'KAB. BANGKALAN', 'tanggal': '2020-03-23', 'sampai': '2020-03-23'}"
      ]
     },
     "execution_count": 75,
     "metadata": {},
     "output_type": "execute_result"
    }
   ],
   "source": [
    "#array index starts from 0 so the third item is at index 2\n",
    "payload = {\n",
    "    'kabko': kabko_vals[3],\n",
    "    'tanggal': tanggal_vals[3],\n",
    "    'sampai': sampai_vals[3]\n",
    "}\n",
    "payload"
   ]
  },
  {
   "cell_type": "code",
   "execution_count": 89,
   "metadata": {
    "scrolled": true
   },
   "outputs": [
    {
     "data": {
      "text/plain": [
       "<Response [200]>"
      ]
     },
     "execution_count": 89,
     "metadata": {},
     "output_type": "execute_result"
    }
   ],
   "source": [
    "r = session.post(endpoint, data=payload)\n",
    "r"
   ]
  },
  {
   "cell_type": "markdown",
   "metadata": {},
   "source": [
    "## Getting the Values"
   ]
  },
  {
   "cell_type": "markdown",
   "metadata": {},
   "source": [
    "Now getting the values is a bit tricky and prone to break due to page update. The cards don't have specific class or id and they're not even using rows properly. We'll have to make do with getting n-th childern for each value and hope they stay like that. requests-html seem to not implement jquery selectors fully because :eq and :nth-child are acting weird so we'll just select them the good old way."
   ]
  },
  {
   "cell_type": "code",
   "execution_count": 77,
   "metadata": {},
   "outputs": [
    {
     "data": {
      "text/plain": [
       "[<Element 'select' class=('form-control',) name='tanggal' id='tanggal'>]"
      ]
     },
     "execution_count": 77,
     "metadata": {},
     "output_type": "execute_result"
    }
   ],
   "source": [
    "row = r.html.find(\".container .row\")[0]\n",
    "row.find(\"#tanggal\")\n",
    "#check if the row has #tanggal, because that's the correct row according to inspect element"
   ]
  },
  {
   "cell_type": "markdown",
   "metadata": {},
   "source": [
    "The cards are split into two region, left and right. They're the first and second div with col-md-12 class."
   ]
  },
  {
   "cell_type": "code",
   "execution_count": 78,
   "metadata": {},
   "outputs": [
    {
     "data": {
      "text/plain": [
       "[<Element 'div' class=('col-md-6',) style='text-align:center;'>,\n",
       " <Element 'div' class=('col-md-6',) style='text-align:center;'>]"
      ]
     },
     "execution_count": 78,
     "metadata": {},
     "output_type": "execute_result"
    }
   ],
   "source": [
    "card_groups = row.find(\"div.col-md-6\")[:2]\n",
    "card_groups"
   ]
  },
  {
   "cell_type": "markdown",
   "metadata": {},
   "source": [
    "Let's extract the cards. They're found with query div.card. The + operator can merge lists."
   ]
  },
  {
   "cell_type": "code",
   "execution_count": 79,
   "metadata": {},
   "outputs": [
    {
     "data": {
      "text/plain": [
       "[<Element 'div' class=('card', 'text-white', 'bg-danger')>,\n",
       " <Element 'div' class=('card', 'text-white', 'bg-success')>,\n",
       " <Element 'div' class=('card', 'text-white', 'bg-warning')>,\n",
       " <Element 'div' class=('card', 'text-white', 'bg-secondary')>,\n",
       " <Element 'div' class=('card', 'text-white', 'bg-secondary')>]"
      ]
     },
     "execution_count": 79,
     "metadata": {},
     "output_type": "execute_result"
    }
   ],
   "source": [
    "cards = card_groups[0].find(\"div.card\") + card_groups[1].find(\"div.card\")\n",
    "cards"
   ]
  },
  {
   "cell_type": "markdown",
   "metadata": {},
   "source": [
    "Now that we have the cards, let's extract the values."
   ]
  },
  {
   "cell_type": "code",
   "execution_count": 80,
   "metadata": {},
   "outputs": [
    {
     "data": {
      "text/plain": [
       "<Element 'div' class=('card-block',)>"
      ]
     },
     "execution_count": 80,
     "metadata": {},
     "output_type": "execute_result"
    }
   ],
   "source": [
    "#name the cards and extract further\n",
    "#they're all in card-block except for the grey cards\n",
    "positif_card = cards[0].find(\".card-block\")[0]\n",
    "odp_card = cards[1].find(\".card-block\")[0]\n",
    "pdp_card = cards[2].find(\".card-block\")[0]\n",
    "otg_card = cards[3].find(\".card-body\")[0]\n",
    "odr_card = cards[4].find(\".card-body\")[0]\n",
    "\n",
    "pdp_card"
   ]
  },
  {
   "cell_type": "code",
   "execution_count": 81,
   "metadata": {},
   "outputs": [
    {
     "data": {
      "text/plain": [
       "<Element 'div' class=('card-body',)>"
      ]
     },
     "execution_count": 81,
     "metadata": {},
     "output_type": "execute_result"
    }
   ],
   "source": [
    "otg_card"
   ]
  },
  {
   "cell_type": "code",
   "execution_count": 82,
   "metadata": {},
   "outputs": [
    {
     "data": {
      "text/plain": [
       "7"
      ]
     },
     "execution_count": 82,
     "metadata": {},
     "output_type": "execute_result"
    }
   ],
   "source": [
    "#the values are all in h3\n",
    "#there should be 7 values\n",
    "positif_els = positif_card.find(\"h3\")\n",
    "len(positif_els)"
   ]
  },
  {
   "cell_type": "code",
   "execution_count": 83,
   "metadata": {
    "scrolled": true
   },
   "outputs": [
    {
     "data": {
      "text/plain": [
       "{'total': 10886,\n",
       " 'dirawat': 6452,\n",
       " 'sembuh': 3619,\n",
       " 'meninggal': 815,\n",
       " 'rumah': 2560,\n",
       " 'gedung': 948,\n",
       " 'rs': 2944}"
      ]
     },
     "execution_count": 83,
     "metadata": {},
     "output_type": "execute_result"
    }
   ],
   "source": [
    "#now let's wrap it up for positif\n",
    "#define fields, parse values, then just zip em\n",
    "positif_fields = ['total', 'dirawat', 'sembuh', 'meninggal', 'rumah', 'gedung', 'rs']\n",
    "positif_vals = [int(e.text) for e in positif_els]\n",
    "positif = dict(zip(positif_fields, positif_vals))\n",
    "positif"
   ]
  },
  {
   "cell_type": "markdown",
   "metadata": {},
   "source": [
    "Now let's make this a function instead"
   ]
  },
  {
   "cell_type": "code",
   "execution_count": 84,
   "metadata": {},
   "outputs": [
    {
     "data": {
      "text/plain": [
       "{'total': 29166,\n",
       " 'belum_dipantau': 0,\n",
       " 'dipantau': 5116,\n",
       " 'selesai_dipantau': 23885,\n",
       " 'meninggal': 165,\n",
       " 'rumah': 4863,\n",
       " 'gedung': 1,\n",
       " 'rs': 252}"
      ]
     },
     "execution_count": 84,
     "metadata": {},
     "output_type": "execute_result"
    }
   ],
   "source": [
    "def parse_card(card, fields):\n",
    "    els = card.find(\"h3\")\n",
    "    vals = [int(e.text) for e in els]\n",
    "    parsed = dict(zip(fields, vals))\n",
    "    return parsed\n",
    "\n",
    "odp_fields = ['total', 'belum_dipantau', 'dipantau', 'selesai_dipantau', 'meninggal', 'rumah', 'gedung', 'rs']\n",
    "odp = parse_card(odp_card, odp_fields)\n",
    "odp"
   ]
  },
  {
   "cell_type": "code",
   "execution_count": 85,
   "metadata": {},
   "outputs": [
    {
     "data": {
      "text/plain": [
       "{'total': 10137,\n",
       " 'belum_diawasi': 0,\n",
       " 'dirawat': 4374,\n",
       " 'sehat': 4554,\n",
       " 'meninggal': 1209,\n",
       " 'rumah': 1723,\n",
       " 'gedung': 3,\n",
       " 'rs': 2648}"
      ]
     },
     "execution_count": 85,
     "metadata": {},
     "output_type": "execute_result"
    }
   ],
   "source": [
    "pdp_fields = ['total', 'belum_diawasi', 'dirawat', 'sehat', 'meninggal', 'rumah', 'gedung', 'rs']\n",
    "pdp = parse_card(pdp_card, pdp_fields)\n",
    "pdp"
   ]
  },
  {
   "cell_type": "markdown",
   "metadata": {},
   "source": [
    "The rest are just single number, no need dicts."
   ]
  },
  {
   "cell_type": "code",
   "execution_count": 86,
   "metadata": {},
   "outputs": [
    {
     "data": {
      "text/plain": [
       "161636"
      ]
     },
     "execution_count": 86,
     "metadata": {},
     "output_type": "execute_result"
    }
   ],
   "source": [
    "otg = int(otg_card.find(\"h3\")[0].text)\n",
    "otg"
   ]
  },
  {
   "cell_type": "code",
   "execution_count": 87,
   "metadata": {
    "scrolled": true
   },
   "outputs": [
    {
     "data": {
      "text/plain": [
       "616435"
      ]
     },
     "execution_count": 87,
     "metadata": {},
     "output_type": "execute_result"
    }
   ],
   "source": [
    "odr = int(odr_card.find(\"h3\")[0].text)\n",
    "odr"
   ]
  },
  {
   "cell_type": "markdown",
   "metadata": {},
   "source": [
    "## Redirection Issue"
   ]
  },
  {
   "cell_type": "markdown",
   "metadata": {},
   "source": [
    "We got the values, alright. However, the values are incorrect. The values we got are the latest values for whole Jawa Timur. It's as if the post data weren't sent or were ignored."
   ]
  },
  {
   "cell_type": "code",
   "execution_count": 92,
   "metadata": {},
   "outputs": [
    {
     "data": {
      "text/plain": [
       "<PreparedRequest [GET]>"
      ]
     },
     "execution_count": 92,
     "metadata": {},
     "output_type": "execute_result"
    }
   ],
   "source": [
    "req = r.request\n",
    "req"
   ]
  },
  {
   "cell_type": "code",
   "execution_count": 93,
   "metadata": {},
   "outputs": [
    {
     "data": {
      "text/plain": [
       "{'User-Agent': 'Mozilla/5.0 (Macintosh; Intel Mac OS X 10_12_6) AppleWebKit/603.3.8 (KHTML, like Gecko) Version/10.1.2 Safari/603.3.8', 'Accept-Encoding': 'gzip, deflate', 'Accept': '*/*', 'Connection': 'keep-alive', 'Cookie': 'rand_session=vd7jaemk9hfif70fv7m0ik2i0m3hlkda'}"
      ]
     },
     "execution_count": 93,
     "metadata": {},
     "output_type": "execute_result"
    }
   ],
   "source": [
    "req.headers"
   ]
  },
  {
   "cell_type": "code",
   "execution_count": 94,
   "metadata": {},
   "outputs": [],
   "source": [
    "req.body"
   ]
  },
  {
   "cell_type": "code",
   "execution_count": 95,
   "metadata": {},
   "outputs": [
    {
     "data": {
      "text/plain": [
       "'GET'"
      ]
     },
     "execution_count": 95,
     "metadata": {},
     "output_type": "execute_result"
    }
   ],
   "source": [
    "req.method"
   ]
  },
  {
   "cell_type": "code",
   "execution_count": 96,
   "metadata": {},
   "outputs": [
    {
     "data": {
      "text/plain": [
       "'https://covid19dev.jatimprov.go.id/index.php/xweb/grafikpublik/'"
      ]
     },
     "execution_count": 96,
     "metadata": {},
     "output_type": "execute_result"
    }
   ],
   "source": [
    "req.url"
   ]
  },
  {
   "cell_type": "code",
   "execution_count": 97,
   "metadata": {},
   "outputs": [
    {
     "data": {
      "text/plain": [
       "[<Response [301]>]"
      ]
     },
     "execution_count": 97,
     "metadata": {},
     "output_type": "execute_result"
    }
   ],
   "source": [
    "r.history"
   ]
  },
  {
   "cell_type": "code",
   "execution_count": 98,
   "metadata": {},
   "outputs": [
    {
     "data": {
      "text/plain": [
       "<Response [301]>"
      ]
     },
     "execution_count": 98,
     "metadata": {},
     "output_type": "execute_result"
    }
   ],
   "source": [
    "r.history[0]"
   ]
  },
  {
   "cell_type": "code",
   "execution_count": 100,
   "metadata": {},
   "outputs": [
    {
     "data": {
      "text/plain": [
       "'<!DOCTYPE HTML PUBLIC \"-//IETF//DTD HTML 2.0//EN\">\\n<html><head>\\n<title>301 Moved Permanently</title>\\n</head><body>\\n<h1>Moved Permanently</h1>\\n<p>The document has moved <a href=\"https://covid19dev.jatimprov.go.id/index.php/xweb/grafikpublik/\">here</a>.</p>\\n</body></html>\\n'"
      ]
     },
     "execution_count": 100,
     "metadata": {},
     "output_type": "execute_result"
    }
   ],
   "source": [
    "r.history[0].text"
   ]
  },
  {
   "cell_type": "markdown",
   "metadata": {},
   "source": [
    "So it turns out the url we should be using is https://covid19dev.jatimprov.go.id/index.php/xweb/grafikpublik/"
   ]
  },
  {
   "cell_type": "code",
   "execution_count": 101,
   "metadata": {},
   "outputs": [
    {
     "data": {
      "text/plain": [
       "<Response [200]>"
      ]
     },
     "execution_count": 101,
     "metadata": {},
     "output_type": "execute_result"
    }
   ],
   "source": [
    "endpoint2 = \"https://covid19dev.jatimprov.go.id/index.php/xweb/grafikpublik/\"\n",
    "r = session.post(endpoint2, data=payload)\n",
    "r"
   ]
  },
  {
   "cell_type": "code",
   "execution_count": 102,
   "metadata": {},
   "outputs": [
    {
     "data": {
      "text/plain": [
       "[]"
      ]
     },
     "execution_count": 102,
     "metadata": {},
     "output_type": "execute_result"
    }
   ],
   "source": [
    "r.history"
   ]
  },
  {
   "cell_type": "markdown",
   "metadata": {},
   "source": [
    "Good. No redirect. Is it working though?"
   ]
  },
  {
   "cell_type": "code",
   "execution_count": 104,
   "metadata": {},
   "outputs": [
    {
     "data": {
      "text/plain": [
       "{'positif': {'total': 16,\n",
       "  'belum_dipantau': 0,\n",
       "  'dipantau': 1,\n",
       "  'selesai_dipantau': 15,\n",
       "  'meninggal': 0,\n",
       "  'rumah': 0,\n",
       "  'gedung': 0,\n",
       "  'rs': 0},\n",
       " 'odp': {'total': 16,\n",
       "  'belum_dipantau': 0,\n",
       "  'dipantau': 1,\n",
       "  'selesai_dipantau': 15,\n",
       "  'meninggal': 0,\n",
       "  'rumah': 0,\n",
       "  'gedung': 0,\n",
       "  'rs': 0},\n",
       " 'pdp': {'total': 16,\n",
       "  'belum_dipantau': 0,\n",
       "  'dipantau': 1,\n",
       "  'selesai_dipantau': 15,\n",
       "  'meninggal': 0,\n",
       "  'rumah': 0,\n",
       "  'gedung': 0,\n",
       "  'rs': 0}}"
      ]
     },
     "execution_count": 104,
     "metadata": {},
     "output_type": "execute_result"
    }
   ],
   "source": [
    "#get cards\n",
    "row = r.html.find(\".container .row\")[0]\n",
    "card_groups = row.find(\"div.col-md-6\")[:2]\n",
    "cards = card_groups[0].find(\"div.card\") + card_groups[1].find(\"div.card\")\n",
    "\n",
    "#name the cards\n",
    "positif_card = cards[0].find(\".card-block\")[0]\n",
    "odp_card = cards[1].find(\".card-block\")[0]\n",
    "pdp_card = cards[2].find(\".card-block\")[0]\n",
    "otg_card = cards[3].find(\".card-body\")[0]\n",
    "odr_card = cards[4].find(\".card-body\")[0]\n",
    "\n",
    "#get and pack the values\n",
    "vals = {\n",
    "    'positif':parse_card(odp_card, odp_fields),\n",
    "    'odp':parse_card(odp_card, odp_fields),\n",
    "    'pdp':parse_card(odp_card, odp_fields)\n",
    "}\n",
    "vals"
   ]
  },
  {
   "cell_type": "markdown",
   "metadata": {},
   "source": [
    "Nice. The low data count indicates this is data from early dates. "
   ]
  },
  {
   "cell_type": "markdown",
   "metadata": {},
   "source": [
    "This concludes the basic scraping"
   ]
  },
  {
   "cell_type": "code",
   "execution_count": null,
   "metadata": {},
   "outputs": [],
   "source": []
  }
 ],
 "metadata": {
  "kernelspec": {
   "display_name": "Python 3",
   "language": "python",
   "name": "python3"
  },
  "language_info": {
   "codemirror_mode": {
    "name": "ipython",
    "version": 3
   },
   "file_extension": ".py",
   "mimetype": "text/x-python",
   "name": "python",
   "nbconvert_exporter": "python",
   "pygments_lexer": "ipython3",
   "version": "3.7.6"
  }
 },
 "nbformat": 4,
 "nbformat_minor": 4
}
